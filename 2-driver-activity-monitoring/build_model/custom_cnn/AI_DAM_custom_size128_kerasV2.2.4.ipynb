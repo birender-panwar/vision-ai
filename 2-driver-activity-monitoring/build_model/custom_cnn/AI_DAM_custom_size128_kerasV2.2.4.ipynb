{
 "cells": [
  {
   "cell_type": "code",
   "execution_count": 1,
   "metadata": {},
   "outputs": [],
   "source": [
    "# import all necessary packages\n",
    "import warnings \n",
    "warnings.filterwarnings('ignore')\n",
    "\n",
    "import matplotlib.pyplot as plt\n",
    "%matplotlib inline\n",
    "\n",
    "import pandas as pd\n",
    "import numpy as np\n",
    "import seaborn as sns\n",
    "import time\n",
    "import os\n",
    "import cv2\n",
    "import h5py"
   ]
  },
  {
   "cell_type": "code",
   "execution_count": 2,
   "metadata": {},
   "outputs": [
    {
     "name": "stderr",
     "output_type": "stream",
     "text": [
      "Using TensorFlow backend.\n"
     ]
    }
   ],
   "source": [
    "from keras import models\n",
    "from keras import layers\n",
    "from keras import optimizers\n",
    "\n",
    "from keras.models import Sequential\n",
    "from keras.layers import Conv2D, MaxPooling2D, AveragePooling2D, ZeroPadding2D,LeakyReLU\n",
    "from keras.layers import Activation, Dense, Dropout, Flatten\n",
    "from keras.layers.normalization import BatchNormalization\n",
    "from keras.callbacks import ModelCheckpoint, EarlyStopping, TensorBoard\n",
    "from keras.losses import categorical_crossentropy\n",
    "from keras.models import Model\n",
    "from keras.models import load_model\n",
    "from keras.preprocessing import image\n",
    "from keras.utils.vis_utils import plot_model\n",
    "from mpl_toolkits.axes_grid1 import ImageGrid\n",
    "\n",
    "import tensorflow as tf"
   ]
  },
  {
   "cell_type": "code",
   "execution_count": 4,
   "metadata": {},
   "outputs": [
    {
     "data": {
      "text/plain": [
       "'2.2.4'"
      ]
     },
     "execution_count": 4,
     "metadata": {},
     "output_type": "execute_result"
    }
   ],
   "source": [
    "import keras\n",
    "keras.__version__"
   ]
  },
  {
   "cell_type": "code",
   "execution_count": 5,
   "metadata": {},
   "outputs": [
    {
     "data": {
      "text/html": [
       "<div>\n",
       "<style scoped>\n",
       "    .dataframe tbody tr th:only-of-type {\n",
       "        vertical-align: middle;\n",
       "    }\n",
       "\n",
       "    .dataframe tbody tr th {\n",
       "        vertical-align: top;\n",
       "    }\n",
       "\n",
       "    .dataframe thead th {\n",
       "        text-align: right;\n",
       "    }\n",
       "</style>\n",
       "<table border=\"1\" class=\"dataframe\">\n",
       "  <thead>\n",
       "    <tr style=\"text-align: right;\">\n",
       "      <th></th>\n",
       "      <th>class</th>\n",
       "      <th>left_desc</th>\n",
       "      <th>right_desc</th>\n",
       "    </tr>\n",
       "  </thead>\n",
       "  <tbody>\n",
       "    <tr>\n",
       "      <th>0</th>\n",
       "      <td>c0</td>\n",
       "      <td>safe driving</td>\n",
       "      <td>safe driving</td>\n",
       "    </tr>\n",
       "    <tr>\n",
       "      <th>1</th>\n",
       "      <td>c1</td>\n",
       "      <td>texting-right</td>\n",
       "      <td>texting-left</td>\n",
       "    </tr>\n",
       "    <tr>\n",
       "      <th>2</th>\n",
       "      <td>c2</td>\n",
       "      <td>talking on the phone-right</td>\n",
       "      <td>talking on the phone-left</td>\n",
       "    </tr>\n",
       "    <tr>\n",
       "      <th>3</th>\n",
       "      <td>c3</td>\n",
       "      <td>texting-left</td>\n",
       "      <td>texting-right</td>\n",
       "    </tr>\n",
       "    <tr>\n",
       "      <th>4</th>\n",
       "      <td>c4</td>\n",
       "      <td>talking on the phone-left</td>\n",
       "      <td>talking on the phone-right</td>\n",
       "    </tr>\n",
       "    <tr>\n",
       "      <th>5</th>\n",
       "      <td>c5</td>\n",
       "      <td>operating the radio</td>\n",
       "      <td>operating the radio</td>\n",
       "    </tr>\n",
       "    <tr>\n",
       "      <th>6</th>\n",
       "      <td>c6</td>\n",
       "      <td>drinking</td>\n",
       "      <td>drinking</td>\n",
       "    </tr>\n",
       "    <tr>\n",
       "      <th>7</th>\n",
       "      <td>c7</td>\n",
       "      <td>reaching behind</td>\n",
       "      <td>reaching behind</td>\n",
       "    </tr>\n",
       "    <tr>\n",
       "      <th>8</th>\n",
       "      <td>c8</td>\n",
       "      <td>hair and makeup</td>\n",
       "      <td>hair and makeup</td>\n",
       "    </tr>\n",
       "    <tr>\n",
       "      <th>9</th>\n",
       "      <td>c9</td>\n",
       "      <td>talking to passenger</td>\n",
       "      <td>talking to passenger</td>\n",
       "    </tr>\n",
       "  </tbody>\n",
       "</table>\n",
       "</div>"
      ],
      "text/plain": [
       "  class                   left_desc                  right_desc\n",
       "0    c0                safe driving                safe driving\n",
       "1    c1               texting-right                texting-left\n",
       "2    c2  talking on the phone-right   talking on the phone-left\n",
       "3    c3                texting-left               texting-right\n",
       "4    c4   talking on the phone-left  talking on the phone-right\n",
       "5    c5         operating the radio         operating the radio\n",
       "6    c6                    drinking                    drinking\n",
       "7    c7             reaching behind             reaching behind\n",
       "8    c8             hair and makeup             hair and makeup\n",
       "9    c9        talking to passenger        talking to passenger"
      ]
     },
     "execution_count": 5,
     "metadata": {},
     "output_type": "execute_result"
    }
   ],
   "source": [
    "# this is original image dataset for left hand driving\n",
    "class_list =  ['c0', 'c1', 'c2', 'c3', 'c4', 'c5', 'c6','c7', 'c8', 'c9']\n",
    "left_class_desc = ['safe driving', 'texting-right', 'talking on the phone-right', 'texting-left', 'talking on the phone-left', \n",
    "              'operating the radio', 'drinking', 'reaching behind', 'hair and makeup', 'talking to passenger']\n",
    "right_class_desc = ['safe driving', 'texting-left', 'talking on the phone-left', 'texting-right', 'talking on the phone-right', \n",
    "              'operating the radio', 'drinking', 'reaching behind', 'hair and makeup', 'talking to passenger']\n",
    "df_desc = pd.DataFrame({'class': class_list, 'left_desc': left_class_desc,  'right_desc': right_class_desc})\n",
    "df_desc"
   ]
  },
  {
   "cell_type": "code",
   "execution_count": 7,
   "metadata": {},
   "outputs": [],
   "source": [
    "#print(os.listdir(\"../input\"))"
   ]
  },
  {
   "cell_type": "code",
   "execution_count": 10,
   "metadata": {},
   "outputs": [],
   "source": [
    "#data_dir = '../input/imgs_right_real_d1_noise'   # For kernal\n",
    "#data_dir = '../input/imgs-right-cure-final-noise/imgs_right_cure_final_noise'   # For kernal\n",
    "\n",
    "data_dir = 'D:/my_learning_dataset/state_farms_drivers/imgs_right_cure_final_noise/'\n",
    "train_dir = os.path.join(data_dir, 'train')\n",
    "test_dir = os.path.join(data_dir, 'test')\n",
    "\n",
    "INPUT_SIZE = 128  # to experiment with higher pixel size\n",
    "#model_name = \"custom_model_rh_size224_bn_real_d1\"\n",
    "model_name = \"custom_model_size128_ssim_keras224\""
   ]
  },
  {
   "cell_type": "code",
   "execution_count": 11,
   "metadata": {},
   "outputs": [
    {
     "name": "stdout",
     "output_type": "stream",
     "text": [
      "c0: 1724 images\n",
      "c1: 1794 images\n",
      "c2: 1793 images\n",
      "c3: 1822 images\n",
      "c4: 1860 images\n",
      "c5: 1887 images\n",
      "c6: 1795 images\n",
      "c7: 1897 images\n",
      "c8: 1748 images\n",
      "c9: 1726 images\n"
     ]
    }
   ],
   "source": [
    "for classname in class_list:\n",
    "    print('{}: {} images'.format(classname, len(os.listdir(os.path.join(train_dir, classname)))))"
   ]
  },
  {
   "cell_type": "code",
   "execution_count": 12,
   "metadata": {},
   "outputs": [
    {
     "data": {
      "text/html": [
       "<div>\n",
       "<style scoped>\n",
       "    .dataframe tbody tr th:only-of-type {\n",
       "        vertical-align: middle;\n",
       "    }\n",
       "\n",
       "    .dataframe tbody tr th {\n",
       "        vertical-align: top;\n",
       "    }\n",
       "\n",
       "    .dataframe thead th {\n",
       "        text-align: right;\n",
       "    }\n",
       "</style>\n",
       "<table border=\"1\" class=\"dataframe\">\n",
       "  <thead>\n",
       "    <tr style=\"text-align: right;\">\n",
       "      <th></th>\n",
       "      <th>file</th>\n",
       "      <th>class_id</th>\n",
       "      <th>classname</th>\n",
       "    </tr>\n",
       "  </thead>\n",
       "  <tbody>\n",
       "    <tr>\n",
       "      <th>0</th>\n",
       "      <td>train/c0/p002_img_13073.jpg</td>\n",
       "      <td>0</td>\n",
       "      <td>c0</td>\n",
       "    </tr>\n",
       "    <tr>\n",
       "      <th>1</th>\n",
       "      <td>train/c0/p002_img_14949.jpg</td>\n",
       "      <td>0</td>\n",
       "      <td>c0</td>\n",
       "    </tr>\n",
       "  </tbody>\n",
       "</table>\n",
       "</div>"
      ],
      "text/plain": [
       "                          file  class_id classname\n",
       "0  train/c0/p002_img_13073.jpg         0        c0\n",
       "1  train/c0/p002_img_14949.jpg         0        c0"
      ]
     },
     "execution_count": 12,
     "metadata": {},
     "output_type": "execute_result"
    }
   ],
   "source": [
    "train = []\n",
    "for class_id, classname in enumerate(class_list):\n",
    "    for file in os.listdir(os.path.join(train_dir, classname)):\n",
    "        train.append(['train/{}/{}'.format(classname, file), class_id, classname])\n",
    "        \n",
    "train = pd.DataFrame(train, columns=['file', 'class_id', 'classname'])\n",
    "train.head(2)"
   ]
  },
  {
   "cell_type": "code",
   "execution_count": 13,
   "metadata": {},
   "outputs": [
    {
     "name": "stdout",
     "output_type": "stream",
     "text": [
      "num of classes:  10\n",
      "Training dataset shape:  (18046, 3)\n"
     ]
    }
   ],
   "source": [
    "num_classes = len(np.unique(train[\"class_id\"]))\n",
    "print(\"num of classes: \", num_classes)\n",
    "print(\"Training dataset shape: \",train.shape)"
   ]
  },
  {
   "cell_type": "code",
   "execution_count": 14,
   "metadata": {},
   "outputs": [],
   "source": [
    "from sklearn.model_selection import train_test_split\n",
    "from sklearn import metrics\n",
    "\n",
    "target = train[\"class_id\"]\n",
    "\n",
    "# split dataset into training and validation data with 70:30 split\n",
    "test_size = 0.30 # taking 70:30 training and test set\n",
    "seed = 7  # Random numbmer seeding for reapeatability of the code\n",
    "X_train, X_val, y_train, y_val = train_test_split(train, target, test_size=test_size, random_state=seed)\n",
    "\n",
    "# pls note X_train & X_test contain the records of image file.. later we will read these images\n",
    "# and converted into image data(i.e pixel) for further processing"
   ]
  },
  {
   "cell_type": "code",
   "execution_count": 15,
   "metadata": {},
   "outputs": [
    {
     "name": "stdout",
     "output_type": "stream",
     "text": [
      "Training shape: (12632, 3)\n",
      "Validation shape: (5414, 3)\n"
     ]
    }
   ],
   "source": [
    "print(\"Training shape: {}\".format(X_train.shape))\n",
    "print(\"Validation shape: {}\".format(X_val.shape))"
   ]
  },
  {
   "cell_type": "code",
   "execution_count": 16,
   "metadata": {},
   "outputs": [],
   "source": [
    "def read_image_keras(filepath, size):\n",
    "    img = image.load_img(filepath, target_size=size)\n",
    "    img = image.img_to_array(img) # convert the image pixels to a numpy array\n",
    "    # Convert the image / images into batch format\n",
    "    # expand_dims will add an extra dimension to the data at a particular axis\n",
    "    # We want the input matrix to the network to be of the form (batchsize, height, width, channels)\n",
    "    # Thus we add the extra dimension to the axis 0.\n",
    "    img = np.expand_dims(img, axis=0) # reshape data for the model\n",
    "    return img\n",
    "\n",
    "def read_image_cv2(filepath, size):\n",
    "    img = cv2.imread(filepath) #, cv2.IMREAD_GRAYSCALE\n",
    "    img = cv2.resize(img, size, interpolation = cv2.INTER_AREA) # resize image  \n",
    "    img = image.img_to_array(img) # convert the image pixels to a numpy array\n",
    "    # Convert the image / images into batch format\n",
    "    # expand_dims will add an extra dimension to the data at a particular axis\n",
    "    # We want the input matrix to the network to be of the form (batchsize, height, width, channels)\n",
    "    # Thus we add the extra dimension to the axis 0.\n",
    "    img = np.expand_dims(img, axis=0) # reshape data for the model\n",
    "    return img\n",
    "\n",
    "def vgg_read_image(filepath, size):\n",
    "    img = read_image_cv2(filepath, size)\n",
    "    img_preprocessed = preprocess_input(img.copy()) # # prepare the image for the VGG model\n",
    "    return img_preprocessed"
   ]
  },
  {
   "cell_type": "code",
   "execution_count": 17,
   "metadata": {},
   "outputs": [
    {
     "name": "stdout",
     "output_type": "stream",
     "text": [
      "execution time: 7.81 minutes\n",
      "Training Images shape: (12632, 128, 128, 3) size: 620,888,064\n"
     ]
    }
   ],
   "source": [
    "start = time.time()\n",
    "# reading image file for traing dataset\n",
    "X_train_features = np.zeros((len(X_train), INPUT_SIZE, INPUT_SIZE, 3), dtype='float32')\n",
    "for i, file in enumerate(X_train['file']):\n",
    "    filepath = os.path.join(data_dir, file)\n",
    "    X_train_features[i] = read_image_cv2(filepath, (INPUT_SIZE, INPUT_SIZE))\n",
    "\n",
    "end = time.time()\n",
    "execution_dur = end - start;\n",
    "print(\"execution time: %0.2f minutes\" %(execution_dur/60))\n",
    "print('Training Images shape: {} size: {:,}'.format(X_train_features.shape, X_train_features.size))"
   ]
  },
  {
   "cell_type": "code",
   "execution_count": 18,
   "metadata": {},
   "outputs": [
    {
     "name": "stdout",
     "output_type": "stream",
     "text": [
      "execution time: 3.36 minutes\n",
      "Validation Images shape: (5414, 128, 128, 3) size: 266,108,928\n"
     ]
    }
   ],
   "source": [
    "start = time.time()\n",
    "# reading image file for validation dataset\n",
    "X_val_features = np.zeros((len(X_val), INPUT_SIZE, INPUT_SIZE, 3), dtype='float32')\n",
    "for i, file in enumerate(X_val['file']):\n",
    "    filepath = os.path.join(data_dir, file)\n",
    "    X_val_features[i] = read_image_cv2(filepath, (INPUT_SIZE, INPUT_SIZE))\n",
    "\n",
    "end = time.time()\n",
    "execution_dur = end - start;\n",
    "print(\"execution time: %0.2f minutes\" %(execution_dur/60))\n",
    "print('Validation Images shape: {} size: {:,}'.format(X_val_features.shape, X_val_features.size))"
   ]
  },
  {
   "cell_type": "code",
   "execution_count": 19,
   "metadata": {},
   "outputs": [],
   "source": [
    "# normalize inputs from 0-255 to 0-1\n",
    "X_train_features = X_train_features.astype('float32')/255\n",
    "X_val_features = X_val_features.astype('float32')/255"
   ]
  },
  {
   "cell_type": "code",
   "execution_count": 20,
   "metadata": {},
   "outputs": [
    {
     "name": "stdout",
     "output_type": "stream",
     "text": [
      "(12632, 10)\n",
      "First 5 examples are: \n",
      " [[0. 0. 0. 0. 1. 0. 0. 0. 0. 0.]\n",
      " [0. 0. 0. 0. 0. 1. 0. 0. 0. 0.]\n",
      " [0. 1. 0. 0. 0. 0. 0. 0. 0. 0.]\n",
      " [0. 0. 0. 0. 0. 0. 0. 0. 0. 1.]\n",
      " [0. 0. 0. 1. 0. 0. 0. 0. 0. 0.]]\n"
     ]
    }
   ],
   "source": [
    "# dataset have 12 classes and each label is an integer between 0 and 11:\n",
    "y_train_cat = keras.utils.to_categorical(y_train, num_classes=num_classes)\n",
    "y_val_cat = keras.utils.to_categorical(y_val, num_classes=num_classes)\n",
    "\n",
    "print(y_train_cat.shape)\n",
    "print('First 5 examples are: \\n', y_train_cat[0:5])"
   ]
  },
  {
   "cell_type": "code",
   "execution_count": 21,
   "metadata": {},
   "outputs": [
    {
     "name": "stdout",
     "output_type": "stream",
     "text": [
      "Training data shape:\n",
      "Features:  (12632, 128, 128, 3)\n",
      "Target:  (12632, 10)\n",
      "\n",
      "Validation data shape:\n",
      "Features:  (5414, 128, 128, 3)\n",
      "Target:  (5414, 10)\n"
     ]
    }
   ],
   "source": [
    "# input size\n",
    "print(\"Training data shape:\")\n",
    "print(\"Features: \",X_train_features.shape)\n",
    "print(\"Target: \",y_train_cat.shape)\n",
    "\n",
    "# validation size\n",
    "print(\"\\nValidation data shape:\")\n",
    "print(\"Features: \",X_val_features.shape)\n",
    "print(\"Target: \",y_val_cat.shape)"
   ]
  },
  {
   "cell_type": "code",
   "execution_count": 22,
   "metadata": {},
   "outputs": [
    {
     "data": {
      "text/plain": [
       "(128, 128, 3)"
      ]
     },
     "execution_count": 22,
     "metadata": {},
     "output_type": "execute_result"
    }
   ],
   "source": [
    "# input image dimensions\n",
    "num_train, img_rows, img_cols, img_channels =  X_train_features.shape\n",
    "input_shape = (img_rows, img_cols, img_channels)\n",
    "input_shape"
   ]
  },
  {
   "cell_type": "code",
   "execution_count": 23,
   "metadata": {},
   "outputs": [],
   "source": [
    "\n",
    "# utility fxn to plot model history and accuracy for each epoch\n",
    "def plot_model_history(model_history):\n",
    "    fig, axs = plt.subplots(1,2,figsize=(15,5))\n",
    "    # summarize history for accuracy\n",
    "    axs[0].plot(range(1,len(model_history.history['acc'])+1),model_history.history['acc'])\n",
    "    axs[0].plot(range(1,len(model_history.history['val_acc'])+1),model_history.history['val_acc'])\n",
    "    axs[0].set_title('Model Accuracy')\n",
    "    axs[0].set_ylabel('Accuracy')\n",
    "    axs[0].set_xlabel('Epoch')\n",
    "    axs[0].set_xticks(np.arange(1,len(model_history.history['acc'])+1),len(model_history.history['acc'])/10)\n",
    "    axs[0].legend(['train', 'val'], loc='best')\n",
    "    # summarize history for loss\n",
    "    axs[1].plot(range(1,len(model_history.history['loss'])+1),model_history.history['loss'])\n",
    "    axs[1].plot(range(1,len(model_history.history['val_loss'])+1),model_history.history['val_loss'])\n",
    "    axs[1].set_title('Model Loss')\n",
    "    axs[1].set_ylabel('Loss')\n",
    "    axs[1].set_xlabel('Epoch')\n",
    "    axs[1].set_xticks(np.arange(1,len(model_history.history['loss'])+1),len(model_history.history['loss'])/10)\n",
    "    axs[1].legend(['train', 'val'], loc='best')\n",
    "    plt.show()\n",
    "    \n",
    "# utiliy fxn to get y_predict in 1D\n",
    "# y_predict is array of 12 classes for each cases.. let form the new data which give label value in 1D.. \n",
    "# this is required for classification matrix.. cm expect 1D array\n",
    "def get1D_y_predict(y_pred):\n",
    "    result = []\n",
    "    for i in range(len(y_pred)):\n",
    "        result.append(np.where(y_pred[i] == np.max(y_pred[i]))[0][0])\n",
    "    return result    \n",
    "\n",
    "def plot_cnf_matrix(cnf_matrix, name):\n",
    "    fig, ax = plt.subplots(1, figsize=(12,5))\n",
    "    ax = sns.heatmap(cnf_matrix, ax=ax, cmap=plt.cm.Greens, annot=True)\n",
    "    ax.set_xticklabels(class_list)\n",
    "    ax.set_yticklabels(class_list)\n",
    "    plt.title('Confusion Matrix')\n",
    "    plt.ylabel('True class')\n",
    "    plt.xlabel('Predicted class')\n",
    "    fig.savefig('{}.png'.format(name), dpi=300)\n",
    "    plt.show();\n",
    "    \n",
    "# use tensorboard callback which will passed in model.fit function.\n",
    "# utility fxn ffor Initializing Early stopping and Model chekpoint callbacks**\n",
    "def EarlyStopingModelCheckPoint():\n",
    "    #tensorboard = TensorBoard(log_dir=\".logs/{}\".format(time.time()))\n",
    "\n",
    "    #Adding Early stopping callback to the fit function is going to stop the training,\n",
    "    #if the val_loss is not going to change even '0.001' for more than 5 continous epochs\n",
    "\n",
    "    early_stopping = EarlyStopping(monitor='val_loss', min_delta=0.001, patience=3)\n",
    "\n",
    "    #Adding Model Checkpoint callback to the fit function is going to save the weights whenever val_loss achieves \n",
    "    # a new low value. Hence saving the best weights occurred during training\n",
    "\n",
    "    #model_checkpoints/model_checkpoint_{epoch:02d}_loss{val_loss:.4f}.h5\n",
    "    filename = \"{}_best.h5\".format(model_name)\n",
    "    model_checkpoint =  ModelCheckpoint(filename,\n",
    "                                           monitor='val_loss',\n",
    "                                           verbose=1,\n",
    "                                           save_best_only=True,\n",
    "                                           mode='auto',\n",
    "                                           period=1)\n",
    "    return early_stopping, model_checkpoint"
   ]
  },
  {
   "cell_type": "code",
   "execution_count": 33,
   "metadata": {},
   "outputs": [],
   "source": [
    "# Define the model\n",
    "# Define the model\n",
    "def create_model(stride):\n",
    "    model = Sequential()\n",
    "\n",
    "    # padding = 'same' return the output having same dimension as inout image\n",
    "    model.add(Conv2D(32, kernel_size=(stride, stride), padding='same', activation='relu', input_shape=input_shape, name='layer1_conv1'))\n",
    "    model.add(Conv2D(32, kernel_size=(stride, stride), activation='relu', name='layer1_conv2'))\n",
    "    model.add(MaxPooling2D(pool_size=(2, 2), name='layer1_pool'))\n",
    "    model.add(Dropout(rate=0.25, name='layer1_dropout'))\n",
    "\n",
    "    model.add(Conv2D(64, kernel_size=(stride, stride), padding='same', activation='relu', name='layer2_conv1'))\n",
    "    model.add(Conv2D(64, kernel_size=(stride, stride), activation='relu', name='layer2_conv2'))\n",
    "    model.add(MaxPooling2D(pool_size=(2, 2), name='layer2_pool'))\n",
    "    model.add(Dropout(rate=0.25, name='layer2_dropout'))\n",
    "    \n",
    "    model.add(Conv2D(128, kernel_size=(stride, stride), padding='same', activation='relu', name='layer3_conv1'))\n",
    "    model.add(Conv2D(128, kernel_size=(stride, stride), activation='relu', name='layer3_conv2'))\n",
    "    model.add(MaxPooling2D(pool_size=(2, 2), name='layer3_pool'))\n",
    "    model.add(Dropout(rate=0.25, name='layer3_dropout'))\n",
    "\n",
    "    #Flatten the layer\n",
    "    model.add(Flatten(name='flatten'))\n",
    "\n",
    "    model.add(Dense(512, activation='relu', name='fc1'))\n",
    "    model.add(Dropout(rate=0.25, name='fc1_dropout'))\n",
    "    model.add(Dense(256, activation='relu', name='fc2'))\n",
    "    model.add(Dropout(rate=0.25, name='fc2_dropout'))\n",
    "\n",
    "    # output layer 12 classes (class 0 to 11) - num of species\n",
    "    model.add(Dense(num_classes, activation='softmax', name='species'))\n",
    "    return model\n",
    "\n",
    "def create_model_224(stride):\n",
    "    model = Sequential()\n",
    "\n",
    "    # padding = 'same' return the output having same dimension as inout image\n",
    "    model.add(Conv2D(16, kernel_size=(1, 1), padding='same', activation='relu', input_shape=input_shape, name='layer1_conv1'))\n",
    "    model.add(Conv2D(16, kernel_size=(stride, stride), activation='relu', name='layer1_conv2'))\n",
    "    model.add(MaxPooling2D(pool_size=(2, 2), name='layer1_pool'))\n",
    "    model.add(Dropout(rate=0.3, name='layer1_dropout'))\n",
    "\n",
    "    model.add(Conv2D(32, kernel_size=(1, 1), padding='same', activation='relu', name='layer2_conv1'))\n",
    "    model.add(Conv2D(32, kernel_size=(stride, stride), activation='relu', name='layer2_conv2'))\n",
    "    model.add(MaxPooling2D(pool_size=(2, 2), name='layer2_pool'))\n",
    "    model.add(Dropout(rate=0.3, name='layer2_dropout'))\n",
    "    \n",
    "    model.add(Conv2D(64, kernel_size=(5, 5), padding='same', activation='relu', name='layer3_conv1'))\n",
    "    model.add(Conv2D(64, kernel_size=(5, 5), activation='relu', name='layer3_conv2'))\n",
    "    #model.add(Conv2D(64, kernel_size=(5, 5), activation='relu', name='layer3_conv3'))\n",
    "    model.add(MaxPooling2D(pool_size=(2, 2), name='layer3_pool'))\n",
    "    model.add(Dropout(rate=0.3, name='layer3_dropout'))\n",
    "    \n",
    "    model.add(Conv2D(256, kernel_size=(5, 5), padding='same', activation='relu', name='layer4_conv1'))\n",
    "    model.add(Conv2D(256, kernel_size=(5, 5), activation='relu', name='layer4_conv2'))\n",
    "    model.add(MaxPooling2D(pool_size=(2, 2), name='layer4_pool'))\n",
    "    model.add(Dropout(rate=0.3, name='layer4_dropout'))\n",
    "\n",
    "    #Flatten the layer\n",
    "    model.add(Flatten(name='flatten'))\n",
    "\n",
    "    model.add(Dense(128, activation='relu', name='fc1'))\n",
    "    model.add(Dropout(rate=0.3, name='fc1_dropout'))\n",
    "    #model.add(Dense(128, activation='relu', name='fc2'))\n",
    "    #model.add(Dropout(rate=0.25, name='fc2_dropout'))\n",
    "\n",
    "    # output layer 12 classes (class 0 to 11) - num of species\n",
    "    model.add(Dense(num_classes, activation='softmax', name='species'))\n",
    "    return model\n",
    "\n",
    "# Define the model\n",
    "def create_model_best_v1(stride1, stride2):\n",
    "    model = Sequential()\n",
    "\n",
    "    # padding = 'same' return the output having same dimension as inout image\n",
    "    model.add(Conv2D(16, kernel_size=(stride1, stride1), padding='same', activation='relu', \n",
    "                     input_shape=input_shape, name='layer1_conv1'))\n",
    "    model.add(MaxPooling2D(pool_size=(2, 2), name='layer1_pool'))\n",
    "    model.add(Dropout(rate=0.25, name='layer1_dropout'))\n",
    "\n",
    "    model.add(Conv2D(32, kernel_size=(stride1, stride1), padding='same', activation='relu', name='layer2_conv1'))\n",
    "    model.add(MaxPooling2D(pool_size=(2, 2), name='layer2_pool'))\n",
    "    model.add(Dropout(rate=0.25, name='layer2_dropout'))\n",
    "    \n",
    "    model.add(Conv2D(64, kernel_size=(stride2, stride2), padding='same', activation='relu', name='layer3_conv1'))\n",
    "    model.add(MaxPooling2D(pool_size=(2, 2), name='layer3_pool'))\n",
    "    model.add(Dropout(rate=0.25, name='layer3_dropout'))\n",
    "    \n",
    "    model.add(Conv2D(96, kernel_size=(stride2, stride2), padding='same', activation='relu', name='layer4_conv1'))\n",
    "    model.add(MaxPooling2D(pool_size=(2, 2), name='layer4_pool'))\n",
    "    model.add(Dropout(rate=0.25, name='layer4_dropout'))\n",
    "\n",
    "    model.add(Conv2D(128, kernel_size=(stride2, stride2), padding='same', activation='relu', name='layer5_conv1'))\n",
    "    model.add(MaxPooling2D(pool_size=(2, 2), name='layer5_pool'))\n",
    "    model.add(Dropout(rate=0.25, name='layer5_dropout'))\n",
    "\n",
    "    #Flatten the layer\n",
    "    model.add(Flatten(name='flatten'))\n",
    "\n",
    "    model.add(Dense(64, activation='relu', name='fc1'))\n",
    "    model.add(Dropout(rate=0.25, name='fc1_dropout'))\n",
    "\n",
    "    # output layer 12 classes (class 0 to 11) - num of species\n",
    "    model.add(Dense(num_classes, activation='softmax', name='species'))\n",
    "    return model\n",
    "\n",
    "def create_model_exp1(stride1,stride2):\n",
    "    model = Sequential()\n",
    "\n",
    "    # padding = 'same' return the output having same dimension as inout image\n",
    "    model.add(Conv2D(32, kernel_size=(stride1, stride1), padding='same', activation='relu', input_shape=input_shape, name='layer1_conv1'))\n",
    "    model.add(MaxPooling2D(pool_size=(2, 2), name='layer1_pool'))\n",
    "\n",
    "    model.add(Conv2D(64, kernel_size=(stride1, stride1), padding='same', activation='relu', name='layer2_conv1'))\n",
    "    model.add(MaxPooling2D(pool_size=(2, 2), name='layer2_pool'))\n",
    "    \n",
    "    model.add(Conv2D(128, kernel_size=(stride2, stride2), padding='same', activation='relu', name='layer3_conv1'))\n",
    "    model.add(MaxPooling2D(pool_size=(2, 2), name='layer3_pool'))\n",
    "\n",
    "    model.add(Conv2D(128, kernel_size=(stride2, stride2), padding='same', activation='relu', name='layer4_conv1'))\n",
    "    model.add(MaxPooling2D(pool_size=(2, 2), name='layer4_pool'))\n",
    "\n",
    "    #Flatten the layer\n",
    "    model.add(Flatten(name='flatten'))\n",
    "    model.add(Dropout(rate=0.5, name='fc1_dropout'))\n",
    "    model.add(BatchNormalization(name='fc1_bn'))\n",
    "    model.add(Dense(1024, activation='relu', name='fc1'))\n",
    "\n",
    "    # output layer 12 classes (class 0 to 11) - num of species\n",
    "    model.add(Dense(num_classes, activation='softmax', name='species'))\n",
    "    return model\n",
    "\n",
    "def create_model_exp2(stride1,stride2):\n",
    "    model = Sequential()\n",
    "\n",
    "    # padding = 'same' return the output having same dimension as inout image\n",
    "    model.add(Conv2D(32, kernel_size=(stride1, stride1), padding='same', activation='relu', input_shape=input_shape, name='layer1_conv1'))\n",
    "    model.add(MaxPooling2D(pool_size=(2, 2), name='layer1_pool'))\n",
    "\n",
    "    model.add(Conv2D(64, kernel_size=(stride1, stride1), padding='same', activation='relu', name='layer2_conv1'))\n",
    "    model.add(MaxPooling2D(pool_size=(2, 2), name='layer2_pool'))\n",
    "    \n",
    "    model.add(Conv2D(128, kernel_size=(stride2, stride2), padding='same', activation='relu', name='layer3_conv1'))\n",
    "    model.add(MaxPooling2D(pool_size=(2, 2), name='layer3_pool'))\n",
    "\n",
    "    model.add(Conv2D(128, kernel_size=(stride2, stride2), padding='same', activation='relu', name='layer4_conv1'))\n",
    "    model.add(MaxPooling2D(pool_size=(2, 2), name='layer4_pool'))\n",
    "\n",
    "    #Flatten the layer\n",
    "    model.add(Flatten(name='flatten'))\n",
    "    model.add(Dropout(rate=0.5, name='fc1_dropout'))\n",
    "    model.add(BatchNormalization(name='fc1_bn'))\n",
    "    model.add(Dense(1024, activation='relu', name='fc1'))\n",
    "\n",
    "    # output layer 12 classes (class 0 to 11) - num of species\n",
    "    model.add(Dense(num_classes, activation='softmax', name='species'))\n",
    "    return model"
   ]
  },
  {
   "cell_type": "code",
   "execution_count": 34,
   "metadata": {},
   "outputs": [],
   "source": [
    "# Compile the model\n",
    "#my_model = create_model_exp1(stride1=5, stride2=7)\n",
    "my_model = create_model_best_v1(stride1=3, stride2=5)\n",
    "optimizer=optimizers.RMSprop(lr=0.001)\n",
    "#optimizer = keras.optimizers.Adam(lr=0.0001)\n",
    "#optimizer = keras.optimizers.SGD(lr=0.0001)\n",
    "\n",
    "my_model.compile(optimizer=optimizer, loss='categorical_crossentropy', metrics=['acc'])"
   ]
  },
  {
   "cell_type": "code",
   "execution_count": 35,
   "metadata": {},
   "outputs": [
    {
     "name": "stdout",
     "output_type": "stream",
     "text": [
      "_________________________________________________________________\n",
      "Layer (type)                 Output Shape              Param #   \n",
      "=================================================================\n",
      "layer1_conv1 (Conv2D)        (None, 128, 128, 16)      448       \n",
      "_________________________________________________________________\n",
      "layer1_pool (MaxPooling2D)   (None, 64, 64, 16)        0         \n",
      "_________________________________________________________________\n",
      "layer1_dropout (Dropout)     (None, 64, 64, 16)        0         \n",
      "_________________________________________________________________\n",
      "layer2_conv1 (Conv2D)        (None, 64, 64, 32)        4640      \n",
      "_________________________________________________________________\n",
      "layer2_pool (MaxPooling2D)   (None, 32, 32, 32)        0         \n",
      "_________________________________________________________________\n",
      "layer2_dropout (Dropout)     (None, 32, 32, 32)        0         \n",
      "_________________________________________________________________\n",
      "layer3_conv1 (Conv2D)        (None, 32, 32, 64)        51264     \n",
      "_________________________________________________________________\n",
      "layer3_pool (MaxPooling2D)   (None, 16, 16, 64)        0         \n",
      "_________________________________________________________________\n",
      "layer3_dropout (Dropout)     (None, 16, 16, 64)        0         \n",
      "_________________________________________________________________\n",
      "layer4_conv1 (Conv2D)        (None, 16, 16, 96)        153696    \n",
      "_________________________________________________________________\n",
      "layer4_pool (MaxPooling2D)   (None, 8, 8, 96)          0         \n",
      "_________________________________________________________________\n",
      "layer4_dropout (Dropout)     (None, 8, 8, 96)          0         \n",
      "_________________________________________________________________\n",
      "layer5_conv1 (Conv2D)        (None, 8, 8, 128)         307328    \n",
      "_________________________________________________________________\n",
      "layer5_pool (MaxPooling2D)   (None, 4, 4, 128)         0         \n",
      "_________________________________________________________________\n",
      "layer5_dropout (Dropout)     (None, 4, 4, 128)         0         \n",
      "_________________________________________________________________\n",
      "flatten (Flatten)            (None, 2048)              0         \n",
      "_________________________________________________________________\n",
      "fc1 (Dense)                  (None, 64)                131136    \n",
      "_________________________________________________________________\n",
      "fc1_dropout (Dropout)        (None, 64)                0         \n",
      "_________________________________________________________________\n",
      "species (Dense)              (None, 10)                650       \n",
      "=================================================================\n",
      "Total params: 649,162\n",
      "Trainable params: 649,162\n",
      "Non-trainable params: 0\n",
      "_________________________________________________________________\n"
     ]
    }
   ],
   "source": [
    "# Show a summary of the model. Check the number of trainable parameters\n",
    "my_model.summary()"
   ]
  },
  {
   "cell_type": "code",
   "execution_count": 36,
   "metadata": {},
   "outputs": [
    {
     "name": "stdout",
     "output_type": "stream",
     "text": [
      "Train on 12632 samples, validate on 5414 samples\n",
      "Epoch 1/50\n",
      "12632/12632 [==============================] - 203s 16ms/step - loss: 1.9173 - acc: 0.2989 - val_loss: 1.1791 - val_acc: 0.6415\n",
      "\n",
      "Epoch 00001: val_loss improved from inf to 1.17907, saving model to custom_model_size128_ssim_keras224_best.h5\n",
      "Epoch 2/50\n",
      "12632/12632 [==============================] - 195s 15ms/step - loss: 0.8784 - acc: 0.7036 - val_loss: 0.7215 - val_acc: 0.7355\n",
      "\n",
      "Epoch 00002: val_loss improved from 1.17907 to 0.72151, saving model to custom_model_size128_ssim_keras224_best.h5\n",
      "Epoch 3/50\n",
      "12632/12632 [==============================] - 194s 15ms/step - loss: 0.5060 - acc: 0.8398 - val_loss: 0.2994 - val_acc: 0.9132\n",
      "\n",
      "Epoch 00003: val_loss improved from 0.72151 to 0.29940, saving model to custom_model_size128_ssim_keras224_best.h5\n",
      "Epoch 4/50\n",
      "12632/12632 [==============================] - 195s 15ms/step - loss: 0.3469 - acc: 0.8925 - val_loss: 0.2178 - val_acc: 0.9296\n",
      "\n",
      "Epoch 00004: val_loss improved from 0.29940 to 0.21778, saving model to custom_model_size128_ssim_keras224_best.h5\n",
      "Epoch 5/50\n",
      "12632/12632 [==============================] - 199s 16ms/step - loss: 0.2666 - acc: 0.9186 - val_loss: 0.2005 - val_acc: 0.9413\n",
      "\n",
      "Epoch 00005: val_loss improved from 0.21778 to 0.20048, saving model to custom_model_size128_ssim_keras224_best.h5\n",
      "Epoch 6/50\n",
      "12632/12632 [==============================] - 196s 15ms/step - loss: 0.2190 - acc: 0.9290 - val_loss: 0.1970 - val_acc: 0.9442\n",
      "\n",
      "Epoch 00006: val_loss improved from 0.20048 to 0.19696, saving model to custom_model_size128_ssim_keras224_best.h5\n",
      "Epoch 7/50\n",
      "12632/12632 [==============================] - 205s 16ms/step - loss: 0.1917 - acc: 0.9416 - val_loss: 0.1382 - val_acc: 0.9586\n",
      "\n",
      "Epoch 00007: val_loss improved from 0.19696 to 0.13816, saving model to custom_model_size128_ssim_keras224_best.h5\n",
      "Epoch 8/50\n",
      "12632/12632 [==============================] - 195s 15ms/step - loss: 0.1659 - acc: 0.9504 - val_loss: 0.1440 - val_acc: 0.9551\n",
      "\n",
      "Epoch 00008: val_loss did not improve from 0.13816\n",
      "Epoch 9/50\n",
      "12632/12632 [==============================] - 194s 15ms/step - loss: 0.1454 - acc: 0.9544 - val_loss: 0.1322 - val_acc: 0.9603\n",
      "\n",
      "Epoch 00009: val_loss improved from 0.13816 to 0.13222, saving model to custom_model_size128_ssim_keras224_best.h5\n",
      "Epoch 10/50\n",
      "12632/12632 [==============================] - 194s 15ms/step - loss: 0.1356 - acc: 0.9562 - val_loss: 0.1334 - val_acc: 0.9642\n",
      "\n",
      "Epoch 00010: val_loss did not improve from 0.13222\n",
      "Epoch 11/50\n",
      "12632/12632 [==============================] - 196s 16ms/step - loss: 0.1191 - acc: 0.9648 - val_loss: 0.1178 - val_acc: 0.9669\n",
      "\n",
      "Epoch 00011: val_loss improved from 0.13222 to 0.11776, saving model to custom_model_size128_ssim_keras224_best.h5\n",
      "Epoch 12/50\n",
      "12632/12632 [==============================] - 198s 16ms/step - loss: 0.1209 - acc: 0.9628 - val_loss: 0.1233 - val_acc: 0.9645\n",
      "\n",
      "Epoch 00012: val_loss did not improve from 0.11776\n",
      "Epoch 13/50\n",
      "12632/12632 [==============================] - 201s 16ms/step - loss: 0.1045 - acc: 0.9677 - val_loss: 0.1191 - val_acc: 0.9668\n",
      "\n",
      "Epoch 00013: val_loss did not improve from 0.11776\n",
      "Epoch 14/50\n",
      "12632/12632 [==============================] - 193s 15ms/step - loss: 0.1147 - acc: 0.9654 - val_loss: 0.1033 - val_acc: 0.9723\n",
      "\n",
      "Epoch 00014: val_loss improved from 0.11776 to 0.10327, saving model to custom_model_size128_ssim_keras224_best.h5\n",
      "Epoch 15/50\n",
      "12632/12632 [==============================] - 195s 15ms/step - loss: 0.0989 - acc: 0.9706 - val_loss: 0.1000 - val_acc: 0.9723\n",
      "\n",
      "Epoch 00015: val_loss improved from 0.10327 to 0.10004, saving model to custom_model_size128_ssim_keras224_best.h5\n",
      "Epoch 16/50\n",
      "12632/12632 [==============================] - 194s 15ms/step - loss: 0.0987 - acc: 0.9696 - val_loss: 0.1175 - val_acc: 0.9668\n",
      "\n",
      "Epoch 00016: val_loss did not improve from 0.10004\n",
      "Epoch 17/50\n",
      "12632/12632 [==============================] - 193s 15ms/step - loss: 0.0924 - acc: 0.9726 - val_loss: 0.1060 - val_acc: 0.9723\n",
      "\n",
      "Epoch 00017: val_loss did not improve from 0.10004\n",
      "Epoch 18/50\n",
      "12632/12632 [==============================] - 219s 17ms/step - loss: 0.0971 - acc: 0.9726 - val_loss: 0.1084 - val_acc: 0.9697\n",
      "\n",
      "Epoch 00018: val_loss did not improve from 0.10004\n",
      "Epoch 19/50\n",
      "12632/12632 [==============================] - 218s 17ms/step - loss: 0.0907 - acc: 0.9726 - val_loss: 0.1079 - val_acc: 0.9754\n",
      "\n",
      "Epoch 00019: val_loss did not improve from 0.10004\n",
      "Epoch 20/50\n",
      "12632/12632 [==============================] - 222s 18ms/step - loss: 0.0895 - acc: 0.9728 - val_loss: 0.1146 - val_acc: 0.9728\n",
      "\n",
      "Epoch 00020: val_loss did not improve from 0.10004\n"
     ]
    }
   ],
   "source": [
    "early_stopping, model_checkpoint = EarlyStopingModelCheckPoint()\n",
    "\n",
    "# Train the model\n",
    "start = time.time()\n",
    "\n",
    "history = my_model.fit(X_train_features, y_train_cat, # feature and target vector\n",
    "          validation_data=(X_val_features, y_val_cat), # data for evaluation\n",
    "          epochs=50,\n",
    "          batch_size=64, # Number of observations per batch\n",
    "          verbose=1,     # Print description after each epoch\n",
    "          callbacks=[early_stopping,model_checkpoint])\n",
    "\n",
    "end = time.time()\n",
    "execution_dur = end - start;"
   ]
  },
  {
   "cell_type": "code",
   "execution_count": 37,
   "metadata": {},
   "outputs": [
    {
     "name": "stdout",
     "output_type": "stream",
     "text": [
      "Model execution time: 66.70 minutes\n"
     ]
    }
   ],
   "source": [
    "print(\"Model execution time: %0.2f minutes\" %(execution_dur/60))"
   ]
  },
  {
   "cell_type": "code",
   "execution_count": 38,
   "metadata": {},
   "outputs": [
    {
     "data": {
      "image/png": "[encoded data removed]",
      "text/plain": [
       "<Figure size 1080x360 with 2 Axes>"
      ]
     },
     "metadata": {
      "needs_background": "light"
     },
     "output_type": "display_data"
    },
    {
     "name": "stdout",
     "output_type": "stream",
     "text": [
      "5414/5414 [==============================] - 31s 6ms/step\n",
      "\n",
      "Validation accuracy: 97.28\n"
     ]
    }
   ],
   "source": [
    "# plot model history\n",
    "plot_model_history(history)\n",
    "\n",
    "# compute accuracy for validation dataset\n",
    "val_loss, val_acc = my_model.evaluate(X_val_features, y_val_cat)\n",
    "print('\\nValidation accuracy: %0.2f' %(val_acc*100))"
   ]
  },
  {
   "cell_type": "code",
   "execution_count": 39,
   "metadata": {},
   "outputs": [
    {
     "name": "stdout",
     "output_type": "stream",
     "text": [
      "Validation accuracy: 97.28\n",
      "Classification Report: \n",
      "\n",
      "               precision    recall  f1-score   support\n",
      "\n",
      "           0       0.97      0.96      0.97       504\n",
      "           1       0.98      0.99      0.98       524\n",
      "           2       0.98      0.97      0.97       510\n",
      "           3       0.99      0.97      0.98       556\n",
      "           4       0.97      0.99      0.98       561\n",
      "           5       0.99      0.98      0.98       569\n",
      "           6       0.96      0.98      0.97       562\n",
      "           7       0.98      0.99      0.99       542\n",
      "           8       0.97      0.95      0.96       545\n",
      "           9       0.95      0.96      0.95       541\n",
      "\n",
      "   micro avg       0.97      0.97      0.97      5414\n",
      "   macro avg       0.97      0.97      0.97      5414\n",
      "weighted avg       0.97      0.97      0.97      5414\n",
      "\n"
     ]
    }
   ],
   "source": [
    "# predict the model\n",
    "y_predict = my_model.predict(X_val_features)\n",
    "y_predict1D = get1D_y_predict(y_predict)\n",
    "acc = metrics.accuracy_score(y_val,y_predict1D)\n",
    "print('Validation accuracy: %0.2f' %(acc*100))\n",
    "\n",
    "# classification report with model acciracy and F1 score\n",
    "cr = metrics.classification_report(y_val,y_predict1D)\n",
    "print(\"Classification Report: \\n\\n\", cr)"
   ]
  },
  {
   "cell_type": "code",
   "execution_count": 40,
   "metadata": {},
   "outputs": [
    {
     "data": {
      "image/png": "[encoded data removed]",
      "text/plain": [
       "<Figure size 864x360 with 2 Axes>"
      ]
     },
     "metadata": {
      "needs_background": "light"
     },
     "output_type": "display_data"
    }
   ],
   "source": [
    "# confusion matrix\n",
    "cm = metrics.confusion_matrix(y_val, y_predict1D)\n",
    "\n",
    "filename = \"{}_cnf\".format(model_name)\n",
    "plot_cnf_matrix(cm, filename)"
   ]
  },
  {
   "cell_type": "code",
   "execution_count": 41,
   "metadata": {},
   "outputs": [],
   "source": [
    "# Save model and weights for future use\n",
    "filename = \"{}.h5\".format(model_name)\n",
    "my_model.save(filename)\n",
    "\n",
    "filename = \"{}_weights.h5\".format(model_name)\n",
    "my_model.save_weights(filename)"
   ]
  },
  {
   "cell_type": "code",
   "execution_count": null,
   "metadata": {},
   "outputs": [],
   "source": []
  }
 ],
 "metadata": {
  "colab": {
   "collapsed_sections": [],
   "name": "R8_External_Lab_Questions.ipynb",
   "provenance": [],
   "version": "0.3.2"
  },
  "kernelspec": {
   "display_name": "Python 3",
   "language": "python",
   "name": "python3"
  },
  "language_info": {
   "codemirror_mode": {
    "name": "ipython",
    "version": 3
   },
   "file_extension": ".py",
   "mimetype": "text/x-python",
   "name": "python",
   "nbconvert_exporter": "python",
   "pygments_lexer": "ipython3",
   "version": "3.7.1"
  }
 },
 "nbformat": 4,
 "nbformat_minor": 1
}
