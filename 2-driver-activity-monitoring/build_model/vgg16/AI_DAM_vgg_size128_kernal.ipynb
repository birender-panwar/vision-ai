{
 "cells": [
  {
   "cell_type": "code",
   "execution_count": 90,
   "metadata": {},
   "outputs": [],
   "source": [
    "# import all necessary packages\n",
    "import warnings \n",
    "warnings.filterwarnings('ignore')\n",
    "\n",
    "import matplotlib.pyplot as plt\n",
    "%matplotlib inline\n",
    "\n",
    "import pandas as pd\n",
    "import numpy as np\n",
    "import seaborn as sns\n",
    "import time\n",
    "import os\n",
    "import cv2\n",
    "import h5py"
   ]
  },
  {
   "cell_type": "code",
   "execution_count": 91,
   "metadata": {},
   "outputs": [],
   "source": [
    "import keras\n",
    "from keras import models\n",
    "from keras import layers\n",
    "from keras import optimizers\n",
    "\n",
    "from keras.models import Sequential\n",
    "from keras.layers import Conv2D, MaxPooling2D, AveragePooling2D, ZeroPadding2D\n",
    "from keras.layers import Activation, Dense, Dropout, Flatten\n",
    "from keras.layers.normalization import BatchNormalization\n",
    "from keras.callbacks import ModelCheckpoint, EarlyStopping, TensorBoard\n",
    "from keras.losses import categorical_crossentropy\n",
    "from keras.models import Model\n",
    "from keras.models import load_model\n",
    "from keras.preprocessing import image\n",
    "from keras.utils.vis_utils import plot_model\n",
    "from mpl_toolkits.axes_grid1 import ImageGrid\n",
    "\n",
    "import tensorflow as tf"
   ]
  },
  {
   "cell_type": "code",
   "execution_count": 92,
   "metadata": {},
   "outputs": [],
   "source": [
    "from keras.applications.vgg16 import VGG16\n",
    "from keras.applications.vgg16 import preprocess_input\n",
    "from keras.applications.vgg16 import decode_predictions"
   ]
  },
  {
   "cell_type": "code",
   "execution_count": 93,
   "metadata": {},
   "outputs": [
    {
     "data": {
      "text/html": [
       "<div>\n",
       "<style scoped>\n",
       "    .dataframe tbody tr th:only-of-type {\n",
       "        vertical-align: middle;\n",
       "    }\n",
       "\n",
       "    .dataframe tbody tr th {\n",
       "        vertical-align: top;\n",
       "    }\n",
       "\n",
       "    .dataframe thead th {\n",
       "        text-align: right;\n",
       "    }\n",
       "</style>\n",
       "<table border=\"1\" class=\"dataframe\">\n",
       "  <thead>\n",
       "    <tr style=\"text-align: right;\">\n",
       "      <th></th>\n",
       "      <th>class</th>\n",
       "      <th>left_desc</th>\n",
       "      <th>right_desc</th>\n",
       "    </tr>\n",
       "  </thead>\n",
       "  <tbody>\n",
       "    <tr>\n",
       "      <td>0</td>\n",
       "      <td>c0</td>\n",
       "      <td>safe driving</td>\n",
       "      <td>safe driving</td>\n",
       "    </tr>\n",
       "    <tr>\n",
       "      <td>1</td>\n",
       "      <td>c1</td>\n",
       "      <td>texting-right</td>\n",
       "      <td>texting-left</td>\n",
       "    </tr>\n",
       "    <tr>\n",
       "      <td>2</td>\n",
       "      <td>c2</td>\n",
       "      <td>talking on the phone-right</td>\n",
       "      <td>talking on the phone-left</td>\n",
       "    </tr>\n",
       "    <tr>\n",
       "      <td>3</td>\n",
       "      <td>c3</td>\n",
       "      <td>texting-left</td>\n",
       "      <td>texting-right</td>\n",
       "    </tr>\n",
       "    <tr>\n",
       "      <td>4</td>\n",
       "      <td>c4</td>\n",
       "      <td>talking on the phone-left</td>\n",
       "      <td>talking on the phone-right</td>\n",
       "    </tr>\n",
       "    <tr>\n",
       "      <td>5</td>\n",
       "      <td>c5</td>\n",
       "      <td>operating the radio</td>\n",
       "      <td>operating the radio</td>\n",
       "    </tr>\n",
       "    <tr>\n",
       "      <td>6</td>\n",
       "      <td>c6</td>\n",
       "      <td>drinking</td>\n",
       "      <td>drinking</td>\n",
       "    </tr>\n",
       "    <tr>\n",
       "      <td>7</td>\n",
       "      <td>c7</td>\n",
       "      <td>reaching behind</td>\n",
       "      <td>reaching behind</td>\n",
       "    </tr>\n",
       "    <tr>\n",
       "      <td>8</td>\n",
       "      <td>c8</td>\n",
       "      <td>hair and makeup</td>\n",
       "      <td>hair and makeup</td>\n",
       "    </tr>\n",
       "    <tr>\n",
       "      <td>9</td>\n",
       "      <td>c9</td>\n",
       "      <td>talking to passenger</td>\n",
       "      <td>talking to passenger</td>\n",
       "    </tr>\n",
       "  </tbody>\n",
       "</table>\n",
       "</div>"
      ],
      "text/plain": [
       "  class                   left_desc                  right_desc\n",
       "0    c0                safe driving                safe driving\n",
       "1    c1               texting-right                texting-left\n",
       "2    c2  talking on the phone-right   talking on the phone-left\n",
       "3    c3                texting-left               texting-right\n",
       "4    c4   talking on the phone-left  talking on the phone-right\n",
       "5    c5         operating the radio         operating the radio\n",
       "6    c6                    drinking                    drinking\n",
       "7    c7             reaching behind             reaching behind\n",
       "8    c8             hair and makeup             hair and makeup\n",
       "9    c9        talking to passenger        talking to passenger"
      ]
     },
     "execution_count": 93,
     "metadata": {},
     "output_type": "execute_result"
    }
   ],
   "source": [
    "# this is original image dataset for left hand driving\n",
    "class_list =  ['c0', 'c1', 'c2', 'c3', 'c4', 'c5', 'c6','c7', 'c8', 'c9']\n",
    "left_class_desc = ['safe driving', 'texting-right', 'talking on the phone-right', 'texting-left', 'talking on the phone-left', \n",
    "              'operating the radio', 'drinking', 'reaching behind', 'hair and makeup', 'talking to passenger']\n",
    "right_class_desc = ['safe driving', 'texting-left', 'talking on the phone-left', 'texting-right', 'talking on the phone-right', \n",
    "              'operating the radio', 'drinking', 'reaching behind', 'hair and makeup', 'talking to passenger']\n",
    "df_desc = pd.DataFrame({'class': class_list, 'left_desc': left_class_desc,  'right_desc': right_class_desc})\n",
    "df_desc"
   ]
  },
  {
   "cell_type": "markdown",
   "metadata": {},
   "source": [
    "*** removed claas: 'hair and makeup', 'talking to passenger'***"
   ]
  },
  {
   "cell_type": "markdown",
   "metadata": {},
   "source": [
    "# this is original image dataset for left hand driving\n",
    "class_list =  ['c0', 'c1', 'c3']\n",
    "left_class_desc = ['safe', 'on-phone', 'talk']\n",
    "right_class_desc = ['safe', 'on-phone', 'talk']\n",
    "df_desc = pd.DataFrame({'class': class_list, 'left_desc': left_class_desc,  'right_desc': right_class_desc})\n",
    "df_desc"
   ]
  },
  {
   "cell_type": "markdown",
   "metadata": {},
   "source": [
    "# this is original image dataset for left hand driving\n",
    "class_list =  ['c0', 'c1', 'c3']\n",
    "left_class_desc = ['safe', 'on-phone', 'talk']\n",
    "right_class_desc = ['safe', 'on-phone', 'talk']\n",
    "df_desc = pd.DataFrame({'class': class_list, 'left_desc': left_class_desc,  'right_desc': right_class_desc})\n",
    "df_desc"
   ]
  },
  {
   "cell_type": "code",
   "execution_count": 94,
   "metadata": {},
   "outputs": [
    {
     "name": "stdout",
     "output_type": "stream",
     "text": [
      "['imgs-right-4class', 'imgs-right-3class', 'imgs-right-cure-final-noise']\n"
     ]
    }
   ],
   "source": [
    "print(os.listdir(\"../input\"))"
   ]
  },
  {
   "cell_type": "code",
   "execution_count": 95,
   "metadata": {},
   "outputs": [],
   "source": [
    "#data_dir = '../input/imgs-right-d10-cure-noise1/imgs_right_d10_cure_noise'   # For kernal\n",
    "#data_dir = '../input/imgs-right-3class/imgs_right_3class'   # For kernal\n",
    "data_dir = '../input/imgs-right-cure-final-noise/imgs_right_cure_final_noise'   # For kernal\n",
    "\n",
    "#data_dir = 'D:/my_learning_dataset/state_farms_drivers/imgs_right_4class' \n",
    "\n",
    "#data_dir = 'D:/my_learning_dataset/state_farms_drivers/imgs_right_created_noise/'\n",
    "train_dir = os.path.join(data_dir, 'train')\n",
    "test_dir = os.path.join(data_dir, 'test')\n",
    "\n",
    "INPUT_SIZE = 128  # to experiment with higher pixel size\n",
    "model_name = \"vgg16_model_ssim_size128\""
   ]
  },
  {
   "cell_type": "code",
   "execution_count": 96,
   "metadata": {},
   "outputs": [
    {
     "name": "stdout",
     "output_type": "stream",
     "text": [
      "c0: 1724 images\n",
      "c1: 1794 images\n",
      "c2: 1793 images\n",
      "c3: 1822 images\n",
      "c4: 1860 images\n",
      "c5: 1887 images\n",
      "c6: 1795 images\n",
      "c7: 1897 images\n",
      "c8: 1748 images\n",
      "c9: 1726 images\n"
     ]
    }
   ],
   "source": [
    "for classname in class_list:\n",
    "    print('{}: {} images'.format(classname, len(os.listdir(os.path.join(train_dir, classname)))))"
   ]
  },
  {
   "cell_type": "code",
   "execution_count": 97,
   "metadata": {},
   "outputs": [
    {
     "data": {
      "text/html": [
       "<div>\n",
       "<style scoped>\n",
       "    .dataframe tbody tr th:only-of-type {\n",
       "        vertical-align: middle;\n",
       "    }\n",
       "\n",
       "    .dataframe tbody tr th {\n",
       "        vertical-align: top;\n",
       "    }\n",
       "\n",
       "    .dataframe thead th {\n",
       "        text-align: right;\n",
       "    }\n",
       "</style>\n",
       "<table border=\"1\" class=\"dataframe\">\n",
       "  <thead>\n",
       "    <tr style=\"text-align: right;\">\n",
       "      <th></th>\n",
       "      <th>file</th>\n",
       "      <th>class_id</th>\n",
       "      <th>classname</th>\n",
       "    </tr>\n",
       "  </thead>\n",
       "  <tbody>\n",
       "    <tr>\n",
       "      <td>0</td>\n",
       "      <td>train/c0/p039_img_33009.jpg</td>\n",
       "      <td>0</td>\n",
       "      <td>c0</td>\n",
       "    </tr>\n",
       "    <tr>\n",
       "      <td>1</td>\n",
       "      <td>train/c0/p052_img_20249.jpg</td>\n",
       "      <td>0</td>\n",
       "      <td>c0</td>\n",
       "    </tr>\n",
       "  </tbody>\n",
       "</table>\n",
       "</div>"
      ],
      "text/plain": [
       "                          file  class_id classname\n",
       "0  train/c0/p039_img_33009.jpg         0        c0\n",
       "1  train/c0/p052_img_20249.jpg         0        c0"
      ]
     },
     "execution_count": 97,
     "metadata": {},
     "output_type": "execute_result"
    }
   ],
   "source": [
    "train = []\n",
    "for class_id, classname in enumerate(class_list):\n",
    "    for file in os.listdir(os.path.join(train_dir, classname)):\n",
    "        train.append(['train/{}/{}'.format(classname, file), class_id, classname])\n",
    "        \n",
    "train = pd.DataFrame(train, columns=['file', 'class_id', 'classname'])\n",
    "train.head(2)"
   ]
  },
  {
   "cell_type": "code",
   "execution_count": 98,
   "metadata": {},
   "outputs": [
    {
     "name": "stdout",
     "output_type": "stream",
     "text": [
      "num of classes:  10\n",
      "Training dataset shape:  (18046, 3)\n"
     ]
    }
   ],
   "source": [
    "num_classes = len(np.unique(train[\"class_id\"]))\n",
    "print(\"num of classes: \", num_classes)\n",
    "print(\"Training dataset shape: \",train.shape)"
   ]
  },
  {
   "cell_type": "markdown",
   "metadata": {},
   "source": [
    "test = []\n",
    "for file in os.listdir(test_dir):\n",
    "    test.append(['test/{}'.format(file), file])\n",
    "test = pd.DataFrame(test, columns=['filepath', 'file'])\n",
    "print(\"Testing dataset shape: \", test.shape)\n",
    "test.head(2)"
   ]
  },
  {
   "cell_type": "code",
   "execution_count": 99,
   "metadata": {},
   "outputs": [],
   "source": [
    "from sklearn.model_selection import train_test_split\n",
    "from sklearn import metrics\n",
    "\n",
    "target = train[\"class_id\"]\n",
    "\n",
    "# split dataset into training and validation data with 70:30 split\n",
    "test_size = 0.30 # taking 70:30 training and test set\n",
    "seed = 7  # Random numbmer seeding for reapeatability of the code\n",
    "X_train, X_val, y_train, y_val = train_test_split(train, target, test_size=test_size, random_state=seed)\n",
    "\n",
    "# pls note X_train & X_test contain the records of image file.. later we will read these images\n",
    "# and converted into image data(i.e pixel) for further processing"
   ]
  },
  {
   "cell_type": "code",
   "execution_count": 100,
   "metadata": {},
   "outputs": [
    {
     "name": "stdout",
     "output_type": "stream",
     "text": [
      "Training shape: (12632, 3)\n",
      "Validation shape: (5414, 3)\n"
     ]
    }
   ],
   "source": [
    "print(\"Training shape: {}\".format(X_train.shape))\n",
    "print(\"Validation shape: {}\".format(X_val.shape))"
   ]
  },
  {
   "cell_type": "code",
   "execution_count": 101,
   "metadata": {},
   "outputs": [],
   "source": [
    "def read_image_keras(filepath, size):\n",
    "    img = image.load_img(filepath, target_size=size)\n",
    "    img = image.img_to_array(img) # convert the image pixels to a numpy array\n",
    "    # Convert the image / images into batch format\n",
    "    # expand_dims will add an extra dimension to the data at a particular axis\n",
    "    # We want the input matrix to the network to be of the form (batchsize, height, width, channels)\n",
    "    # Thus we add the extra dimension to the axis 0.\n",
    "    img = np.expand_dims(img, axis=0) # reshape data for the model\n",
    "    return img\n",
    "\n",
    "def read_image_cv2(filepath, size):\n",
    "    img = cv2.imread(filepath) #, cv2.IMREAD_GRAYSCALE\n",
    "    img = cv2.resize(img, size, interpolation = cv2.INTER_AREA) # resize image  \n",
    "    img = image.img_to_array(img) # convert the image pixels to a numpy array\n",
    "    # Convert the image / images into batch format\n",
    "    # expand_dims will add an extra dimension to the data at a particular axis\n",
    "    # We want the input matrix to the network to be of the form (batchsize, height, width, channels)\n",
    "    # Thus we add the extra dimension to the axis 0.\n",
    "    img = np.expand_dims(img, axis=0) # reshape data for the model\n",
    "    return img\n",
    "\n",
    "def vgg_read_image(filepath, size):\n",
    "    img = read_image_cv2(filepath, size)\n",
    "    img_preprocessed = preprocess_input(img.copy()) # # prepare the image for the VGG model\n",
    "    return img_preprocessed"
   ]
  },
  {
   "cell_type": "code",
   "execution_count": 102,
   "metadata": {},
   "outputs": [
    {
     "name": "stdout",
     "output_type": "stream",
     "text": [
      "execution time: 1.28 minutes\n",
      "Training Images shape: (12632, 128, 128, 3) size: 620,888,064\n"
     ]
    }
   ],
   "source": [
    "start = time.time()\n",
    "# reading image file for traing dataset\n",
    "X_train_features = np.zeros((len(X_train), INPUT_SIZE, INPUT_SIZE, 3), dtype='float32')\n",
    "for i, file in enumerate(X_train['file']):\n",
    "    filepath = os.path.join(data_dir, file)\n",
    "    X_train_features[i] = vgg_read_image(filepath, (INPUT_SIZE, INPUT_SIZE))\n",
    "\n",
    "end = time.time()\n",
    "execution_dur = end - start;\n",
    "print(\"execution time: %0.2f minutes\" %(execution_dur/60))\n",
    "print('Training Images shape: {} size: {:,}'.format(X_train_features.shape, X_train_features.size))"
   ]
  },
  {
   "cell_type": "code",
   "execution_count": 103,
   "metadata": {},
   "outputs": [
    {
     "name": "stdout",
     "output_type": "stream",
     "text": [
      "execution time: 0.65 minutes\n",
      "Validation Images shape: (5414, 128, 128, 3) size: 266,108,928\n"
     ]
    }
   ],
   "source": [
    "start = time.time()\n",
    "# reading image file for validation dataset\n",
    "X_val_features = np.zeros((len(X_val), INPUT_SIZE, INPUT_SIZE, 3), dtype='float32')\n",
    "for i, file in enumerate(X_val['file']):\n",
    "    filepath = os.path.join(data_dir, file)\n",
    "    X_val_features[i] = vgg_read_image(filepath, (INPUT_SIZE, INPUT_SIZE))\n",
    "\n",
    "end = time.time()\n",
    "execution_dur = end - start;\n",
    "print(\"execution time: %0.2f minutes\" %(execution_dur/60))\n",
    "print('Validation Images shape: {} size: {:,}'.format(X_val_features.shape, X_val_features.size))"
   ]
  },
  {
   "cell_type": "code",
   "execution_count": 104,
   "metadata": {},
   "outputs": [],
   "source": [
    "# normalize inputs from 0-255 to 0-1\n",
    "X_train_features = X_train_features.astype('float32')/255\n",
    "X_val_features = X_val_features.astype('float32')/255"
   ]
  },
  {
   "cell_type": "code",
   "execution_count": 105,
   "metadata": {},
   "outputs": [
    {
     "name": "stdout",
     "output_type": "stream",
     "text": [
      "(12632, 10)\n",
      "First 5 examples are: \n",
      " [[0. 0. 0. 0. 1. 0. 0. 0. 0. 0.]\n",
      " [0. 0. 0. 0. 0. 1. 0. 0. 0. 0.]\n",
      " [0. 1. 0. 0. 0. 0. 0. 0. 0. 0.]\n",
      " [0. 0. 0. 0. 0. 0. 0. 0. 0. 1.]\n",
      " [0. 0. 0. 1. 0. 0. 0. 0. 0. 0.]]\n"
     ]
    }
   ],
   "source": [
    "# dataset have 12 classes and each label is an integer between 0 and 11:\n",
    "y_train_cat = keras.utils.to_categorical(y_train, num_classes=num_classes)\n",
    "y_val_cat = keras.utils.to_categorical(y_val, num_classes=num_classes)\n",
    "\n",
    "print(y_train_cat.shape)\n",
    "print('First 5 examples are: \\n', y_train_cat[0:5])"
   ]
  },
  {
   "cell_type": "code",
   "execution_count": 106,
   "metadata": {},
   "outputs": [
    {
     "name": "stdout",
     "output_type": "stream",
     "text": [
      "Training data shape:\n",
      "Features:  (12632, 128, 128, 3)\n",
      "Target:  (12632, 10)\n",
      "\n",
      "Validation data shape:\n",
      "Features:  (5414, 128, 128, 3)\n",
      "Target:  (5414, 10)\n"
     ]
    }
   ],
   "source": [
    "# input size\n",
    "print(\"Training data shape:\")\n",
    "print(\"Features: \",X_train_features.shape)\n",
    "print(\"Target: \",y_train_cat.shape)\n",
    "\n",
    "# validation size\n",
    "print(\"\\nValidation data shape:\")\n",
    "print(\"Features: \",X_val_features.shape)\n",
    "print(\"Target: \",y_val_cat.shape)"
   ]
  },
  {
   "cell_type": "code",
   "execution_count": 107,
   "metadata": {},
   "outputs": [
    {
     "name": "stdout",
     "output_type": "stream",
     "text": [
      "input shape:  (128, 128, 3)\n",
      "num_classes:  10\n"
     ]
    }
   ],
   "source": [
    "# input image dimensions\n",
    "num_train, img_rows, img_cols, img_channels =  X_train_features.shape\n",
    "input_shape = (img_rows, img_cols, img_channels)\n",
    "print(\"input shape: \", input_shape)\n",
    "\n",
    "num_classes = y_train_cat.shape[1]\n",
    "print(\"num_classes: \",num_classes)"
   ]
  },
  {
   "cell_type": "code",
   "execution_count": 108,
   "metadata": {},
   "outputs": [],
   "source": [
    "\n",
    "# utility fxn to plot model history and accuracy for each epoch\n",
    "def plot_model_history(model_history):\n",
    "    fig, axs = plt.subplots(1,2,figsize=(15,5))\n",
    "    # summarize history for accuracy\n",
    "    axs[0].plot(range(1,len(model_history.history['accuracy'])+1),model_history.history['accuracy'])\n",
    "    axs[0].plot(range(1,len(model_history.history['val_accuracy'])+1),model_history.history['val_accuracy'])\n",
    "    axs[0].set_title('Model Accuracy')\n",
    "    axs[0].set_ylabel('Accuracy')\n",
    "    axs[0].set_xlabel('Epoch')\n",
    "    axs[0].set_xticks(np.arange(1,len(model_history.history['accuracy'])+1),len(model_history.history['accuracy'])/10)\n",
    "    axs[0].legend(['train', 'val'], loc='best')\n",
    "    # summarize history for loss\n",
    "    axs[1].plot(range(1,len(model_history.history['loss'])+1),model_history.history['loss'])\n",
    "    axs[1].plot(range(1,len(model_history.history['val_loss'])+1),model_history.history['val_loss'])\n",
    "    axs[1].set_title('Model Loss')\n",
    "    axs[1].set_ylabel('Loss')\n",
    "    axs[1].set_xlabel('Epoch')\n",
    "    axs[1].set_xticks(np.arange(1,len(model_history.history['loss'])+1),len(model_history.history['loss'])/10)\n",
    "    axs[1].legend(['train', 'val'], loc='best')\n",
    "    plt.show()\n",
    "    \n",
    "# utiliy fxn to get y_predict in 1D\n",
    "# y_predict is array of 12 classes for each cases.. let form the new data which give label value in 1D.. \n",
    "# this is required for classification matrix.. cm expect 1D array\n",
    "def get1D_y_predict(y_pred):\n",
    "    result = []\n",
    "    for i in range(len(y_pred)):\n",
    "        result.append(np.where(y_pred[i] == np.max(y_pred[i]))[0][0])\n",
    "    return result    \n",
    "\n",
    "def plot_cnf_matrix(cnf_matrix, name):\n",
    "    fig, ax = plt.subplots(1, figsize=(12,5))\n",
    "    ax = sns.heatmap(cnf_matrix, ax=ax, cmap=plt.cm.Greens, annot=True)\n",
    "    ax.set_xticklabels(class_list)\n",
    "    ax.set_yticklabels(class_list)\n",
    "    plt.title('Confusion Matrix')\n",
    "    plt.ylabel('True class')\n",
    "    plt.xlabel('Predicted class')\n",
    "    fig.savefig('{}.png'.format(name), dpi=300)\n",
    "    plt.show();\n",
    "    \n",
    "# use tensorboard callback which will passed in model.fit function.\n",
    "# utility fxn ffor Initializing Early stopping and Model chekpoint callbacks**\n",
    "def EarlyStopingModelCheckPoint():\n",
    "    #tensorboard = TensorBoard(log_dir=\".logs/{}\".format(time.time()))\n",
    "\n",
    "    #Adding Early stopping callback to the fit function is going to stop the training,\n",
    "    #if the val_loss is not going to change even '0.001' for more than 5 continous epochs\n",
    "\n",
    "    early_stopping = EarlyStopping(monitor='val_loss', min_delta=0.001, patience=5)\n",
    "\n",
    "    #Adding Model Checkpoint callback to the fit function is going to save the weights whenever val_loss achieves \n",
    "    # a new low value. Hence saving the best weights occurred during training\n",
    "\n",
    "    #model_checkpoints/model_checkpoint_{epoch:02d}_loss{val_loss:.4f}.h5\n",
    "    filename = \"{}_best.h5\".format(model_name)\n",
    "    model_checkpoint =  ModelCheckpoint(filename,\n",
    "                                           monitor='val_loss',\n",
    "                                           verbose=1,\n",
    "                                           save_best_only=True,\n",
    "                                           mode='auto',\n",
    "                                           period=1)\n",
    "    return early_stopping, model_checkpoint"
   ]
  },
  {
   "cell_type": "code",
   "execution_count": 109,
   "metadata": {},
   "outputs": [],
   "source": [
    "# load a VGG model without the top layer ( which consists of fully connected layers )\n",
    "vgg_conv = VGG16(weights='imagenet', include_top=False, input_shape=(img_rows, img_cols, img_channels))"
   ]
  },
  {
   "cell_type": "code",
   "execution_count": 110,
   "metadata": {},
   "outputs": [],
   "source": [
    "#from keras.models import load_model\n",
    "#filepath = '../input/vgg16-weights-tf-dim/vgg16_weights_tf_dim_ordering_tf_kernels_notop.h5'   # For kernal\n",
    "#vgg_conv = load_model(filepath)"
   ]
  },
  {
   "cell_type": "markdown",
   "metadata": {},
   "source": [
    "***vgg model: ***\n",
    "https://github.com/fchollet/deep-learning-models/releases/download/v0.1/vgg16_weights_tf_dim_ordering_tf_kernels_notop.h5"
   ]
  },
  {
   "cell_type": "code",
   "execution_count": 111,
   "metadata": {},
   "outputs": [
    {
     "name": "stdout",
     "output_type": "stream",
     "text": [
      "Model: \"vgg16\"\n",
      "_________________________________________________________________\n",
      "Layer (type)                 Output Shape              Param #   \n",
      "=================================================================\n",
      "input_9 (InputLayer)         (None, 128, 128, 3)       0         \n",
      "_________________________________________________________________\n",
      "block1_conv1 (Conv2D)        (None, 128, 128, 64)      1792      \n",
      "_________________________________________________________________\n",
      "block1_conv2 (Conv2D)        (None, 128, 128, 64)      36928     \n",
      "_________________________________________________________________\n",
      "block1_pool (MaxPooling2D)   (None, 64, 64, 64)        0         \n",
      "_________________________________________________________________\n",
      "block2_conv1 (Conv2D)        (None, 64, 64, 128)       73856     \n",
      "_________________________________________________________________\n",
      "block2_conv2 (Conv2D)        (None, 64, 64, 128)       147584    \n",
      "_________________________________________________________________\n",
      "block2_pool (MaxPooling2D)   (None, 32, 32, 128)       0         \n",
      "_________________________________________________________________\n",
      "block3_conv1 (Conv2D)        (None, 32, 32, 256)       295168    \n",
      "_________________________________________________________________\n",
      "block3_conv2 (Conv2D)        (None, 32, 32, 256)       590080    \n",
      "_________________________________________________________________\n",
      "block3_conv3 (Conv2D)        (None, 32, 32, 256)       590080    \n",
      "_________________________________________________________________\n",
      "block3_pool (MaxPooling2D)   (None, 16, 16, 256)       0         \n",
      "_________________________________________________________________\n",
      "block4_conv1 (Conv2D)        (None, 16, 16, 512)       1180160   \n",
      "_________________________________________________________________\n",
      "block4_conv2 (Conv2D)        (None, 16, 16, 512)       2359808   \n",
      "_________________________________________________________________\n",
      "block4_conv3 (Conv2D)        (None, 16, 16, 512)       2359808   \n",
      "_________________________________________________________________\n",
      "block4_pool (MaxPooling2D)   (None, 8, 8, 512)         0         \n",
      "_________________________________________________________________\n",
      "block5_conv1 (Conv2D)        (None, 8, 8, 512)         2359808   \n",
      "_________________________________________________________________\n",
      "block5_conv2 (Conv2D)        (None, 8, 8, 512)         2359808   \n",
      "_________________________________________________________________\n",
      "block5_conv3 (Conv2D)        (None, 8, 8, 512)         2359808   \n",
      "_________________________________________________________________\n",
      "block5_pool (MaxPooling2D)   (None, 4, 4, 512)         0         \n",
      "=================================================================\n",
      "Total params: 14,714,688\n",
      "Trainable params: 14,714,688\n",
      "Non-trainable params: 0\n",
      "_________________________________________________________________\n"
     ]
    }
   ],
   "source": [
    "vgg_conv.summary()"
   ]
  },
  {
   "cell_type": "code",
   "execution_count": 112,
   "metadata": {},
   "outputs": [
    {
     "name": "stdout",
     "output_type": "stream",
     "text": [
      "<keras.engine.input_layer.InputLayer object at 0x7fe54c423400> False\n",
      "<keras.layers.convolutional.Conv2D object at 0x7fe54c4231d0> False\n",
      "<keras.layers.convolutional.Conv2D object at 0x7fe54c423128> False\n",
      "<keras.layers.pooling.MaxPooling2D object at 0x7fe54c423630> False\n",
      "<keras.layers.convolutional.Conv2D object at 0x7fe54c423a58> False\n",
      "<keras.layers.convolutional.Conv2D object at 0x7fe54c126da0> False\n",
      "<keras.layers.pooling.MaxPooling2D object at 0x7fe54c2d7470> False\n",
      "<keras.layers.convolutional.Conv2D object at 0x7fe54c2d76d8> False\n",
      "<keras.layers.convolutional.Conv2D object at 0x7fe54c255e80> False\n",
      "<keras.layers.convolutional.Conv2D object at 0x7fe54c205b38> False\n",
      "<keras.layers.pooling.MaxPooling2D object at 0x7fe54c2fd358> False\n",
      "<keras.layers.convolutional.Conv2D object at 0x7fe54c2fd278> False\n",
      "<keras.layers.convolutional.Conv2D object at 0x7fe54c1bd160> False\n",
      "<keras.layers.convolutional.Conv2D object at 0x7fe54c130550> False\n",
      "<keras.layers.pooling.MaxPooling2D object at 0x7fe54c0a74e0> False\n",
      "<keras.layers.convolutional.Conv2D object at 0x7fe54c0a7a90> True\n",
      "<keras.layers.convolutional.Conv2D object at 0x7fe54c06d550> True\n",
      "<keras.layers.convolutional.Conv2D object at 0x7fe54c094518> True\n",
      "<keras.layers.pooling.MaxPooling2D object at 0x7fe54c02bd30> True\n"
     ]
    }
   ],
   "source": [
    "# Freeze the layers except the last 4 layers\n",
    "for layer in vgg_conv.layers[:-4]:\n",
    "    layer.trainable = False\n",
    " \n",
    "# Check the trainable status of the individual layers\n",
    "for layer in vgg_conv.layers:\n",
    "    print(layer, layer.trainable)"
   ]
  },
  {
   "cell_type": "code",
   "execution_count": 113,
   "metadata": {},
   "outputs": [
    {
     "name": "stdout",
     "output_type": "stream",
     "text": [
      "Model: \"sequential_11\"\n",
      "_________________________________________________________________\n",
      "Layer (type)                 Output Shape              Param #   \n",
      "=================================================================\n",
      "vgg16 (Model)                (None, 4, 4, 512)         14714688  \n",
      "_________________________________________________________________\n",
      "flatten_11 (Flatten)         (None, 8192)              0         \n",
      "_________________________________________________________________\n",
      "dense_21 (Dense)             (None, 1024)              8389632   \n",
      "_________________________________________________________________\n",
      "dropout_7 (Dropout)          (None, 1024)              0         \n",
      "_________________________________________________________________\n",
      "dense_22 (Dense)             (None, 512)               524800    \n",
      "_________________________________________________________________\n",
      "dense_23 (Dense)             (None, 10)                5130      \n",
      "=================================================================\n",
      "Total params: 23,634,250\n",
      "Trainable params: 15,998,986\n",
      "Non-trainable params: 7,635,264\n",
      "_________________________________________________________________\n"
     ]
    }
   ],
   "source": [
    "# Create the model\n",
    "my_model = models.Sequential()\n",
    " \n",
    "# Add the vgg convolutional base model\n",
    "my_model.add(vgg_conv)\n",
    " \n",
    "# Add new layers\n",
    "my_model.add(layers.Flatten())\n",
    "#my_model.add(layers.BatchNormalization())\n",
    "my_model.add(layers.Dense(1024, activation='relu'))\n",
    "my_model.add(layers.Dropout(0.5))\n",
    "my_model.add(layers.Dense(512, activation='relu'))\n",
    "my_model.add(layers.Dense(num_classes, activation='softmax'))\n",
    " \n",
    "# Show a summary of the model. Check the number of trainable parameters\n",
    "my_model.summary()"
   ]
  },
  {
   "cell_type": "code",
   "execution_count": 114,
   "metadata": {},
   "outputs": [],
   "source": [
    "# Compile the model\n",
    "optimizer=optimizers.RMSprop(lr=1e-4)\n",
    "#optimizer = keras.optimizers.Adam(lr=0.0001)\n",
    "#optimizer = keras.optimizers.SGD(lr=0.0001)\n",
    "\n",
    "my_model.compile(loss='categorical_crossentropy',\n",
    "              optimizer=optimizer,\n",
    "              metrics=['accuracy'])"
   ]
  },
  {
   "cell_type": "code",
   "execution_count": 115,
   "metadata": {},
   "outputs": [
    {
     "name": "stdout",
     "output_type": "stream",
     "text": [
      "Train on 12632 samples, validate on 5414 samples\n",
      "Epoch 1/200\n",
      "12632/12632 [==============================] - 25s 2ms/step - loss: 0.6188 - accuracy: 0.7945 - val_loss: 0.1413 - val_accuracy: 0.9601\n",
      "\n",
      "Epoch 00001: val_loss improved from inf to 0.14129, saving model to vgg16_model_ssim_size128_best.h5\n",
      "Epoch 2/200\n",
      "12632/12632 [==============================] - 25s 2ms/step - loss: 0.1653 - accuracy: 0.9567 - val_loss: 0.1519 - val_accuracy: 0.9677\n",
      "\n",
      "Epoch 00002: val_loss did not improve from 0.14129\n",
      "Epoch 3/200\n",
      "12632/12632 [==============================] - 25s 2ms/step - loss: 0.1153 - accuracy: 0.9734 - val_loss: 0.1022 - val_accuracy: 0.9780\n",
      "\n",
      "Epoch 00003: val_loss improved from 0.14129 to 0.10222, saving model to vgg16_model_ssim_size128_best.h5\n",
      "Epoch 4/200\n",
      "12632/12632 [==============================] - 25s 2ms/step - loss: 0.0995 - accuracy: 0.9790 - val_loss: 0.1327 - val_accuracy: 0.9719\n",
      "\n",
      "Epoch 00004: val_loss did not improve from 0.10222\n",
      "Epoch 5/200\n",
      "12632/12632 [==============================] - 25s 2ms/step - loss: 0.0907 - accuracy: 0.9827 - val_loss: 0.2976 - val_accuracy: 0.9695\n",
      "\n",
      "Epoch 00005: val_loss did not improve from 0.10222\n",
      "Epoch 6/200\n",
      "12632/12632 [==============================] - 25s 2ms/step - loss: 0.0728 - accuracy: 0.9858 - val_loss: 0.1210 - val_accuracy: 0.9810\n",
      "\n",
      "Epoch 00006: val_loss did not improve from 0.10222\n",
      "Epoch 7/200\n",
      "12632/12632 [==============================] - 25s 2ms/step - loss: 0.0684 - accuracy: 0.9865 - val_loss: 0.2084 - val_accuracy: 0.9771\n",
      "\n",
      "Epoch 00007: val_loss did not improve from 0.10222\n",
      "Epoch 8/200\n",
      "12632/12632 [==============================] - 25s 2ms/step - loss: 0.0639 - accuracy: 0.9895 - val_loss: 0.1823 - val_accuracy: 0.9825\n",
      "\n",
      "Epoch 00008: val_loss did not improve from 0.10222\n"
     ]
    }
   ],
   "source": [
    "early_stopping, model_checkpoint = EarlyStopingModelCheckPoint()\n",
    "\n",
    "# Train the model\n",
    "start = time.time()\n",
    "\n",
    "history = my_model.fit(X_train_features, y_train_cat, # feature and target vector\n",
    "          validation_data=(X_val_features, y_val_cat), # data for evaluation\n",
    "          epochs=200,\n",
    "          batch_size=16, # Number of observations per batch\n",
    "          verbose=1,     # Print description after each epoch\n",
    "          callbacks=[early_stopping,model_checkpoint])\n",
    "\n",
    "end = time.time()\n",
    "execution_dur = end - start;"
   ]
  },
  {
   "cell_type": "code",
   "execution_count": 116,
   "metadata": {},
   "outputs": [
    {
     "name": "stdout",
     "output_type": "stream",
     "text": [
      "Model execution time: 3.38 minutes\n"
     ]
    }
   ],
   "source": [
    "print(\"Model execution time: %0.2f minutes\" %(execution_dur/60))"
   ]
  },
  {
   "cell_type": "code",
   "execution_count": 117,
   "metadata": {},
   "outputs": [
    {
     "data": {
      "image/png": "[encoded data removed]",
      "text/plain": [
       "<Figure size 1080x360 with 2 Axes>"
      ]
     },
     "metadata": {
      "needs_background": "light"
     },
     "output_type": "display_data"
    },
    {
     "name": "stdout",
     "output_type": "stream",
     "text": [
      "5414/5414 [==============================] - 5s 885us/step\n",
      "\n",
      "Validation accuracy: 98.25\n"
     ]
    }
   ],
   "source": [
    "# plot model history\n",
    "plot_model_history(history)\n",
    "\n",
    "# compute accuracy for validation dataset\n",
    "val_loss, val_acc = my_model.evaluate(X_val_features, y_val_cat)\n",
    "print('\\nValidation accuracy: %0.2f' %(val_acc*100))"
   ]
  },
  {
   "cell_type": "code",
   "execution_count": 119,
   "metadata": {},
   "outputs": [
    {
     "name": "stdout",
     "output_type": "stream",
     "text": [
      "Validation accuracy: 98.25\n",
      "Classification Report: \n",
      "\n",
      "               precision    recall  f1-score   support\n",
      "\n",
      "           0       0.99      0.95      0.97       504\n",
      "           1       0.98      1.00      0.99       524\n",
      "           2       0.98      1.00      0.99       510\n",
      "           3       0.99      0.98      0.99       556\n",
      "           4       0.98      0.98      0.98       561\n",
      "           5       1.00      0.98      0.99       569\n",
      "           6       0.97      0.99      0.98       562\n",
      "           7       0.99      0.99      0.99       542\n",
      "           8       0.98      0.97      0.97       545\n",
      "           9       0.98      0.98      0.98       541\n",
      "\n",
      "    accuracy                           0.98      5414\n",
      "   macro avg       0.98      0.98      0.98      5414\n",
      "weighted avg       0.98      0.98      0.98      5414\n",
      "\n"
     ]
    }
   ],
   "source": [
    "# predict the model\n",
    "y_predict = my_model.predict(X_val_features)\n",
    "y_predict1D = get1D_y_predict(y_predict)\n",
    "acc = metrics.accuracy_score(y_val,y_predict1D)\n",
    "print('Validation accuracy: %0.2f' %(acc*100))\n",
    "\n",
    "# classification report with model acciracy and F1 score\n",
    "cr = metrics.classification_report(y_val,y_predict1D)\n",
    "print(\"Classification Report: \\n\\n\", cr)"
   ]
  },
  {
   "cell_type": "code",
   "execution_count": 120,
   "metadata": {},
   "outputs": [
    {
     "data": {
      "image/png": "[encoded data removed]",
      "text/plain": [
       "<Figure size 864x360 with 2 Axes>"
      ]
     },
     "metadata": {
      "needs_background": "light"
     },
     "output_type": "display_data"
    }
   ],
   "source": [
    "# confusion matrix\n",
    "cm = metrics.confusion_matrix(y_val, y_predict1D)\n",
    "\n",
    "filename = \"{}_TB4B5_cnf\".format(model_name)\n",
    "plot_cnf_matrix(cm, filename)"
   ]
  },
  {
   "cell_type": "code",
   "execution_count": null,
   "metadata": {},
   "outputs": [],
   "source": [
    "# Save model and weights for future use\n",
    "filename = \"{}.h5\".format(model_name)\n",
    "my_model.save(filename)\n",
    "\n",
    "filename = \"{}_weights.h5\".format(model_name)\n",
    "my_model.save_weights(filename)"
   ]
  },
  {
   "cell_type": "code",
   "execution_count": 121,
   "metadata": {},
   "outputs": [
    {
     "data": {
      "text/plain": [
       "'2.3.0'"
      ]
     },
     "execution_count": 121,
     "metadata": {},
     "output_type": "execute_result"
    }
   ],
   "source": [
    "import keras\n",
    "keras.__version__"
   ]
  },
  {
   "cell_type": "code",
   "execution_count": null,
   "metadata": {},
   "outputs": [],
   "source": []
  }
 ],
 "metadata": {
  "colab": {
   "collapsed_sections": [],
   "name": "R8_External_Lab_Questions.ipynb",
   "provenance": [],
   "version": "0.3.2"
  },
  "kernelspec": {
   "display_name": "Python 3",
   "language": "python",
   "name": "python3"
  },
  "language_info": {
   "codemirror_mode": {
    "name": "ipython",
    "version": 3
   },
   "file_extension": ".py",
   "mimetype": "text/x-python",
   "name": "python",
   "nbconvert_exporter": "python",
   "pygments_lexer": "ipython3",
   "version": "3.7.6"
  }
 },
 "nbformat": 4,
 "nbformat_minor": 1
}
