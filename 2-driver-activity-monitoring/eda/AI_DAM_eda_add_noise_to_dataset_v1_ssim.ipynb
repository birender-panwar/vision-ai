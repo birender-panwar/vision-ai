{
 "cells": [
  {
   "cell_type": "markdown",
   "metadata": {
    "colab_type": "text",
    "id": "QGIsF1ADyJ58"
   },
   "source": [
    "## Adding noise to dataset"
   ]
  },
  {
   "cell_type": "code",
   "execution_count": 1,
   "metadata": {},
   "outputs": [
    {
     "name": "stderr",
     "output_type": "stream",
     "text": [
      "Using TensorFlow backend.\n"
     ]
    }
   ],
   "source": [
    "# import all necessary packages\n",
    "import warnings \n",
    "warnings.filterwarnings('ignore')\n",
    "\n",
    "import matplotlib.pyplot as plt\n",
    "%matplotlib inline\n",
    "\n",
    "import pandas as pd\n",
    "import numpy as np\n",
    "import seaborn as sns\n",
    "\n",
    "import keras\n",
    "from keras.preprocessing import image\n",
    "import time\n",
    "import os\n",
    "import shutil\n",
    "#from tqdm import tqdm # for progress indication"
   ]
  },
  {
   "cell_type": "code",
   "execution_count": 2,
   "metadata": {},
   "outputs": [
    {
     "name": "stdout",
     "output_type": "stream",
     "text": [
      "inp_root_dir:  D:/my_learning_dataset/state_farms_drivers/imgs_right_cure_final/\n",
      "out_root_dir:  D:/my_learning_dataset/state_farms_drivers/imgs_right_cure_final_noise/\n"
     ]
    }
   ],
   "source": [
    "# initilize input and outpur root directories\n",
    "#inp_root_dir = 'D:/my_learning_dataset/state_farms_drivers/imgs_right/'\n",
    "inp_root_dir = 'D:/my_learning_dataset/state_farms_drivers/imgs_right_cure_final/'\n",
    "out_root_dir = 'D:/my_learning_dataset/state_farms_drivers/imgs_right_cure_final_noise/'\n",
    "    \n",
    "print(\"inp_root_dir: \", inp_root_dir)\n",
    "print(\"out_root_dir: \", out_root_dir)"
   ]
  },
  {
   "cell_type": "markdown",
   "metadata": {
    "colab_type": "text",
    "id": "Cq8ejXHJyGYq"
   },
   "source": [
    "**basic class info**"
   ]
  },
  {
   "cell_type": "code",
   "execution_count": 3,
   "metadata": {},
   "outputs": [
    {
     "data": {
      "text/html": [
       "<div>\n",
       "<style scoped>\n",
       "    .dataframe tbody tr th:only-of-type {\n",
       "        vertical-align: middle;\n",
       "    }\n",
       "\n",
       "    .dataframe tbody tr th {\n",
       "        vertical-align: top;\n",
       "    }\n",
       "\n",
       "    .dataframe thead th {\n",
       "        text-align: right;\n",
       "    }\n",
       "</style>\n",
       "<table border=\"1\" class=\"dataframe\">\n",
       "  <thead>\n",
       "    <tr style=\"text-align: right;\">\n",
       "      <th></th>\n",
       "      <th>class</th>\n",
       "      <th>left_desc</th>\n",
       "      <th>right_desc</th>\n",
       "    </tr>\n",
       "  </thead>\n",
       "  <tbody>\n",
       "    <tr>\n",
       "      <th>0</th>\n",
       "      <td>c0</td>\n",
       "      <td>safe driving</td>\n",
       "      <td>safe driving</td>\n",
       "    </tr>\n",
       "    <tr>\n",
       "      <th>1</th>\n",
       "      <td>c1</td>\n",
       "      <td>texting-right</td>\n",
       "      <td>texting-left</td>\n",
       "    </tr>\n",
       "    <tr>\n",
       "      <th>2</th>\n",
       "      <td>c2</td>\n",
       "      <td>talking on the phone-right</td>\n",
       "      <td>talking on the phone-left</td>\n",
       "    </tr>\n",
       "    <tr>\n",
       "      <th>3</th>\n",
       "      <td>c3</td>\n",
       "      <td>texting-left</td>\n",
       "      <td>texting-right</td>\n",
       "    </tr>\n",
       "    <tr>\n",
       "      <th>4</th>\n",
       "      <td>c4</td>\n",
       "      <td>talking on the phone-left</td>\n",
       "      <td>talking on the phone-right</td>\n",
       "    </tr>\n",
       "    <tr>\n",
       "      <th>5</th>\n",
       "      <td>c5</td>\n",
       "      <td>operating the radio</td>\n",
       "      <td>operating the radio</td>\n",
       "    </tr>\n",
       "    <tr>\n",
       "      <th>6</th>\n",
       "      <td>c6</td>\n",
       "      <td>drinking</td>\n",
       "      <td>drinking</td>\n",
       "    </tr>\n",
       "    <tr>\n",
       "      <th>7</th>\n",
       "      <td>c7</td>\n",
       "      <td>reaching behind</td>\n",
       "      <td>reaching behind</td>\n",
       "    </tr>\n",
       "    <tr>\n",
       "      <th>8</th>\n",
       "      <td>c8</td>\n",
       "      <td>hair and makeup</td>\n",
       "      <td>hair and makeup</td>\n",
       "    </tr>\n",
       "    <tr>\n",
       "      <th>9</th>\n",
       "      <td>c9</td>\n",
       "      <td>talking to passenger</td>\n",
       "      <td>talking to passenger</td>\n",
       "    </tr>\n",
       "  </tbody>\n",
       "</table>\n",
       "</div>"
      ],
      "text/plain": [
       "  class                   left_desc                  right_desc\n",
       "0    c0                safe driving                safe driving\n",
       "1    c1               texting-right                texting-left\n",
       "2    c2  talking on the phone-right   talking on the phone-left\n",
       "3    c3                texting-left               texting-right\n",
       "4    c4   talking on the phone-left  talking on the phone-right\n",
       "5    c5         operating the radio         operating the radio\n",
       "6    c6                    drinking                    drinking\n",
       "7    c7             reaching behind             reaching behind\n",
       "8    c8             hair and makeup             hair and makeup\n",
       "9    c9        talking to passenger        talking to passenger"
      ]
     },
     "execution_count": 3,
     "metadata": {},
     "output_type": "execute_result"
    }
   ],
   "source": [
    "# this is original image dataset for left hand driving\n",
    "class_list =  ['c0', 'c1', 'c2', 'c3', 'c4', 'c5', 'c6','c7', 'c8', 'c9']\n",
    "left_class_desc = ['safe driving', 'texting-right', 'talking on the phone-right', 'texting-left', 'talking on the phone-left', \n",
    "              'operating the radio', 'drinking', 'reaching behind', 'hair and makeup', 'talking to passenger']\n",
    "right_class_desc = ['safe driving', 'texting-left', 'talking on the phone-left', 'texting-right', 'talking on the phone-right', \n",
    "              'operating the radio', 'drinking', 'reaching behind', 'hair and makeup', 'talking to passenger']\n",
    "df_desc = pd.DataFrame({'class': class_list, 'left_desc': left_class_desc,  'right_desc': right_class_desc})\n",
    "df_desc"
   ]
  },
  {
   "cell_type": "code",
   "execution_count": 4,
   "metadata": {},
   "outputs": [],
   "source": [
    "inp_train_dir = os.path.join(inp_root_dir, 'train')\n",
    "inp_test_dir = os.path.join(inp_root_dir, 'test')\n",
    "\n",
    "out_train_dir = os.path.join(out_root_dir, 'train')\n",
    "out_test_dir = os.path.join(out_root_dir, 'test')"
   ]
  },
  {
   "cell_type": "code",
   "execution_count": 5,
   "metadata": {},
   "outputs": [
    {
     "name": "stdout",
     "output_type": "stream",
     "text": [
      "c0: 1472 images\n",
      "c1: 1528 images\n",
      "c2: 1527 images\n",
      "c3: 1556 images\n",
      "c4: 1587 images\n",
      "c5: 1607 images\n",
      "c6: 1529 images\n",
      "c7: 1617 images\n",
      "c8: 1489 images\n",
      "c9: 1110 images\n"
     ]
    }
   ],
   "source": [
    "# input dataset summary\n",
    "class_dirs = os.listdir(inp_train_dir)\n",
    "for classname in class_dirs:\n",
    "    print('{}: {} images'.format(classname, len(os.listdir(os.path.join(inp_train_dir, classname)))))"
   ]
  },
  {
   "cell_type": "code",
   "execution_count": 6,
   "metadata": {},
   "outputs": [],
   "source": [
    "# fxn to create datafram for train dataset\n",
    "def prepare_dataframe(train_dir):\n",
    "    train = []\n",
    "    class_dirs = os.listdir(inp_train_dir)\n",
    "    for class_id, classname in enumerate(class_dirs):\n",
    "        for file in os.listdir(os.path.join(train_dir, classname)):\n",
    "            train.append(['{}/{}/{}'.format(train_dir, classname, file), class_id, classname])\n",
    "\n",
    "    df_train = pd.DataFrame(train, columns=['file', 'class_id', 'classname'])\n",
    "    return df_train"
   ]
  },
  {
   "cell_type": "code",
   "execution_count": 7,
   "metadata": {},
   "outputs": [
    {
     "name": "stdout",
     "output_type": "stream",
     "text": [
      "shape:  (15022, 3)\n"
     ]
    },
    {
     "data": {
      "text/html": [
       "<div>\n",
       "<style scoped>\n",
       "    .dataframe tbody tr th:only-of-type {\n",
       "        vertical-align: middle;\n",
       "    }\n",
       "\n",
       "    .dataframe tbody tr th {\n",
       "        vertical-align: top;\n",
       "    }\n",
       "\n",
       "    .dataframe thead th {\n",
       "        text-align: right;\n",
       "    }\n",
       "</style>\n",
       "<table border=\"1\" class=\"dataframe\">\n",
       "  <thead>\n",
       "    <tr style=\"text-align: right;\">\n",
       "      <th></th>\n",
       "      <th>file</th>\n",
       "      <th>class_id</th>\n",
       "      <th>classname</th>\n",
       "    </tr>\n",
       "  </thead>\n",
       "  <tbody>\n",
       "    <tr>\n",
       "      <th>0</th>\n",
       "      <td>D:/my_learning_dataset/state_farms_drivers/img...</td>\n",
       "      <td>0</td>\n",
       "      <td>c0</td>\n",
       "    </tr>\n",
       "    <tr>\n",
       "      <th>1</th>\n",
       "      <td>D:/my_learning_dataset/state_farms_drivers/img...</td>\n",
       "      <td>0</td>\n",
       "      <td>c0</td>\n",
       "    </tr>\n",
       "  </tbody>\n",
       "</table>\n",
       "</div>"
      ],
      "text/plain": [
       "                                                file  class_id classname\n",
       "0  D:/my_learning_dataset/state_farms_drivers/img...         0        c0\n",
       "1  D:/my_learning_dataset/state_farms_drivers/img...         0        c0"
      ]
     },
     "execution_count": 7,
     "metadata": {},
     "output_type": "execute_result"
    }
   ],
   "source": [
    "df_inp_train = prepare_dataframe(inp_train_dir)\n",
    "print(\"shape: \", df_inp_train.shape)\n",
    "df_inp_train.head(2)"
   ]
  },
  {
   "cell_type": "code",
   "execution_count": 8,
   "metadata": {},
   "outputs": [
    {
     "data": {
      "text/plain": [
       "<matplotlib.axes._subplots.AxesSubplot at 0x1d7f9609b70>"
      ]
     },
     "execution_count": 8,
     "metadata": {},
     "output_type": "execute_result"
    },
    {
     "data": {
      "image/png": "[encoded data removed]",
      "text/plain": [
       "<Figure size 432x288 with 1 Axes>"
      ]
     },
     "metadata": {
      "needs_background": "light"
     },
     "output_type": "display_data"
    }
   ],
   "source": [
    "#plotting how the classes are distributed\n",
    "sns.countplot(df_inp_train[\"class_id\"])"
   ]
  },
  {
   "cell_type": "code",
   "execution_count": 9,
   "metadata": {},
   "outputs": [],
   "source": [
    "# make this setting as 'yes\" to created augeneted images'\n",
    "DELETE_OLD_CONTENT = 'no'\n",
    "#DELETE_OLD_CONTENT = 'yes'"
   ]
  },
  {
   "cell_type": "code",
   "execution_count": 10,
   "metadata": {},
   "outputs": [],
   "source": [
    "# clear old content if any\n",
    "if ((DELETE_OLD_CONTENT == 'yes') and os.path.exists(out_root_dir)):\n",
    "    shutil.rmtree(out_root_dir)\n",
    "    print('deleted directory and all its conetnt at : ', out_root_dir)"
   ]
  },
  {
   "cell_type": "code",
   "execution_count": 11,
   "metadata": {},
   "outputs": [
    {
     "data": {
      "text/plain": [
       "'D:/my_learning_dataset/state_farms_drivers/imgs_right_cure_final_noise/'"
      ]
     },
     "execution_count": 11,
     "metadata": {},
     "output_type": "execute_result"
    }
   ],
   "source": [
    "# create copy\n",
    "shutil.copytree(inp_root_dir,out_root_dir)"
   ]
  },
  {
   "cell_type": "code",
   "execution_count": 12,
   "metadata": {},
   "outputs": [
    {
     "name": "stdout",
     "output_type": "stream",
     "text": [
      "shape:  (15022, 3)\n"
     ]
    },
    {
     "data": {
      "text/html": [
       "<div>\n",
       "<style scoped>\n",
       "    .dataframe tbody tr th:only-of-type {\n",
       "        vertical-align: middle;\n",
       "    }\n",
       "\n",
       "    .dataframe tbody tr th {\n",
       "        vertical-align: top;\n",
       "    }\n",
       "\n",
       "    .dataframe thead th {\n",
       "        text-align: right;\n",
       "    }\n",
       "</style>\n",
       "<table border=\"1\" class=\"dataframe\">\n",
       "  <thead>\n",
       "    <tr style=\"text-align: right;\">\n",
       "      <th></th>\n",
       "      <th>file</th>\n",
       "      <th>class_id</th>\n",
       "      <th>classname</th>\n",
       "    </tr>\n",
       "  </thead>\n",
       "  <tbody>\n",
       "    <tr>\n",
       "      <th>0</th>\n",
       "      <td>D:/my_learning_dataset/state_farms_drivers/img...</td>\n",
       "      <td>0</td>\n",
       "      <td>c0</td>\n",
       "    </tr>\n",
       "    <tr>\n",
       "      <th>1</th>\n",
       "      <td>D:/my_learning_dataset/state_farms_drivers/img...</td>\n",
       "      <td>0</td>\n",
       "      <td>c0</td>\n",
       "    </tr>\n",
       "  </tbody>\n",
       "</table>\n",
       "</div>"
      ],
      "text/plain": [
       "                                                file  class_id classname\n",
       "0  D:/my_learning_dataset/state_farms_drivers/img...         0        c0\n",
       "1  D:/my_learning_dataset/state_farms_drivers/img...         0        c0"
      ]
     },
     "execution_count": 12,
     "metadata": {},
     "output_type": "execute_result"
    }
   ],
   "source": [
    "# verify if all data is copied properly\n",
    "df_out_train = prepare_dataframe(out_train_dir)\n",
    "print(\"shape: \", df_out_train.shape)\n",
    "df_out_train.head(2)"
   ]
  },
  {
   "cell_type": "code",
   "execution_count": 13,
   "metadata": {},
   "outputs": [
    {
     "name": "stdout",
     "output_type": "stream",
     "text": [
      "All data copied properly\n"
     ]
    }
   ],
   "source": [
    "if(df_inp_train.shape[0] == df_out_train.shape[0]):\n",
    "    print(\"All data copied properly\")\n",
    "else:\n",
    "    print(\"All data not copied properly\")"
   ]
  },
  {
   "cell_type": "code",
   "execution_count": 14,
   "metadata": {},
   "outputs": [],
   "source": [
    "import PIL\n",
    "\n",
    "def img_flip(in_img_path, out_img_path):\n",
    "    \"\"\"\n",
    "    Flip or mirror the image \n",
    "    @param in_img: source image file to flip\n",
    "    @param out_img: Path to save the flip image file\n",
    "    \"\"\"\n",
    "    image_obj = PIL.Image.open(in_img_path)\n",
    "    flip_image = image_obj.transpose(PIL.Image.FLIP_LEFT_RIGHT)\n",
    "    flip_image.save(out_img_path)\n",
    "    return\n",
    "\n",
    "def img_gausian_blur(in_img_path, out_img_path, radius=2):\n",
    "    image_obj = PIL.Image.open(in_img_path)\n",
    "    img = image_obj.filter(PIL.ImageFilter.GaussianBlur(radius=radius))\n",
    "    img.save(out_img_path)\n",
    "    return\n",
    "\n",
    "def img_sharpness(in_img_path, out_img_path, val=10):\n",
    "    image_obj = PIL.Image.open(in_img_path)\n",
    "    img = PIL.ImageEnhance.Sharpness(image_obj).enhance(val)\n",
    "    img.save(out_img_path)\n",
    "    return\n",
    "             \n",
    "def img_edge_enhance_more(in_img_path, out_img_path):\n",
    "    image_obj = PIL.Image.open(in_img_path)\n",
    "    img = image_obj.filter(PIL.ImageFilter.EDGE_ENHANCE_MORE)\n",
    "    img.save(out_img_path)\n",
    "    return\n",
    "\n",
    "# return new image object\n",
    "def get_crop_border_portion_image(imgObj, percent):\n",
    "   \n",
    "    (width,height) = imgObj.size\n",
    "    left = round(percent*width)\n",
    "    upper = round(percent*height)\n",
    "    \n",
    "    left1 = round((1-percent)*width)\n",
    "    upper1 = round((1-percent)*height)\n",
    "    \n",
    "    img = imgObj.crop((left,upper, left1, upper1))\n",
    "    img = img.resize(imgObj.size)\n",
    "    return img\n",
    "             \n",
    "def img_crop_border(in_img_path, out_img_path, val=0.20):\n",
    "    image_obj = PIL.Image.open(in_img_path)\n",
    "    img = get_crop_border_portion_image(image_obj, val)\n",
    "    img.save(out_img_path)\n",
    "    return\n",
    "             \n",
    "# return new image object\n",
    "def get_shift_image(imgObj, direction, percent):\n",
    "    \n",
    "    (width,height) = imgObj.size\n",
    "    \n",
    "    if(direction == \"UP\"):\n",
    "        left = 0\n",
    "        upper = round(percent*height)    \n",
    "        right = width\n",
    "        bottom = height\n",
    "    elif(direction == \"DOWN\"):\n",
    "        left = 0\n",
    "        upper = 0    \n",
    "        right = width\n",
    "        bottom = round((1-percent)*height)\n",
    "    elif(direction == \"LEFT\"):\n",
    "        left = round(percent*width)    \n",
    "        upper = 0    \n",
    "        right = width\n",
    "        bottom = height\n",
    "    elif(direction == \"RIGHT\"):\n",
    "        left = 0    \n",
    "        upper = 0    \n",
    "        right = round((1-percent)*width)\n",
    "        bottom = height\n",
    "    else:\n",
    "        left = 0    \n",
    "        upper = 0    \n",
    "        right = width\n",
    "        bottom = height\n",
    "    \n",
    "    img = imgObj.crop((left,upper, right, bottom))\n",
    "    img = img.resize(imgObj.size)\n",
    "    return img\n",
    "\n",
    "# direction = \"UP\", \"DOWN\", \"LEFT\", \"RIGHT\"\n",
    "def img_shift(in_img_path, out_img_path, direction, val=0.10):\n",
    "    image_obj = PIL.Image.open(in_img_path)\n",
    "    img = get_shift_image(image_obj, direction, val)\n",
    "    img.save(out_img_path)\n",
    "    return\n",
    "             \n",
    "def img_brightness(in_img_path, out_img_path, val=5):\n",
    "    image_obj = PIL.Image.open(in_img_path)\n",
    "    img = PIL.ImageEnhance.Brightness(image_obj).enhance(val)\n",
    "    img.save(out_img_path)\n",
    "    return\n",
    "             \n",
    "# val=0: grayscale, non-zero is color\n",
    "def img_color(in_img_path, out_img_path, val=0):\n",
    "    image_obj = PIL.Image.open(in_img_path)\n",
    "    img = PIL.ImageEnhance.Color(image_obj).enhance(val)\n",
    "    img.save(out_img_path)\n",
    "    return"
   ]
  },
  {
   "cell_type": "code",
   "execution_count": 15,
   "metadata": {},
   "outputs": [],
   "source": [
    "import random \n",
    "import fnmatch\n",
    "\n",
    "# control noise percentage as per need\n",
    "def get_noise_per(cname):\n",
    "    nper = 0.025\n",
    "    if cname == \"c9\":\n",
    "        nper = 0.08\n",
    "    return nper\n",
    "\n",
    "def create_img_gausian_blur(inp_dir, out_dir, radius):\n",
    "    cdirs = os.listdir(inp_dir)\n",
    "    for classname in cdirs:\n",
    "        src_class_imgs = os.listdir(os.path.join(inp_dir, classname))\n",
    "        noice_per = get_noise_per(classname)\n",
    "        n_size = int(noice_per*len(src_class_imgs))\n",
    "        random.shuffle(src_class_imgs) # suffle so that random image are considered for adding noise    \n",
    "        for filename in src_class_imgs[:n_size]:\n",
    "            src = '{}/{}/{}'.format(inp_dir, classname, filename)\n",
    "            dst = '{}/{}/{}_gausian_blur.jpg'.format(out_dir, classname, filename)\n",
    "            img_gausian_blur(src,dst, radius)\n",
    "\n",
    "        outclassdir = os.path.join(out_dir, classname)\n",
    "        filetype = '*_gausian_blur.jpg'\n",
    "        n_out_files = len(fnmatch.filter(os.listdir(outclassdir),filetype))\n",
    "        print(\"image blur ==> class: {}, {} images created..\".format(classname, n_out_files))\n",
    "    return\n",
    "\n",
    "def create_img_sharpness(inp_dir, out_dir, val):\n",
    "    cdirs = os.listdir(inp_dir)\n",
    "    for classname in cdirs:\n",
    "        src_class_imgs = os.listdir(os.path.join(inp_dir, classname))\n",
    "        noice_per = get_noise_per(classname)\n",
    "        n_size = int(noice_per*len(src_class_imgs))\n",
    "        random.shuffle(src_class_imgs) # suffle so that random image are considered for adding noise    \n",
    "        for filename in src_class_imgs[:n_size]:\n",
    "            src = '{}/{}/{}'.format(inp_dir, classname, filename)\n",
    "            dst = '{}/{}/{}_sharpness_{}.jpg'.format(out_dir, classname, filename,val)\n",
    "            img_sharpness(src,dst,val)\n",
    "\n",
    "        outclassdir = os.path.join(out_dir, classname)\n",
    "        filetype = '*_sharpness_{}.jpg'.format(val)\n",
    "        n_out_files = len(fnmatch.filter(os.listdir(outclassdir),filetype))\n",
    "        print(\"shapemess (val={}) ==> class: {}, {} images created..\".format(val, classname, n_out_files))\n",
    "    return\n",
    "\n",
    "def create_img_edge_enhance_more(inp_dir, out_dir):\n",
    "    cdirs = os.listdir(inp_dir)\n",
    "    for classname in cdirs:\n",
    "        src_class_imgs = os.listdir(os.path.join(inp_dir, classname))\n",
    "        noice_per = get_noise_per(classname)\n",
    "        n_size = int(noice_per*len(src_class_imgs))\n",
    "        random.shuffle(src_class_imgs) # suffle so that random image are considered for adding noise    \n",
    "        for filename in src_class_imgs[:n_size]:\n",
    "            src = '{}/{}/{}'.format(inp_dir, classname, filename)\n",
    "            dst = '{}/{}/{}_edge_enhance_more.jpg'.format(out_dir, classname, filename)\n",
    "            img_edge_enhance_more(src,dst)\n",
    "\n",
    "        outclassdir = os.path.join(out_dir, classname)\n",
    "        filetype = '*_edge_enhance_more.jpg'\n",
    "        n_out_files = len(fnmatch.filter(os.listdir(outclassdir),filetype))\n",
    "        print(\"edge_enhance_more ==> class: {}, {} images created..\".format(classname, n_out_files))\n",
    "    return\n",
    "\n",
    "def create_img_crop_border(inp_dir, out_dir, val):\n",
    "    cdirs = os.listdir(inp_dir)\n",
    "    for classname in cdirs:\n",
    "        src_class_imgs = os.listdir(os.path.join(inp_dir, classname))\n",
    "        noice_per = get_noise_per(classname)\n",
    "        n_size = int(noice_per*len(src_class_imgs))\n",
    "        random.shuffle(src_class_imgs) # suffle so that random image are considered for adding noise    \n",
    "        for filename in src_class_imgs[:n_size]:\n",
    "            src = '{}/{}/{}'.format(inp_dir, classname, filename)\n",
    "            dst = '{}/{}/{}_crop_border_{}.jpg'.format(out_dir, classname, filename,val)\n",
    "            img_crop_border(src,dst,val)\n",
    "\n",
    "        outclassdir = os.path.join(out_dir, classname)\n",
    "        filetype = '*_crop_border_{}.jpg'.format(val)\n",
    "        n_out_files = len(fnmatch.filter(os.listdir(outclassdir),filetype))\n",
    "        print(\"crop_border (val={}) ==> class: {}, {} images created..\".format(val, classname, n_out_files))\n",
    "    return\n",
    "\n",
    "def create_img_shift(inp_dir, out_dir, direction, val):\n",
    "    cdirs = os.listdir(inp_dir)\n",
    "    for classname in cdirs:\n",
    "        src_class_imgs = os.listdir(os.path.join(inp_dir, classname))\n",
    "        noice_per = get_noise_per(classname)\n",
    "        n_size = int(noice_per*len(src_class_imgs))\n",
    "        random.shuffle(src_class_imgs) # suffle so that random image are considered for adding noise    \n",
    "        for filename in src_class_imgs[:n_size]:\n",
    "            src = '{}/{}/{}'.format(inp_dir, classname, filename)\n",
    "            dst = '{}/{}/{}_shift_{}_{}.jpg'.format(out_dir, classname, filename, direction, val)\n",
    "            img_shift(src, dst, direction, val)\n",
    "\n",
    "        outclassdir = os.path.join(out_dir, classname)\n",
    "        filetype = '*_shift_{}_{}.jpg'.format(direction, val)\n",
    "        n_out_files = len(fnmatch.filter(os.listdir(outclassdir),filetype))\n",
    "        print(\"shift({}, val={}) ==> class: {}, {} images created..\".format(direction, val, classname, n_out_files))\n",
    "    return\n",
    "\n",
    "def create_img_brightness(inp_dir, out_dir, val):\n",
    "    cdirs = os.listdir(inp_dir)\n",
    "    for classname in cdirs:\n",
    "        src_class_imgs = os.listdir(os.path.join(inp_dir, classname))\n",
    "        noice_per = get_noise_per(classname)\n",
    "        n_size = int(noice_per*len(src_class_imgs))\n",
    "        random.shuffle(src_class_imgs) # suffle so that random image are considered for adding noise    \n",
    "        for filename in src_class_imgs[:n_size]:\n",
    "            src = '{}/{}/{}'.format(inp_dir, classname, filename)\n",
    "            dst = '{}/{}/{}_brightness_{}.jpg'.format(out_dir, classname, filename,val)\n",
    "            img_brightness(src,dst,val)\n",
    "\n",
    "        outclassdir = os.path.join(out_dir, classname)\n",
    "        filetype = '*_brightness_{}.jpg'.format(val)\n",
    "        n_out_files = len(fnmatch.filter(os.listdir(outclassdir),filetype))\n",
    "        print(\"brightness (val={}) ==> class: {}, {} images created..\".format(val, classname, n_out_files))\n",
    "    return"
   ]
  },
  {
   "cell_type": "code",
   "execution_count": 16,
   "metadata": {},
   "outputs": [
    {
     "name": "stdout",
     "output_type": "stream",
     "text": [
      "Creating gausian blur images...\n",
      "image blur ==> class: c0, 36 images created..\n",
      "image blur ==> class: c1, 38 images created..\n",
      "image blur ==> class: c2, 38 images created..\n",
      "image blur ==> class: c3, 38 images created..\n",
      "image blur ==> class: c4, 39 images created..\n",
      "image blur ==> class: c5, 40 images created..\n",
      "image blur ==> class: c6, 38 images created..\n",
      "image blur ==> class: c7, 40 images created..\n",
      "image blur ==> class: c8, 37 images created..\n",
      "image blur ==> class: c9, 88 images created..\n",
      "Creating sharpness images...\n",
      "shapemess (val=10) ==> class: c0, 36 images created..\n",
      "shapemess (val=10) ==> class: c1, 38 images created..\n",
      "shapemess (val=10) ==> class: c2, 38 images created..\n",
      "shapemess (val=10) ==> class: c3, 38 images created..\n",
      "shapemess (val=10) ==> class: c4, 39 images created..\n",
      "shapemess (val=10) ==> class: c5, 40 images created..\n",
      "shapemess (val=10) ==> class: c6, 38 images created..\n",
      "shapemess (val=10) ==> class: c7, 40 images created..\n",
      "shapemess (val=10) ==> class: c8, 37 images created..\n",
      "shapemess (val=10) ==> class: c9, 88 images created..\n",
      "Creating edge enhance more images...\n",
      "edge_enhance_more ==> class: c0, 36 images created..\n",
      "edge_enhance_more ==> class: c1, 38 images created..\n",
      "edge_enhance_more ==> class: c2, 38 images created..\n",
      "edge_enhance_more ==> class: c3, 38 images created..\n",
      "edge_enhance_more ==> class: c4, 39 images created..\n",
      "edge_enhance_more ==> class: c5, 40 images created..\n",
      "edge_enhance_more ==> class: c6, 38 images created..\n",
      "edge_enhance_more ==> class: c7, 40 images created..\n",
      "edge_enhance_more ==> class: c8, 37 images created..\n",
      "edge_enhance_more ==> class: c9, 88 images created..\n",
      "Creating crop border images...\n",
      "crop_border (val=0.2) ==> class: c0, 36 images created..\n",
      "crop_border (val=0.2) ==> class: c1, 38 images created..\n",
      "crop_border (val=0.2) ==> class: c2, 38 images created..\n",
      "crop_border (val=0.2) ==> class: c3, 38 images created..\n",
      "crop_border (val=0.2) ==> class: c4, 39 images created..\n",
      "crop_border (val=0.2) ==> class: c5, 40 images created..\n",
      "crop_border (val=0.2) ==> class: c6, 38 images created..\n",
      "crop_border (val=0.2) ==> class: c7, 40 images created..\n",
      "crop_border (val=0.2) ==> class: c8, 37 images created..\n",
      "crop_border (val=0.2) ==> class: c9, 88 images created..\n",
      "Creating shift UP images...\n",
      "shift(UP, val=0.1) ==> class: c0, 36 images created..\n",
      "shift(UP, val=0.1) ==> class: c1, 38 images created..\n",
      "shift(UP, val=0.1) ==> class: c2, 38 images created..\n",
      "shift(UP, val=0.1) ==> class: c3, 38 images created..\n",
      "shift(UP, val=0.1) ==> class: c4, 39 images created..\n",
      "shift(UP, val=0.1) ==> class: c5, 40 images created..\n",
      "shift(UP, val=0.1) ==> class: c6, 38 images created..\n",
      "shift(UP, val=0.1) ==> class: c7, 40 images created..\n",
      "shift(UP, val=0.1) ==> class: c8, 37 images created..\n",
      "shift(UP, val=0.1) ==> class: c9, 88 images created..\n",
      "Creating brightness(5) images...\n",
      "brightness (val=5) ==> class: c0, 36 images created..\n",
      "brightness (val=5) ==> class: c1, 38 images created..\n",
      "brightness (val=5) ==> class: c2, 38 images created..\n",
      "brightness (val=5) ==> class: c3, 38 images created..\n",
      "brightness (val=5) ==> class: c4, 39 images created..\n",
      "brightness (val=5) ==> class: c5, 40 images created..\n",
      "brightness (val=5) ==> class: c6, 38 images created..\n",
      "brightness (val=5) ==> class: c7, 40 images created..\n",
      "brightness (val=5) ==> class: c8, 37 images created..\n",
      "brightness (val=5) ==> class: c9, 88 images created..\n",
      "Creating brightness(0.30) images...\n",
      "brightness (val=0.3) ==> class: c0, 36 images created..\n",
      "brightness (val=0.3) ==> class: c1, 38 images created..\n",
      "brightness (val=0.3) ==> class: c2, 38 images created..\n",
      "brightness (val=0.3) ==> class: c3, 38 images created..\n",
      "brightness (val=0.3) ==> class: c4, 39 images created..\n",
      "brightness (val=0.3) ==> class: c5, 40 images created..\n",
      "brightness (val=0.3) ==> class: c6, 38 images created..\n",
      "brightness (val=0.3) ==> class: c7, 40 images created..\n",
      "brightness (val=0.3) ==> class: c8, 37 images created..\n",
      "brightness (val=0.3) ==> class: c9, 88 images created..\n"
     ]
    }
   ],
   "source": [
    "print(\"Creating gausian blur images...\")\n",
    "create_img_gausian_blur(inp_train_dir, out_train_dir, radius=2)\n",
    "\n",
    "print(\"Creating sharpness images...\")\n",
    "create_img_sharpness(inp_train_dir, out_train_dir, val=10)\n",
    "\n",
    "print(\"Creating edge enhance more images...\")\n",
    "create_img_edge_enhance_more(inp_train_dir, out_train_dir)\n",
    "\n",
    "print(\"Creating crop border images...\")\n",
    "create_img_crop_border(inp_train_dir, out_train_dir, val=0.20)\n",
    "\n",
    "print(\"Creating shift UP images...\")\n",
    "create_img_shift(inp_train_dir, out_train_dir, direction=\"UP\", val=0.10)\n",
    "\n",
    "print(\"Creating brightness(5) images...\")\n",
    "create_img_brightness(inp_train_dir, out_train_dir,val=5)\n",
    "\n",
    "print(\"Creating brightness(0.30) images...\")\n",
    "create_img_brightness(inp_train_dir, out_train_dir, val=0.30)\n"
   ]
  },
  {
   "cell_type": "code",
   "execution_count": 17,
   "metadata": {},
   "outputs": [
    {
     "name": "stdout",
     "output_type": "stream",
     "text": [
      "final: dataset summary\n",
      "c0: 1724 images\n",
      "c1: 1794 images\n",
      "c2: 1793 images\n",
      "c3: 1822 images\n",
      "c4: 1860 images\n",
      "c5: 1887 images\n",
      "c6: 1795 images\n",
      "c7: 1897 images\n",
      "c8: 1748 images\n",
      "c9: 1726 images\n"
     ]
    }
   ],
   "source": [
    "# final: dataset summary\n",
    "print(\"final: dataset summary\")\n",
    "class_dirs = os.listdir(out_train_dir)\n",
    "for classname in class_dirs:\n",
    "    print('{}: {} images'.format(classname, len(os.listdir(os.path.join(out_train_dir, classname)))))"
   ]
  },
  {
   "cell_type": "code",
   "execution_count": 18,
   "metadata": {},
   "outputs": [
    {
     "name": "stdout",
     "output_type": "stream",
     "text": [
      "shape:  (18046, 3)\n"
     ]
    },
    {
     "data": {
      "text/html": [
       "<div>\n",
       "<style scoped>\n",
       "    .dataframe tbody tr th:only-of-type {\n",
       "        vertical-align: middle;\n",
       "    }\n",
       "\n",
       "    .dataframe tbody tr th {\n",
       "        vertical-align: top;\n",
       "    }\n",
       "\n",
       "    .dataframe thead th {\n",
       "        text-align: right;\n",
       "    }\n",
       "</style>\n",
       "<table border=\"1\" class=\"dataframe\">\n",
       "  <thead>\n",
       "    <tr style=\"text-align: right;\">\n",
       "      <th></th>\n",
       "      <th>file</th>\n",
       "      <th>class_id</th>\n",
       "      <th>classname</th>\n",
       "    </tr>\n",
       "  </thead>\n",
       "  <tbody>\n",
       "    <tr>\n",
       "      <th>0</th>\n",
       "      <td>D:/my_learning_dataset/state_farms_drivers/img...</td>\n",
       "      <td>0</td>\n",
       "      <td>c0</td>\n",
       "    </tr>\n",
       "    <tr>\n",
       "      <th>1</th>\n",
       "      <td>D:/my_learning_dataset/state_farms_drivers/img...</td>\n",
       "      <td>0</td>\n",
       "      <td>c0</td>\n",
       "    </tr>\n",
       "  </tbody>\n",
       "</table>\n",
       "</div>"
      ],
      "text/plain": [
       "                                                file  class_id classname\n",
       "0  D:/my_learning_dataset/state_farms_drivers/img...         0        c0\n",
       "1  D:/my_learning_dataset/state_farms_drivers/img...         0        c0"
      ]
     },
     "execution_count": 18,
     "metadata": {},
     "output_type": "execute_result"
    }
   ],
   "source": [
    "df_final_train = prepare_dataframe(out_train_dir)\n",
    "print(\"shape: \", df_final_train.shape)\n",
    "df_final_train.head(2)"
   ]
  },
  {
   "cell_type": "code",
   "execution_count": 19,
   "metadata": {},
   "outputs": [
    {
     "data": {
      "text/plain": [
       "<matplotlib.axes._subplots.AxesSubplot at 0x1d787378f98>"
      ]
     },
     "execution_count": 19,
     "metadata": {},
     "output_type": "execute_result"
    },
    {
     "data": {
      "image/png": "[encoded data removed]",
      "text/plain": [
       "<Figure size 432x288 with 1 Axes>"
      ]
     },
     "metadata": {
      "needs_background": "light"
     },
     "output_type": "display_data"
    }
   ],
   "source": [
    "#plotting how the classes are distributed - new dataset with noise\n",
    "sns.countplot(df_final_train[\"class_id\"])"
   ]
  },
  {
   "cell_type": "code",
   "execution_count": 20,
   "metadata": {},
   "outputs": [
    {
     "data": {
      "text/plain": [
       "<matplotlib.axes._subplots.AxesSubplot at 0x1d787d4fb38>"
      ]
     },
     "execution_count": 20,
     "metadata": {},
     "output_type": "execute_result"
    },
    {
     "data": {
      "image/png": "[encoded data removed]",
      "text/plain": [
       "<Figure size 432x288 with 1 Axes>"
      ]
     },
     "metadata": {
      "needs_background": "light"
     },
     "output_type": "display_data"
    }
   ],
   "source": [
    "#plotting how the classes are distributed - current dataset without noise\n",
    "sns.countplot(df_inp_train[\"class_id\"])"
   ]
  },
  {
   "cell_type": "code",
   "execution_count": null,
   "metadata": {},
   "outputs": [],
   "source": []
  }
 ],
 "metadata": {
  "colab": {
   "collapsed_sections": [],
   "name": "R8_External_Lab_Questions.ipynb",
   "provenance": [],
   "version": "0.3.2"
  },
  "kernelspec": {
   "display_name": "Python 3",
   "language": "python",
   "name": "python3"
  },
  "language_info": {
   "codemirror_mode": {
    "name": "ipython",
    "version": 3
   },
   "file_extension": ".py",
   "mimetype": "text/x-python",
   "name": "python",
   "nbconvert_exporter": "python",
   "pygments_lexer": "ipython3",
   "version": "3.7.1"
  }
 },
 "nbformat": 4,
 "nbformat_minor": 1
}
