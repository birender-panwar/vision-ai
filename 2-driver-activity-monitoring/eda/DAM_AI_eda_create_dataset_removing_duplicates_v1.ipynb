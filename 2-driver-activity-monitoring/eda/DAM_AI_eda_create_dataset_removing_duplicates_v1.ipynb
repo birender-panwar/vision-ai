{
 "cells": [
  {
   "cell_type": "markdown",
   "metadata": {
    "colab_type": "text",
    "id": "QGIsF1ADyJ58"
   },
   "source": [
    "# AI DAM Dataset creation after removing duplicates\n",
    "\n",
    "From the original dataset create new dataset after removing all the duplicates. input file dam_duplicate_list_ext.csv is used which contain whether particulat image is duplicate or not.\n",
    "\n",
    "duplicate_final attributes is used for image seggregation.\n",
    "value: 0 mean file is not duplicate and shall be used for model nuildinh\n",
    "       1 mean its duplicate image and shall not be considered for model building and hence not copied in the new dataset\n",
    "\n",
    "input file: dam_duplicate_list_ext.csv\n",
    "this file contain which image shall be consider for model bulding. \n",
    "\n",
    "original dataset: imgs_left\n",
    "dataset after removing duplicates: imgs_left_cure"
   ]
  },
  {
   "cell_type": "code",
   "execution_count": 1,
   "metadata": {},
   "outputs": [],
   "source": [
    "# import all necessary packages\n",
    "import warnings \n",
    "warnings.filterwarnings('ignore')\n",
    "\n",
    "import matplotlib.pyplot as plt\n",
    "%matplotlib inline\n",
    "\n",
    "import pandas as pd\n",
    "import numpy as np\n",
    "import seaborn as sns\n",
    "\n",
    "import time\n",
    "import os\n",
    "#from tqdm import tqdm # for progress indication"
   ]
  },
  {
   "cell_type": "markdown",
   "metadata": {
    "colab_type": "text",
    "id": "Cq8ejXHJyGYq"
   },
   "source": [
    "**Read the images and generate the train and test dataset**"
   ]
  },
  {
   "cell_type": "code",
   "execution_count": 2,
   "metadata": {},
   "outputs": [
    {
     "data": {
      "text/html": [
       "<div>\n",
       "<style scoped>\n",
       "    .dataframe tbody tr th:only-of-type {\n",
       "        vertical-align: middle;\n",
       "    }\n",
       "\n",
       "    .dataframe tbody tr th {\n",
       "        vertical-align: top;\n",
       "    }\n",
       "\n",
       "    .dataframe thead th {\n",
       "        text-align: right;\n",
       "    }\n",
       "</style>\n",
       "<table border=\"1\" class=\"dataframe\">\n",
       "  <thead>\n",
       "    <tr style=\"text-align: right;\">\n",
       "      <th></th>\n",
       "      <th>class</th>\n",
       "      <th>description</th>\n",
       "    </tr>\n",
       "  </thead>\n",
       "  <tbody>\n",
       "    <tr>\n",
       "      <th>0</th>\n",
       "      <td>c0</td>\n",
       "      <td>safe driving</td>\n",
       "    </tr>\n",
       "    <tr>\n",
       "      <th>1</th>\n",
       "      <td>c1</td>\n",
       "      <td>texting-right</td>\n",
       "    </tr>\n",
       "    <tr>\n",
       "      <th>2</th>\n",
       "      <td>c2</td>\n",
       "      <td>talking on the phone-right</td>\n",
       "    </tr>\n",
       "    <tr>\n",
       "      <th>3</th>\n",
       "      <td>c3</td>\n",
       "      <td>texting-left</td>\n",
       "    </tr>\n",
       "    <tr>\n",
       "      <th>4</th>\n",
       "      <td>c4</td>\n",
       "      <td>talking on the phone-left</td>\n",
       "    </tr>\n",
       "    <tr>\n",
       "      <th>5</th>\n",
       "      <td>c5</td>\n",
       "      <td>operating the radio</td>\n",
       "    </tr>\n",
       "    <tr>\n",
       "      <th>6</th>\n",
       "      <td>c6</td>\n",
       "      <td>rinking</td>\n",
       "    </tr>\n",
       "    <tr>\n",
       "      <th>7</th>\n",
       "      <td>c7</td>\n",
       "      <td>reaching behind</td>\n",
       "    </tr>\n",
       "    <tr>\n",
       "      <th>8</th>\n",
       "      <td>c8</td>\n",
       "      <td>hair and makeup</td>\n",
       "    </tr>\n",
       "    <tr>\n",
       "      <th>9</th>\n",
       "      <td>c9</td>\n",
       "      <td>talking to passenger</td>\n",
       "    </tr>\n",
       "  </tbody>\n",
       "</table>\n",
       "</div>"
      ],
      "text/plain": [
       "  class                 description\n",
       "0    c0                safe driving\n",
       "1    c1               texting-right\n",
       "2    c2  talking on the phone-right\n",
       "3    c3                texting-left\n",
       "4    c4   talking on the phone-left\n",
       "5    c5         operating the radio\n",
       "6    c6                     rinking\n",
       "7    c7             reaching behind\n",
       "8    c8             hair and makeup\n",
       "9    c9        talking to passenger"
      ]
     },
     "execution_count": 2,
     "metadata": {},
     "output_type": "execute_result"
    }
   ],
   "source": [
    "class_list =  ['c0', 'c1', 'c2', 'c3', 'c4', 'c5', 'c6','c7', 'c8', 'c9']\n",
    "class_desc = ['safe driving', 'texting-right', 'talking on the phone-right', 'texting-left', 'talking on the phone-left', \n",
    "              'operating the radio', 'rinking', 'reaching behind', 'hair and makeup', 'talking to passenger']\n",
    "pd.DataFrame({'class': class_list, 'description': class_desc})"
   ]
  },
  {
   "cell_type": "code",
   "execution_count": 3,
   "metadata": {},
   "outputs": [],
   "source": [
    "data_dir = 'D:/my_learning_dataset/state_farms_drivers/imgs_left/'\n",
    "#data_dir = '../input/imgsleft/imgs_left'   # For kernal\n",
    "out_data_dir = 'D:/my_learning_dataset/state_farms_drivers/imgs_left_cure/'\n",
    "\n",
    "train_dir = os.path.join(data_dir, 'train')\n",
    "out_train_dir = os.path.join(out_data_dir, 'train')"
   ]
  },
  {
   "cell_type": "code",
   "execution_count": 4,
   "metadata": {},
   "outputs": [
    {
     "name": "stdout",
     "output_type": "stream",
     "text": [
      "c0: 2489 images\n",
      "c1: 2267 images\n",
      "c2: 2317 images\n",
      "c3: 2346 images\n",
      "c4: 2326 images\n",
      "c5: 2312 images\n",
      "c6: 2325 images\n",
      "c7: 2002 images\n",
      "c8: 1911 images\n",
      "c9: 2129 images\n"
     ]
    }
   ],
   "source": [
    "for classname in class_list:\n",
    "    print('{}: {} images'.format(classname, len(os.listdir(os.path.join(train_dir, classname)))))"
   ]
  },
  {
   "cell_type": "code",
   "execution_count": 5,
   "metadata": {},
   "outputs": [
    {
     "name": "stdout",
     "output_type": "stream",
     "text": [
      "Shape:  (22424, 8)\n"
     ]
    },
    {
     "data": {
      "text/html": [
       "<div>\n",
       "<style scoped>\n",
       "    .dataframe tbody tr th:only-of-type {\n",
       "        vertical-align: middle;\n",
       "    }\n",
       "\n",
       "    .dataframe tbody tr th {\n",
       "        vertical-align: top;\n",
       "    }\n",
       "\n",
       "    .dataframe thead th {\n",
       "        text-align: right;\n",
       "    }\n",
       "</style>\n",
       "<table border=\"1\" class=\"dataframe\">\n",
       "  <thead>\n",
       "    <tr style=\"text-align: right;\">\n",
       "      <th></th>\n",
       "      <th>SNo</th>\n",
       "      <th>subject</th>\n",
       "      <th>classname</th>\n",
       "      <th>img</th>\n",
       "      <th>duplicate</th>\n",
       "      <th>parent_img</th>\n",
       "      <th>ssim_score</th>\n",
       "      <th>duplicate_final</th>\n",
       "    </tr>\n",
       "  </thead>\n",
       "  <tbody>\n",
       "    <tr>\n",
       "      <th>0</th>\n",
       "      <td>0</td>\n",
       "      <td>p002</td>\n",
       "      <td>c0</td>\n",
       "      <td>img_44733.jpg</td>\n",
       "      <td>0</td>\n",
       "      <td>NaN</td>\n",
       "      <td>0.000000</td>\n",
       "      <td>0</td>\n",
       "    </tr>\n",
       "    <tr>\n",
       "      <th>1</th>\n",
       "      <td>1</td>\n",
       "      <td>p002</td>\n",
       "      <td>c0</td>\n",
       "      <td>img_72999.jpg</td>\n",
       "      <td>1</td>\n",
       "      <td>img_44733.jpg</td>\n",
       "      <td>0.856947</td>\n",
       "      <td>1</td>\n",
       "    </tr>\n",
       "  </tbody>\n",
       "</table>\n",
       "</div>"
      ],
      "text/plain": [
       "   SNo subject classname            img  duplicate     parent_img  ssim_score  \\\n",
       "0    0    p002        c0  img_44733.jpg          0            NaN    0.000000   \n",
       "1    1    p002        c0  img_72999.jpg          1  img_44733.jpg    0.856947   \n",
       "\n",
       "   duplicate_final  \n",
       "0                0  \n",
       "1                1  "
      ]
     },
     "execution_count": 5,
     "metadata": {},
     "output_type": "execute_result"
    }
   ],
   "source": [
    "df_data = pd.read_csv(\"dam_duplicate_list_ext.csv\")\n",
    "print(\"Shape: \", df_data.shape)\n",
    "df_data.head(2)"
   ]
  },
  {
   "cell_type": "code",
   "execution_count": 6,
   "metadata": {},
   "outputs": [
    {
     "data": {
      "text/plain": [
       "0    15855\n",
       "1     6569\n",
       "Name: duplicate_final, dtype: int64"
      ]
     },
     "execution_count": 6,
     "metadata": {},
     "output_type": "execute_result"
    }
   ],
   "source": [
    "df_data.duplicate_final.value_counts()"
   ]
  },
  {
   "cell_type": "code",
   "execution_count": 7,
   "metadata": {},
   "outputs": [
    {
     "data": {
      "text/plain": [
       "(15855, 8)"
      ]
     },
     "execution_count": 7,
     "metadata": {},
     "output_type": "execute_result"
    }
   ],
   "source": [
    "#plotting how the classes are distributed\n",
    "df_data_final = df_data[df_data.duplicate_final==0]\n",
    "df_data_final.shape"
   ]
  },
  {
   "cell_type": "code",
   "execution_count": 8,
   "metadata": {},
   "outputs": [
    {
     "name": "stdout",
     "output_type": "stream",
     "text": [
      "Number of unique drivers:  26\n",
      "Number of class:  10\n"
     ]
    }
   ],
   "source": [
    "driver_list = df_data_final[\"subject\"].unique()\n",
    "class_id_list = df_data_final[\"classname\"].unique()\n",
    "print(\"Number of unique drivers: \", len(driver_list))\n",
    "print(\"Number of class: \", len(class_id_list))"
   ]
  },
  {
   "cell_type": "code",
   "execution_count": 9,
   "metadata": {},
   "outputs": [
    {
     "name": "stdout",
     "output_type": "stream",
     "text": [
      "MIN_NUM_IMGS_PER_DRIVER:  2\n",
      "MAX_NUM_IMGS_PER_DRIVER:  129\n"
     ]
    }
   ],
   "source": [
    "# get minimum and maxmimum of driver's samples in class across dataset\n",
    "CNT_PER_DRIVER_LIST = []\n",
    "for c in class_id_list:\n",
    "    for d in driver_list:\n",
    "        cnt = df_data_final[(df_data_final[\"classname\"] == c) & (df_data_final[\"subject\"] == d)].shape[0]     \n",
    "        CNT_PER_DRIVER_LIST.append(cnt)\n",
    "        \n",
    "MAX_NUM_IMGS_PER_DRIVER = np.max(CNT_PER_DRIVER_LIST)\n",
    "MIN_NUM_IMGS_PER_DRIVER = np.min(CNT_PER_DRIVER_LIST)\n",
    "print(\"MIN_NUM_IMGS_PER_DRIVER: \", MIN_NUM_IMGS_PER_DRIVER)\n",
    "print(\"MAX_NUM_IMGS_PER_DRIVER: \", MAX_NUM_IMGS_PER_DRIVER)"
   ]
  },
  {
   "cell_type": "markdown",
   "metadata": {},
   "source": [
    "***creat dataset without duplicates.. samples where duplicate_final=0***"
   ]
  },
  {
   "cell_type": "code",
   "execution_count": 10,
   "metadata": {},
   "outputs": [],
   "source": [
    "# creating new train directory with less number of images\n",
    "import shutil\n",
    "\n",
    "# clear old content if any\n",
    "if os.path.exists(out_data_dir):\n",
    "    shutil.rmtree(out_data_dir)\n",
    "    \n",
    "if os.path.exists(out_data_dir):\n",
    "    shutil.rmtree(out_data_dir)"
   ]
  },
  {
   "cell_type": "code",
   "execution_count": 11,
   "metadata": {},
   "outputs": [],
   "source": [
    "if not os.path.exists(out_data_dir):\n",
    "    os.mkdir(out_data_dir)\n",
    "    \n",
    "if not os.path.exists(out_train_dir):\n",
    "    os.mkdir(out_train_dir)\n",
    "\n",
    "for c in class_id_list:\n",
    "    class_dir = os.path.join(out_train_dir, c)\n",
    "    if not os.path.exists(class_dir):\n",
    "        os.mkdir(class_dir)"
   ]
  },
  {
   "cell_type": "code",
   "execution_count": 12,
   "metadata": {},
   "outputs": [
    {
     "name": "stdout",
     "output_type": "stream",
     "text": [
      "creating class c0 data..\n",
      "creating class c1 data..\n",
      "creating class c2 data..\n",
      "creating class c3 data..\n",
      "creating class c4 data..\n",
      "creating class c5 data..\n",
      "creating class c6 data..\n",
      "creating class c7 data..\n",
      "creating class c8 data..\n",
      "creating class c9 data..\n"
     ]
    }
   ],
   "source": [
    "for c in class_id_list:\n",
    "    print(\"creating class {} data..\".format(c))\n",
    "    df_class = df_data_final[df_data_final[\"classname\"] == c]\n",
    "    class_drivers_list = df_class[\"subject\"].unique()\n",
    "    for d in class_drivers_list:\n",
    "        df_class_driver = df_class[df_class[\"subject\"] == d]     \n",
    "        df_class_driver.reset_index(drop=True, inplace=True)\n",
    "        indices = np.arange(df_class_driver.shape[0]) # get numbers upto no.of records\n",
    "        for i in indices:\n",
    "            imgfile = df_class_driver.iloc[i].img\n",
    "            #print(\"{}:{}:{}\".format(c, d, imgfile))\n",
    "            src = '{}/{}/{}'.format(train_dir, c, imgfile)\n",
    "            dst = '{}/{}/'.format(out_train_dir, c)\n",
    "            shutil.copy(src,dst)\n",
    "            \n",
    "            dst_file_name = '{}/{}/{}'.format(out_train_dir, c, imgfile)\n",
    "            new_dst_file_name = '{}/{}/{}_{}'.format(out_train_dir, c, d, imgfile)\n",
    "            os.rename(dst_file_name, new_dst_file_name)        "
   ]
  },
  {
   "cell_type": "code",
   "execution_count": 13,
   "metadata": {},
   "outputs": [
    {
     "data": {
      "text/plain": [
       "<matplotlib.axes._subplots.AxesSubplot at 0x163b8fbc550>"
      ]
     },
     "execution_count": 13,
     "metadata": {},
     "output_type": "execute_result"
    },
    {
     "data": {
      "image/png": "[encoded data removed]",
      "text/plain": [
       "<Figure size 432x288 with 1 Axes>"
      ]
     },
     "metadata": {
      "needs_background": "light"
     },
     "output_type": "display_data"
    }
   ],
   "source": [
    "# plotting how the classes are distributed\n",
    "df_data_final.groupby(df_data[\"classname\"]).count()[\"img\"].plot(kind=\"bar\")"
   ]
  },
  {
   "cell_type": "code",
   "execution_count": 18,
   "metadata": {},
   "outputs": [
    {
     "data": {
      "text/plain": [
       "c5    1643\n",
       "c4    1640\n",
       "c7    1635\n",
       "c3    1585\n",
       "c2    1584\n",
       "c1    1567\n",
       "c8    1563\n",
       "c6    1562\n",
       "c0    1550\n",
       "c9    1526\n",
       "Name: classname, dtype: int64"
      ]
     },
     "execution_count": 18,
     "metadata": {},
     "output_type": "execute_result"
    }
   ],
   "source": [
    "df_data_final[\"classname\"].value_counts()"
   ]
  },
  {
   "cell_type": "code",
   "execution_count": 16,
   "metadata": {},
   "outputs": [
    {
     "name": "stdout",
     "output_type": "stream",
     "text": [
      "c0: 1550 images\n",
      "c1: 1567 images\n",
      "c2: 1584 images\n",
      "c3: 1585 images\n",
      "c4: 1640 images\n",
      "c5: 1643 images\n",
      "c6: 1562 images\n",
      "c7: 1635 images\n",
      "c8: 1563 images\n",
      "c9: 1526 images\n"
     ]
    }
   ],
   "source": [
    "# vefify if data count matches with above plot\n",
    "for c in class_list:\n",
    "    print('{}: {} images'.format(c, len(os.listdir(os.path.join(out_train_dir, c)))))"
   ]
  },
  {
   "cell_type": "code",
   "execution_count": null,
   "metadata": {},
   "outputs": [],
   "source": []
  },
  {
   "cell_type": "code",
   "execution_count": null,
   "metadata": {},
   "outputs": [],
   "source": []
  },
  {
   "cell_type": "code",
   "execution_count": null,
   "metadata": {},
   "outputs": [],
   "source": []
  }
 ],
 "metadata": {
  "colab": {
   "collapsed_sections": [],
   "name": "R8_External_Lab_Questions.ipynb",
   "provenance": [],
   "version": "0.3.2"
  },
  "kernelspec": {
   "display_name": "Python 3",
   "language": "python",
   "name": "python3"
  },
  "language_info": {
   "codemirror_mode": {
    "name": "ipython",
    "version": 3
   },
   "file_extension": ".py",
   "mimetype": "text/x-python",
   "name": "python",
   "nbconvert_exporter": "python",
   "pygments_lexer": "ipython3",
   "version": "3.7.1"
  }
 },
 "nbformat": 4,
 "nbformat_minor": 1
}
