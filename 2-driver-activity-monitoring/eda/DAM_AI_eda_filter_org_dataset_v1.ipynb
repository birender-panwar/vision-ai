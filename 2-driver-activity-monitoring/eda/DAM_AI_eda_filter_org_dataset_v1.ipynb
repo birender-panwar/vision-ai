{
 "cells": [
  {
   "cell_type": "markdown",
   "metadata": {
    "colab_type": "text",
    "id": "QGIsF1ADyJ58"
   },
   "source": [
    "# AI DAM Data Preperation"
   ]
  },
  {
   "cell_type": "code",
   "execution_count": 1,
   "metadata": {},
   "outputs": [],
   "source": [
    "# import all necessary packages\n",
    "import warnings \n",
    "warnings.filterwarnings('ignore')\n",
    "\n",
    "import matplotlib.pyplot as plt\n",
    "%matplotlib inline\n",
    "\n",
    "import pandas as pd\n",
    "import numpy as np\n",
    "import seaborn as sns\n",
    "\n",
    "import time\n",
    "import os\n",
    "#from tqdm import tqdm # for progress indication"
   ]
  },
  {
   "cell_type": "markdown",
   "metadata": {
    "colab_type": "text",
    "id": "Cq8ejXHJyGYq"
   },
   "source": [
    "**Read the images and generate the train and test dataset**"
   ]
  },
  {
   "cell_type": "code",
   "execution_count": 2,
   "metadata": {},
   "outputs": [
    {
     "data": {
      "text/html": [
       "<div>\n",
       "<style scoped>\n",
       "    .dataframe tbody tr th:only-of-type {\n",
       "        vertical-align: middle;\n",
       "    }\n",
       "\n",
       "    .dataframe tbody tr th {\n",
       "        vertical-align: top;\n",
       "    }\n",
       "\n",
       "    .dataframe thead th {\n",
       "        text-align: right;\n",
       "    }\n",
       "</style>\n",
       "<table border=\"1\" class=\"dataframe\">\n",
       "  <thead>\n",
       "    <tr style=\"text-align: right;\">\n",
       "      <th></th>\n",
       "      <th>class</th>\n",
       "      <th>description</th>\n",
       "    </tr>\n",
       "  </thead>\n",
       "  <tbody>\n",
       "    <tr>\n",
       "      <th>0</th>\n",
       "      <td>c0</td>\n",
       "      <td>safe driving</td>\n",
       "    </tr>\n",
       "    <tr>\n",
       "      <th>1</th>\n",
       "      <td>c1</td>\n",
       "      <td>texting-right</td>\n",
       "    </tr>\n",
       "    <tr>\n",
       "      <th>2</th>\n",
       "      <td>c2</td>\n",
       "      <td>talking on the phone-right</td>\n",
       "    </tr>\n",
       "    <tr>\n",
       "      <th>3</th>\n",
       "      <td>c3</td>\n",
       "      <td>texting-left</td>\n",
       "    </tr>\n",
       "    <tr>\n",
       "      <th>4</th>\n",
       "      <td>c4</td>\n",
       "      <td>talking on the phone-left</td>\n",
       "    </tr>\n",
       "    <tr>\n",
       "      <th>5</th>\n",
       "      <td>c5</td>\n",
       "      <td>operating the radio</td>\n",
       "    </tr>\n",
       "    <tr>\n",
       "      <th>6</th>\n",
       "      <td>c6</td>\n",
       "      <td>rinking</td>\n",
       "    </tr>\n",
       "    <tr>\n",
       "      <th>7</th>\n",
       "      <td>c7</td>\n",
       "      <td>reaching behind</td>\n",
       "    </tr>\n",
       "    <tr>\n",
       "      <th>8</th>\n",
       "      <td>c8</td>\n",
       "      <td>hair and makeup</td>\n",
       "    </tr>\n",
       "    <tr>\n",
       "      <th>9</th>\n",
       "      <td>c9</td>\n",
       "      <td>talking to passenger</td>\n",
       "    </tr>\n",
       "  </tbody>\n",
       "</table>\n",
       "</div>"
      ],
      "text/plain": [
       "  class                 description\n",
       "0    c0                safe driving\n",
       "1    c1               texting-right\n",
       "2    c2  talking on the phone-right\n",
       "3    c3                texting-left\n",
       "4    c4   talking on the phone-left\n",
       "5    c5         operating the radio\n",
       "6    c6                     rinking\n",
       "7    c7             reaching behind\n",
       "8    c8             hair and makeup\n",
       "9    c9        talking to passenger"
      ]
     },
     "execution_count": 2,
     "metadata": {},
     "output_type": "execute_result"
    }
   ],
   "source": [
    "class_list =  ['c0', 'c1', 'c2', 'c3', 'c4', 'c5', 'c6','c7', 'c8', 'c9']\n",
    "class_desc = ['safe driving', 'texting-right', 'talking on the phone-right', 'texting-left', 'talking on the phone-left', \n",
    "              'operating the radio', 'rinking', 'reaching behind', 'hair and makeup', 'talking to passenger']\n",
    "pd.DataFrame({'class': class_list, 'description': class_desc})"
   ]
  },
  {
   "cell_type": "code",
   "execution_count": 5,
   "metadata": {},
   "outputs": [],
   "source": [
    "data_dir = 'D:/my_learning_dataset/state_farms_drivers/imgs/'\n",
    "out_data_dir = 'D:/my_learning_dataset/state_farms_drivers/imgs_left_dseq/'\n",
    "\n",
    "train_dir = os.path.join(data_dir, 'train')\n",
    "out_train_dir = os.path.join(out_data_dir, 'train')"
   ]
  },
  {
   "cell_type": "code",
   "execution_count": 6,
   "metadata": {},
   "outputs": [
    {
     "name": "stdout",
     "output_type": "stream",
     "text": [
      "c0: 2489 images\n",
      "c1: 2267 images\n",
      "c2: 2317 images\n",
      "c3: 2346 images\n",
      "c4: 2326 images\n",
      "c5: 2312 images\n",
      "c6: 2325 images\n",
      "c7: 2002 images\n",
      "c8: 1911 images\n",
      "c9: 2129 images\n"
     ]
    }
   ],
   "source": [
    "for classname in class_list:\n",
    "    print('{}: {} images'.format(classname, len(os.listdir(os.path.join(train_dir, classname)))))"
   ]
  },
  {
   "cell_type": "code",
   "execution_count": 7,
   "metadata": {},
   "outputs": [
    {
     "name": "stdout",
     "output_type": "stream",
     "text": [
      "Shape:  (22424, 3)\n"
     ]
    },
    {
     "data": {
      "text/html": [
       "<div>\n",
       "<style scoped>\n",
       "    .dataframe tbody tr th:only-of-type {\n",
       "        vertical-align: middle;\n",
       "    }\n",
       "\n",
       "    .dataframe tbody tr th {\n",
       "        vertical-align: top;\n",
       "    }\n",
       "\n",
       "    .dataframe thead th {\n",
       "        text-align: right;\n",
       "    }\n",
       "</style>\n",
       "<table border=\"1\" class=\"dataframe\">\n",
       "  <thead>\n",
       "    <tr style=\"text-align: right;\">\n",
       "      <th></th>\n",
       "      <th>subject</th>\n",
       "      <th>classname</th>\n",
       "      <th>img</th>\n",
       "    </tr>\n",
       "  </thead>\n",
       "  <tbody>\n",
       "    <tr>\n",
       "      <th>0</th>\n",
       "      <td>p002</td>\n",
       "      <td>c0</td>\n",
       "      <td>img_44733.jpg</td>\n",
       "    </tr>\n",
       "    <tr>\n",
       "      <th>1</th>\n",
       "      <td>p002</td>\n",
       "      <td>c0</td>\n",
       "      <td>img_72999.jpg</td>\n",
       "    </tr>\n",
       "  </tbody>\n",
       "</table>\n",
       "</div>"
      ],
      "text/plain": [
       "  subject classname            img\n",
       "0    p002        c0  img_44733.jpg\n",
       "1    p002        c0  img_72999.jpg"
      ]
     },
     "execution_count": 7,
     "metadata": {},
     "output_type": "execute_result"
    }
   ],
   "source": [
    "df_driver = pd.read_csv(\"driver_imgs_list.csv\")\n",
    "print(\"Shape: \", df_driver.shape)\n",
    "df_driver.head(2)"
   ]
  },
  {
   "cell_type": "code",
   "execution_count": 8,
   "metadata": {},
   "outputs": [
    {
     "data": {
      "text/plain": [
       "<matplotlib.axes._subplots.AxesSubplot at 0x21ebb030d30>"
      ]
     },
     "execution_count": 8,
     "metadata": {},
     "output_type": "execute_result"
    },
    {
     "data": {
      "image/png": "[encoded data removed]",
      "text/plain": [
       "<Figure size 432x288 with 1 Axes>"
      ]
     },
     "metadata": {
      "needs_background": "light"
     },
     "output_type": "display_data"
    }
   ],
   "source": [
    "#plotting how the classes are distributed\n",
    "sns.countplot(df_driver[\"subject\"])"
   ]
  },
  {
   "cell_type": "code",
   "execution_count": 9,
   "metadata": {},
   "outputs": [
    {
     "name": "stdout",
     "output_type": "stream",
     "text": [
      "Number of unique drivers:  26\n",
      "Number of class:  10\n"
     ]
    }
   ],
   "source": [
    "driver_list = df_driver[\"subject\"].unique()\n",
    "class_id_list = df_driver[\"classname\"].unique()\n",
    "print(\"Number of unique drivers: \", len(driver_list))\n",
    "print(\"Number of class: \", len(class_id_list))"
   ]
  },
  {
   "cell_type": "code",
   "execution_count": 10,
   "metadata": {},
   "outputs": [
    {
     "data": {
      "text/plain": [
       "p021    1237\n",
       "p022    1233\n",
       "p024    1226\n",
       "p026    1196\n",
       "p016    1078\n",
       "p066    1034\n",
       "p049    1011\n",
       "p051     920\n",
       "p014     876\n",
       "p015     875\n",
       "p035     848\n",
       "p047     835\n",
       "p012     823\n",
       "p081     823\n",
       "p064     820\n",
       "p075     814\n",
       "p061     809\n",
       "p056     794\n",
       "p050     790\n",
       "p052     740\n",
       "p002     725\n",
       "p045     724\n",
       "p039     651\n",
       "p041     605\n",
       "p042     591\n",
       "p072     346\n",
       "Name: subject, dtype: int64"
      ]
     },
     "execution_count": 10,
     "metadata": {},
     "output_type": "execute_result"
    }
   ],
   "source": [
    "df_driver[\"subject\"].value_counts()"
   ]
  },
  {
   "cell_type": "code",
   "execution_count": 11,
   "metadata": {},
   "outputs": [
    {
     "name": "stdout",
     "output_type": "stream",
     "text": [
      "Number of unique drivers in class c0: 26\n",
      "Number of unique drivers in class c1: 26\n",
      "Number of unique drivers in class c2: 26\n",
      "Number of unique drivers in class c3: 26\n",
      "Number of unique drivers in class c4: 26\n",
      "Number of unique drivers in class c5: 26\n",
      "Number of unique drivers in class c6: 26\n",
      "Number of unique drivers in class c7: 26\n",
      "Number of unique drivers in class c8: 26\n",
      "Number of unique drivers in class c9: 26\n"
     ]
    }
   ],
   "source": [
    "for c in class_id_list:\n",
    "    df_class = df_driver[df_driver[\"classname\"] == c]\n",
    "    classdriver_list = df_class[\"subject\"].unique()\n",
    "    print(\"Number of unique drivers in class {}: {}\".format(c, len(classdriver_list)))"
   ]
  },
  {
   "cell_type": "code",
   "execution_count": 20,
   "metadata": {},
   "outputs": [
    {
     "name": "stdout",
     "output_type": "stream",
     "text": [
      "class: c0, driver:p002, count:76\n",
      "class: c0, driver:p012, count:84\n",
      "class: c0, driver:p014, count:100\n",
      "class: c0, driver:p015, count:79\n",
      "class: c0, driver:p016, count:111\n",
      "class: c0, driver:p021, count:135\n",
      "class: c0, driver:p022, count:129\n",
      "class: c0, driver:p024, count:130\n",
      "class: c0, driver:p026, count:130\n",
      "class: c0, driver:p035, count:94\n",
      "class: c0, driver:p039, count:65\n",
      "class: c0, driver:p041, count:60\n",
      "class: c0, driver:p042, count:59\n",
      "class: c0, driver:p045, count:75\n",
      "class: c0, driver:p047, count:80\n",
      "class: c0, driver:p049, count:84\n",
      "class: c0, driver:p050, count:123\n",
      "class: c0, driver:p051, count:182\n",
      "class: c0, driver:p052, count:72\n",
      "class: c0, driver:p056, count:81\n",
      "class: c0, driver:p061, count:84\n",
      "class: c0, driver:p064, count:83\n",
      "class: c0, driver:p066, count:129\n",
      "class: c0, driver:p072, count:63\n",
      "class: c0, driver:p075, count:81\n",
      "class: c0, driver:p081, count:100\n",
      "class: c1, driver:p002, count:74\n",
      "class: c1, driver:p012, count:95\n",
      "class: c1, driver:p014, count:103\n",
      "class: c1, driver:p015, count:85\n",
      "class: c1, driver:p016, count:102\n",
      "class: c1, driver:p021, count:131\n",
      "class: c1, driver:p022, count:129\n",
      "class: c1, driver:p024, count:129\n",
      "class: c1, driver:p026, count:129\n",
      "class: c1, driver:p035, count:81\n",
      "class: c1, driver:p039, count:63\n",
      "class: c1, driver:p041, count:64\n",
      "class: c1, driver:p042, count:59\n",
      "class: c1, driver:p045, count:75\n",
      "class: c1, driver:p047, count:91\n",
      "class: c1, driver:p049, count:85\n",
      "class: c1, driver:p050, count:45\n",
      "class: c1, driver:p051, count:81\n",
      "class: c1, driver:p052, count:71\n",
      "class: c1, driver:p056, count:80\n",
      "class: c1, driver:p061, count:81\n",
      "class: c1, driver:p064, count:81\n",
      "class: c1, driver:p066, count:100\n",
      "class: c1, driver:p072, count:62\n",
      "class: c1, driver:p075, count:81\n",
      "class: c1, driver:p081, count:90\n",
      "class: c2, driver:p002, count:86\n",
      "class: c2, driver:p012, count:91\n",
      "class: c2, driver:p014, count:100\n",
      "class: c2, driver:p015, count:88\n",
      "class: c2, driver:p016, count:101\n",
      "class: c2, driver:p021, count:127\n",
      "class: c2, driver:p022, count:128\n",
      "class: c2, driver:p024, count:128\n",
      "class: c2, driver:p026, count:130\n",
      "class: c2, driver:p035, count:88\n",
      "class: c2, driver:p039, count:70\n",
      "class: c2, driver:p041, count:60\n",
      "class: c2, driver:p042, count:60\n",
      "class: c2, driver:p045, count:76\n",
      "class: c2, driver:p047, count:81\n",
      "class: c2, driver:p049, count:119\n",
      "class: c2, driver:p050, count:52\n",
      "class: c2, driver:p051, count:81\n",
      "class: c2, driver:p052, count:84\n",
      "class: c2, driver:p056, count:80\n",
      "class: c2, driver:p061, count:81\n",
      "class: c2, driver:p064, count:83\n",
      "class: c2, driver:p066, count:106\n",
      "class: c2, driver:p072, count:36\n",
      "class: c2, driver:p075, count:85\n",
      "class: c2, driver:p081, count:96\n",
      "class: c3, driver:p002, count:79\n",
      "class: c3, driver:p012, count:89\n",
      "class: c3, driver:p014, count:100\n",
      "class: c3, driver:p015, count:94\n",
      "class: c3, driver:p016, count:128\n",
      "class: c3, driver:p021, count:128\n",
      "class: c3, driver:p022, count:129\n",
      "class: c3, driver:p024, count:130\n",
      "class: c3, driver:p026, count:131\n",
      "class: c3, driver:p035, count:89\n",
      "class: c3, driver:p039, count:65\n",
      "class: c3, driver:p041, count:60\n",
      "class: c3, driver:p042, count:59\n",
      "class: c3, driver:p045, count:75\n",
      "class: c3, driver:p047, count:86\n",
      "class: c3, driver:p049, count:110\n",
      "class: c3, driver:p050, count:98\n",
      "class: c3, driver:p051, count:83\n",
      "class: c3, driver:p052, count:75\n",
      "class: c3, driver:p056, count:78\n",
      "class: c3, driver:p061, count:83\n",
      "class: c3, driver:p064, count:84\n",
      "class: c3, driver:p066, count:101\n",
      "class: c3, driver:p072, count:31\n",
      "class: c3, driver:p075, count:79\n",
      "class: c3, driver:p081, count:82\n",
      "class: c4, driver:p002, count:84\n",
      "class: c4, driver:p012, count:97\n",
      "class: c4, driver:p014, count:103\n",
      "class: c4, driver:p015, count:101\n",
      "class: c4, driver:p016, count:104\n",
      "class: c4, driver:p021, count:132\n",
      "class: c4, driver:p022, count:130\n",
      "class: c4, driver:p024, count:129\n",
      "class: c4, driver:p026, count:126\n",
      "class: c4, driver:p035, count:89\n",
      "class: c4, driver:p039, count:62\n",
      "class: c4, driver:p041, count:60\n",
      "class: c4, driver:p042, count:58\n",
      "class: c4, driver:p045, count:75\n",
      "class: c4, driver:p047, count:82\n",
      "class: c4, driver:p049, count:109\n",
      "class: c4, driver:p050, count:83\n",
      "class: c4, driver:p051, count:81\n",
      "class: c4, driver:p052, count:72\n",
      "class: c4, driver:p056, count:82\n",
      "class: c4, driver:p061, count:79\n",
      "class: c4, driver:p064, count:86\n",
      "class: c4, driver:p066, count:102\n",
      "class: c4, driver:p072, count:34\n",
      "class: c4, driver:p075, count:89\n",
      "class: c4, driver:p081, count:77\n",
      "class: c5, driver:p002, count:76\n",
      "class: c5, driver:p012, count:96\n",
      "class: c5, driver:p014, count:102\n",
      "class: c5, driver:p015, count:101\n",
      "class: c5, driver:p016, count:104\n",
      "class: c5, driver:p021, count:130\n",
      "class: c5, driver:p022, count:130\n",
      "class: c5, driver:p024, count:131\n",
      "class: c5, driver:p026, count:130\n",
      "class: c5, driver:p035, count:89\n",
      "class: c5, driver:p039, count:64\n",
      "class: c5, driver:p041, count:61\n",
      "class: c5, driver:p042, count:59\n",
      "class: c5, driver:p045, count:76\n",
      "class: c5, driver:p047, count:87\n",
      "class: c5, driver:p049, count:116\n",
      "class: c5, driver:p050, count:91\n",
      "class: c5, driver:p051, count:83\n",
      "class: c5, driver:p052, count:72\n",
      "class: c5, driver:p056, count:81\n",
      "class: c5, driver:p061, count:81\n",
      "class: c5, driver:p064, count:85\n",
      "class: c5, driver:p066, count:101\n",
      "class: c5, driver:p072, count:6\n",
      "class: c5, driver:p075, count:79\n",
      "class: c5, driver:p081, count:81\n",
      "class: c6, driver:p002, count:83\n",
      "class: c6, driver:p012, count:75\n",
      "class: c6, driver:p014, count:101\n",
      "class: c6, driver:p015, count:99\n",
      "class: c6, driver:p016, count:108\n",
      "class: c6, driver:p021, count:126\n",
      "class: c6, driver:p022, count:131\n",
      "class: c6, driver:p024, count:129\n",
      "class: c6, driver:p026, count:128\n",
      "class: c6, driver:p035, count:94\n",
      "class: c6, driver:p039, count:63\n",
      "class: c6, driver:p041, count:61\n",
      "class: c6, driver:p042, count:59\n",
      "class: c6, driver:p045, count:71\n",
      "class: c6, driver:p047, count:81\n",
      "class: c6, driver:p049, count:119\n",
      "class: c6, driver:p050, count:82\n",
      "class: c6, driver:p051, count:95\n",
      "class: c6, driver:p052, count:77\n",
      "class: c6, driver:p056, count:80\n",
      "class: c6, driver:p061, count:80\n",
      "class: c6, driver:p064, count:82\n",
      "class: c6, driver:p066, count:105\n",
      "class: c6, driver:p072, count:35\n",
      "class: c6, driver:p075, count:82\n",
      "class: c6, driver:p081, count:79\n",
      "class: c7, driver:p002, count:72\n",
      "class: c7, driver:p012, count:72\n",
      "class: c7, driver:p014, count:77\n",
      "class: c7, driver:p015, count:81\n",
      "class: c7, driver:p016, count:101\n",
      "class: c7, driver:p021, count:98\n",
      "class: c7, driver:p022, count:98\n",
      "class: c7, driver:p024, count:101\n",
      "class: c7, driver:p026, count:97\n",
      "class: c7, driver:p035, count:87\n",
      "class: c7, driver:p039, count:64\n",
      "class: c7, driver:p041, count:61\n",
      "class: c7, driver:p042, count:59\n",
      "class: c7, driver:p045, count:67\n",
      "class: c7, driver:p047, count:82\n",
      "class: c7, driver:p049, count:74\n",
      "class: c7, driver:p050, count:81\n",
      "class: c7, driver:p051, count:80\n",
      "class: c7, driver:p052, count:71\n",
      "class: c7, driver:p056, count:74\n",
      "class: c7, driver:p061, count:79\n",
      "class: c7, driver:p064, count:79\n",
      "class: c7, driver:p066, count:86\n",
      "class: c7, driver:p072, count:2\n",
      "class: c7, driver:p075, count:82\n",
      "class: c7, driver:p081, count:77\n",
      "class: c8, driver:p002, count:44\n",
      "class: c8, driver:p012, count:62\n",
      "class: c8, driver:p014, count:38\n",
      "class: c8, driver:p015, count:86\n",
      "class: c8, driver:p016, count:99\n",
      "class: c8, driver:p021, count:99\n",
      "class: c8, driver:p022, count:98\n",
      "class: c8, driver:p024, count:99\n",
      "class: c8, driver:p026, count:97\n",
      "class: c8, driver:p035, count:56\n",
      "class: c8, driver:p039, count:70\n",
      "class: c8, driver:p041, count:59\n",
      "class: c8, driver:p042, count:59\n",
      "class: c8, driver:p045, count:66\n",
      "class: c8, driver:p047, count:82\n",
      "class: c8, driver:p049, count:79\n",
      "class: c8, driver:p050, count:65\n",
      "class: c8, driver:p051, count:62\n",
      "class: c8, driver:p052, count:71\n",
      "class: c8, driver:p056, count:83\n",
      "class: c8, driver:p061, count:81\n",
      "class: c8, driver:p064, count:81\n",
      "class: c8, driver:p066, count:114\n",
      "class: c8, driver:p072, count:21\n",
      "class: c8, driver:p075, count:79\n",
      "class: c8, driver:p081, count:61\n",
      "class: c9, driver:p002, count:51\n",
      "class: c9, driver:p012, count:62\n",
      "class: c9, driver:p014, count:52\n",
      "class: c9, driver:p015, count:61\n",
      "class: c9, driver:p016, count:120\n",
      "class: c9, driver:p021, count:131\n",
      "class: c9, driver:p022, count:131\n",
      "class: c9, driver:p024, count:120\n",
      "class: c9, driver:p026, count:98\n",
      "class: c9, driver:p035, count:81\n",
      "class: c9, driver:p039, count:65\n",
      "class: c9, driver:p041, count:59\n",
      "class: c9, driver:p042, count:60\n",
      "class: c9, driver:p045, count:68\n",
      "class: c9, driver:p047, count:83\n",
      "class: c9, driver:p049, count:116\n",
      "class: c9, driver:p050, count:70\n"
     ]
    },
    {
     "name": "stdout",
     "output_type": "stream",
     "text": [
      "class: c9, driver:p051, count:92\n",
      "class: c9, driver:p052, count:75\n",
      "class: c9, driver:p056, count:75\n",
      "class: c9, driver:p061, count:80\n",
      "class: c9, driver:p064, count:76\n",
      "class: c9, driver:p066, count:90\n",
      "class: c9, driver:p072, count:56\n",
      "class: c9, driver:p075, count:77\n",
      "class: c9, driver:p081, count:80\n"
     ]
    }
   ],
   "source": [
    "CNT_PER_DRIVER_LIST = []\n",
    "for c in class_id_list:\n",
    "    df_class = df_driver[df_driver[\"classname\"] == c]\n",
    "    class_drivers_list = df_class[\"subject\"].unique()\n",
    "    for d in class_drivers_list:\n",
    "        df_class_driver = df_class[df_class[\"subject\"] == d]     \n",
    "        print(\"class: {}, driver:{}, count:{}\".format(c,d, df_class_driver.shape[0]))\n",
    "        CNT_PER_DRIVER_LIST.append(df_class_driver.shape[0])"
   ]
  },
  {
   "cell_type": "code",
   "execution_count": 19,
   "metadata": {},
   "outputs": [
    {
     "name": "stdout",
     "output_type": "stream",
     "text": [
      "MIN_NUM_IMGS_PER_DRIVER:  2\n",
      "MAX_NUM_IMGS_PER_DRIVER:  182\n"
     ]
    }
   ],
   "source": [
    "MAX_NUM_IMGS_PER_DRIVER = np.max(CNT_PER_DRIVER_LIST)\n",
    "MIN_NUM_IMGS_PER_DRIVER = np.min(CNT_PER_DRIVER_LIST)\n",
    "print(\"MIN_NUM_IMGS_PER_DRIVER: \", MIN_NUM_IMGS_PER_DRIVER)\n",
    "print(\"MAX_NUM_IMGS_PER_DRIVER: \", MAX_NUM_IMGS_PER_DRIVER)"
   ]
  },
  {
   "cell_type": "code",
   "execution_count": 21,
   "metadata": {},
   "outputs": [],
   "source": [
    "# creating new train directory with less number of images\n",
    "import shutil\n",
    "\n",
    "# clear old content if any\n",
    "if os.path.exists(out_data_dir):\n",
    "    shutil.rmtree(out_data_dir)\n",
    "    \n",
    "if os.path.exists(out_data_dir):\n",
    "    shutil.rmtree(out_data_dir)"
   ]
  },
  {
   "cell_type": "code",
   "execution_count": 22,
   "metadata": {},
   "outputs": [],
   "source": [
    "if not os.path.exists(out_data_dir):\n",
    "    os.mkdir(out_data_dir)\n",
    "    \n",
    "if not os.path.exists(out_train_dir):\n",
    "    os.mkdir(out_train_dir)\n",
    "\n",
    "for c in class_id_list:\n",
    "    class_dir = os.path.join(out_train_dir, c)\n",
    "    if not os.path.exists(class_dir):\n",
    "        os.mkdir(class_dir)"
   ]
  },
  {
   "cell_type": "code",
   "execution_count": 23,
   "metadata": {},
   "outputs": [
    {
     "name": "stdout",
     "output_type": "stream",
     "text": [
      "creating class c0 data..\n",
      "creating class c1 data..\n",
      "creating class c2 data..\n",
      "creating class c3 data..\n",
      "creating class c4 data..\n",
      "creating class c5 data..\n",
      "creating class c6 data..\n",
      "creating class c7 data..\n",
      "creating class c8 data..\n",
      "creating class c9 data..\n"
     ]
    }
   ],
   "source": [
    "NUM_IMGS_PER_DRIVER = 10 # to limit image count pr driver\n",
    "NUM_IMGS_PER_DRIVER = 200 # to get all the imgs of the drivers\n",
    "\n",
    "for c in class_id_list:\n",
    "    print(\"creating class {} data..\".format(c))\n",
    "    df_class = df_driver[df_driver[\"classname\"] == c]\n",
    "    class_drivers_list = df_class[\"subject\"].unique()\n",
    "    for d in class_drivers_list:\n",
    "        df_class_driver = df_class[df_class[\"subject\"] == d]     \n",
    "        df_class_driver.reset_index(drop=True, inplace=True)\n",
    "        indices = np.arange(df_class_driver.shape[0]) # get numbers upto no.of records\n",
    "        np.random.shuffle(indices) # shuffle the numbers\n",
    "        for i in indices[:NUM_IMGS_PER_DRIVER]:\n",
    "            imgfile = df_class_driver.iloc[i].img\n",
    "            #print(\"{}:{}:{}\".format(c, d, imgfile))\n",
    "            src = '{}/{}/{}'.format(train_dir, c, imgfile)\n",
    "            dst = '{}/{}/'.format(out_train_dir, c)\n",
    "            shutil.copy(src,dst)\n",
    "            \n",
    "            dst_file_name = '{}/{}/{}'.format(out_train_dir, c, imgfile)\n",
    "            new_dst_file_name = '{}/{}/{}_{}'.format(out_train_dir, c, d, imgfile)\n",
    "            os.rename(dst_file_name, new_dst_file_name)        "
   ]
  },
  {
   "cell_type": "code",
   "execution_count": 24,
   "metadata": {},
   "outputs": [
    {
     "name": "stdout",
     "output_type": "stream",
     "text": [
      "c0: 2489 images\n",
      "c1: 2267 images\n",
      "c2: 2317 images\n",
      "c3: 2346 images\n",
      "c4: 2326 images\n",
      "c5: 2312 images\n",
      "c6: 2325 images\n",
      "c7: 2002 images\n",
      "c8: 1911 images\n",
      "c9: 2129 images\n"
     ]
    }
   ],
   "source": [
    "for c in class_list:\n",
    "    print('{}: {} images'.format(c, len(os.listdir(os.path.join(out_train_dir, c)))))"
   ]
  },
  {
   "cell_type": "code",
   "execution_count": null,
   "metadata": {},
   "outputs": [],
   "source": []
  },
  {
   "cell_type": "code",
   "execution_count": null,
   "metadata": {},
   "outputs": [],
   "source": []
  },
  {
   "cell_type": "code",
   "execution_count": null,
   "metadata": {},
   "outputs": [],
   "source": []
  }
 ],
 "metadata": {
  "colab": {
   "collapsed_sections": [],
   "name": "R8_External_Lab_Questions.ipynb",
   "provenance": [],
   "version": "0.3.2"
  },
  "kernelspec": {
   "display_name": "Python 3",
   "language": "python",
   "name": "python3"
  },
  "language_info": {
   "codemirror_mode": {
    "name": "ipython",
    "version": 3
   },
   "file_extension": ".py",
   "mimetype": "text/x-python",
   "name": "python",
   "nbconvert_exporter": "python",
   "pygments_lexer": "ipython3",
   "version": "3.7.1"
  }
 },
 "nbformat": 4,
 "nbformat_minor": 1
}
