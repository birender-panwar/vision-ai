{
 "cells": [
  {
   "cell_type": "markdown",
   "metadata": {
    "colab_type": "text",
    "id": "QGIsF1ADyJ58"
   },
   "source": [
    "# AI DAM Data Preperation: final duplicate list\n",
    "\n",
    "1. this notebook is to create final list of duplicate images based on different Similarity Threshold for each class.\n",
    "2. input file: dam_duplicate_list.csv\n",
    "this csv file contains list of all image with their ssim_score for 0.80 threshold. however to balance the class distrubution each class is given slight different threshold and final list is prepared with output file as: driver_duplicate_list_ext.csv\n",
    "\n",
    "duplicate: 1: this attribute indicate whether image is duplicate or not for ssim threshold as 0.80\n",
    "value: 0 =>no duplicate\n",
    "        1 => duplicate and parent_img contains it's duplicate object\n",
    "\n",
    "output file: dam_duplicate_list_ext.csv\n",
    "duplicate_final: this attribute is created after readjusting the threshold for each class. \n",
    "value: 0 =>no duplicate\n",
    "       1 => duplicate and parent_img contains it's duplicate object\n"
   ]
  },
  {
   "cell_type": "code",
   "execution_count": 1,
   "metadata": {},
   "outputs": [],
   "source": [
    "# import all necessary packages\n",
    "import warnings \n",
    "warnings.filterwarnings('ignore')\n",
    "\n",
    "import matplotlib.pyplot as plt\n",
    "%matplotlib inline\n",
    "\n",
    "import pandas as pd\n",
    "import numpy as np\n",
    "import seaborn as sns\n",
    "\n",
    "import time\n",
    "import os\n",
    "#from tqdm import tqdm # for progress indication"
   ]
  },
  {
   "cell_type": "markdown",
   "metadata": {
    "colab_type": "text",
    "id": "Cq8ejXHJyGYq"
   },
   "source": [
    "**Read the images and generate the train and test dataset**"
   ]
  },
  {
   "cell_type": "code",
   "execution_count": 2,
   "metadata": {},
   "outputs": [
    {
     "data": {
      "text/html": [
       "<div>\n",
       "<style scoped>\n",
       "    .dataframe tbody tr th:only-of-type {\n",
       "        vertical-align: middle;\n",
       "    }\n",
       "\n",
       "    .dataframe tbody tr th {\n",
       "        vertical-align: top;\n",
       "    }\n",
       "\n",
       "    .dataframe thead th {\n",
       "        text-align: right;\n",
       "    }\n",
       "</style>\n",
       "<table border=\"1\" class=\"dataframe\">\n",
       "  <thead>\n",
       "    <tr style=\"text-align: right;\">\n",
       "      <th></th>\n",
       "      <th>class</th>\n",
       "      <th>description</th>\n",
       "    </tr>\n",
       "  </thead>\n",
       "  <tbody>\n",
       "    <tr>\n",
       "      <th>0</th>\n",
       "      <td>c0</td>\n",
       "      <td>safe driving</td>\n",
       "    </tr>\n",
       "    <tr>\n",
       "      <th>1</th>\n",
       "      <td>c1</td>\n",
       "      <td>texting-right</td>\n",
       "    </tr>\n",
       "    <tr>\n",
       "      <th>2</th>\n",
       "      <td>c2</td>\n",
       "      <td>talking on the phone-right</td>\n",
       "    </tr>\n",
       "    <tr>\n",
       "      <th>3</th>\n",
       "      <td>c3</td>\n",
       "      <td>texting-left</td>\n",
       "    </tr>\n",
       "    <tr>\n",
       "      <th>4</th>\n",
       "      <td>c4</td>\n",
       "      <td>talking on the phone-left</td>\n",
       "    </tr>\n",
       "    <tr>\n",
       "      <th>5</th>\n",
       "      <td>c5</td>\n",
       "      <td>operating the radio</td>\n",
       "    </tr>\n",
       "    <tr>\n",
       "      <th>6</th>\n",
       "      <td>c6</td>\n",
       "      <td>rinking</td>\n",
       "    </tr>\n",
       "    <tr>\n",
       "      <th>7</th>\n",
       "      <td>c7</td>\n",
       "      <td>reaching behind</td>\n",
       "    </tr>\n",
       "    <tr>\n",
       "      <th>8</th>\n",
       "      <td>c8</td>\n",
       "      <td>hair and makeup</td>\n",
       "    </tr>\n",
       "    <tr>\n",
       "      <th>9</th>\n",
       "      <td>c9</td>\n",
       "      <td>talking to passenger</td>\n",
       "    </tr>\n",
       "  </tbody>\n",
       "</table>\n",
       "</div>"
      ],
      "text/plain": [
       "  class                 description\n",
       "0    c0                safe driving\n",
       "1    c1               texting-right\n",
       "2    c2  talking on the phone-right\n",
       "3    c3                texting-left\n",
       "4    c4   talking on the phone-left\n",
       "5    c5         operating the radio\n",
       "6    c6                     rinking\n",
       "7    c7             reaching behind\n",
       "8    c8             hair and makeup\n",
       "9    c9        talking to passenger"
      ]
     },
     "execution_count": 2,
     "metadata": {},
     "output_type": "execute_result"
    }
   ],
   "source": [
    "class_list =  ['c0', 'c1', 'c2', 'c3', 'c4', 'c5', 'c6','c7', 'c8', 'c9']\n",
    "class_desc = ['safe driving', 'texting-right', 'talking on the phone-right', 'texting-left', 'talking on the phone-left', \n",
    "              'operating the radio', 'rinking', 'reaching behind', 'hair and makeup', 'talking to passenger']\n",
    "pd.DataFrame({'class': class_list, 'description': class_desc})"
   ]
  },
  {
   "cell_type": "code",
   "execution_count": 5,
   "metadata": {},
   "outputs": [
    {
     "name": "stdout",
     "output_type": "stream",
     "text": [
      "Shape:  (22424, 7)\n"
     ]
    },
    {
     "data": {
      "text/html": [
       "<div>\n",
       "<style scoped>\n",
       "    .dataframe tbody tr th:only-of-type {\n",
       "        vertical-align: middle;\n",
       "    }\n",
       "\n",
       "    .dataframe tbody tr th {\n",
       "        vertical-align: top;\n",
       "    }\n",
       "\n",
       "    .dataframe thead th {\n",
       "        text-align: right;\n",
       "    }\n",
       "</style>\n",
       "<table border=\"1\" class=\"dataframe\">\n",
       "  <thead>\n",
       "    <tr style=\"text-align: right;\">\n",
       "      <th></th>\n",
       "      <th>SNo</th>\n",
       "      <th>subject</th>\n",
       "      <th>classname</th>\n",
       "      <th>img</th>\n",
       "      <th>duplicate</th>\n",
       "      <th>parent_img</th>\n",
       "      <th>ssim_score</th>\n",
       "    </tr>\n",
       "  </thead>\n",
       "  <tbody>\n",
       "    <tr>\n",
       "      <th>0</th>\n",
       "      <td>0</td>\n",
       "      <td>p002</td>\n",
       "      <td>c0</td>\n",
       "      <td>img_44733.jpg</td>\n",
       "      <td>0</td>\n",
       "      <td>NaN</td>\n",
       "      <td>0.000000</td>\n",
       "    </tr>\n",
       "    <tr>\n",
       "      <th>1</th>\n",
       "      <td>1</td>\n",
       "      <td>p002</td>\n",
       "      <td>c0</td>\n",
       "      <td>img_72999.jpg</td>\n",
       "      <td>1</td>\n",
       "      <td>img_44733.jpg</td>\n",
       "      <td>0.856947</td>\n",
       "    </tr>\n",
       "  </tbody>\n",
       "</table>\n",
       "</div>"
      ],
      "text/plain": [
       "   SNo subject classname            img  duplicate     parent_img  ssim_score\n",
       "0    0    p002        c0  img_44733.jpg          0            NaN    0.000000\n",
       "1    1    p002        c0  img_72999.jpg          1  img_44733.jpg    0.856947"
      ]
     },
     "execution_count": 5,
     "metadata": {},
     "output_type": "execute_result"
    }
   ],
   "source": [
    "df_data = pd.read_csv(\"dam_duplicate_list.csv\")\n",
    "print(\"Shape: \", df_data.shape)\n",
    "df_data.head(2)"
   ]
  },
  {
   "cell_type": "code",
   "execution_count": 6,
   "metadata": {},
   "outputs": [
    {
     "data": {
      "text/plain": [
       "<matplotlib.axes._subplots.AxesSubplot at 0x24b8b638cf8>"
      ]
     },
     "execution_count": 6,
     "metadata": {},
     "output_type": "execute_result"
    },
    {
     "data": {
      "image/png": "[encoded data removed]",
      "text/plain": [
       "<Figure size 432x288 with 1 Axes>"
      ]
     },
     "metadata": {
      "needs_background": "light"
     },
     "output_type": "display_data"
    }
   ],
   "source": [
    "#plotting how the classes are distributed\n",
    "df_data.groupby(df_data[\"classname\"]).count()[\"img\"].plot(kind=\"bar\")"
   ]
  },
  {
   "cell_type": "code",
   "execution_count": 7,
   "metadata": {},
   "outputs": [
    {
     "data": {
      "text/plain": [
       "<matplotlib.axes._subplots.AxesSubplot at 0x24b8cadddd8>"
      ]
     },
     "execution_count": 7,
     "metadata": {},
     "output_type": "execute_result"
    },
    {
     "data": {
      "image/png": "[encoded data removed]",
      "text/plain": [
       "<Figure size 432x288 with 1 Axes>"
      ]
     },
     "metadata": {
      "needs_background": "light"
     },
     "output_type": "display_data"
    }
   ],
   "source": [
    "#plotting how the drivers are distributed across dataset\n",
    "df_data.groupby(df_data[\"subject\"]).count()[\"img\"].plot(kind=\"bar\")"
   ]
  },
  {
   "cell_type": "code",
   "execution_count": 8,
   "metadata": {},
   "outputs": [
    {
     "data": {
      "text/plain": [
       "<matplotlib.axes._subplots.AxesSubplot at 0x24b8caed7b8>"
      ]
     },
     "execution_count": 8,
     "metadata": {},
     "output_type": "execute_result"
    },
    {
     "data": {
      "image/png": "[encoded data removed]",
      "text/plain": [
       "<Figure size 1008x360 with 1 Axes>"
      ]
     },
     "metadata": {
      "needs_background": "light"
     },
     "output_type": "display_data"
    }
   ],
   "source": [
    "# plotting how the drivers are distributed across dataset\n",
    "fig, axs = plt.subplots(1,1,figsize=(14,5))\n",
    "sns.countplot(df_data[\"subject\"], ax = axs)"
   ]
  },
  {
   "cell_type": "code",
   "execution_count": 9,
   "metadata": {},
   "outputs": [
    {
     "name": "stdout",
     "output_type": "stream",
     "text": [
      "Number of unique drivers:  26\n",
      "Number of class:  10\n"
     ]
    }
   ],
   "source": [
    "driver_list = df_data[\"subject\"].unique()\n",
    "class_id_list = df_data[\"classname\"].unique()\n",
    "print(\"Number of unique drivers: \", len(driver_list))\n",
    "print(\"Number of class: \", len(class_id_list))"
   ]
  },
  {
   "cell_type": "code",
   "execution_count": 10,
   "metadata": {},
   "outputs": [
    {
     "data": {
      "text/plain": [
       "c0    2489\n",
       "c3    2346\n",
       "c4    2326\n",
       "c6    2325\n",
       "c2    2317\n",
       "c5    2312\n",
       "c1    2267\n",
       "c9    2129\n",
       "c7    2002\n",
       "c8    1911\n",
       "Name: classname, dtype: int64"
      ]
     },
     "execution_count": 10,
     "metadata": {},
     "output_type": "execute_result"
    }
   ],
   "source": [
    "df_data[\"classname\"].value_counts()"
   ]
  },
  {
   "cell_type": "code",
   "execution_count": 11,
   "metadata": {},
   "outputs": [
    {
     "data": {
      "text/plain": [
       "p021    1237\n",
       "p022    1233\n",
       "p024    1226\n",
       "p026    1196\n",
       "p016    1078\n",
       "p066    1034\n",
       "p049    1011\n",
       "p051     920\n",
       "p014     876\n",
       "p015     875\n",
       "p035     848\n",
       "p047     835\n",
       "p012     823\n",
       "p081     823\n",
       "p064     820\n",
       "p075     814\n",
       "p061     809\n",
       "p056     794\n",
       "p050     790\n",
       "p052     740\n",
       "p002     725\n",
       "p045     724\n",
       "p039     651\n",
       "p041     605\n",
       "p042     591\n",
       "p072     346\n",
       "Name: subject, dtype: int64"
      ]
     },
     "execution_count": 11,
     "metadata": {},
     "output_type": "execute_result"
    }
   ],
   "source": [
    "df_data[\"subject\"].value_counts()"
   ]
  },
  {
   "cell_type": "code",
   "execution_count": 12,
   "metadata": {},
   "outputs": [
    {
     "data": {
      "text/html": [
       "<div>\n",
       "<style scoped>\n",
       "    .dataframe tbody tr th:only-of-type {\n",
       "        vertical-align: middle;\n",
       "    }\n",
       "\n",
       "    .dataframe tbody tr th {\n",
       "        vertical-align: top;\n",
       "    }\n",
       "\n",
       "    .dataframe thead th {\n",
       "        text-align: right;\n",
       "    }\n",
       "</style>\n",
       "<table border=\"1\" class=\"dataframe\">\n",
       "  <thead>\n",
       "    <tr style=\"text-align: right;\">\n",
       "      <th>classname</th>\n",
       "      <th>c0</th>\n",
       "      <th>c1</th>\n",
       "      <th>c2</th>\n",
       "      <th>c3</th>\n",
       "      <th>c4</th>\n",
       "      <th>c5</th>\n",
       "      <th>c6</th>\n",
       "      <th>c7</th>\n",
       "      <th>c8</th>\n",
       "      <th>c9</th>\n",
       "      <th>All</th>\n",
       "    </tr>\n",
       "    <tr>\n",
       "      <th>subject</th>\n",
       "      <th></th>\n",
       "      <th></th>\n",
       "      <th></th>\n",
       "      <th></th>\n",
       "      <th></th>\n",
       "      <th></th>\n",
       "      <th></th>\n",
       "      <th></th>\n",
       "      <th></th>\n",
       "      <th></th>\n",
       "      <th></th>\n",
       "    </tr>\n",
       "  </thead>\n",
       "  <tbody>\n",
       "    <tr>\n",
       "      <th>p002</th>\n",
       "      <td>76</td>\n",
       "      <td>74</td>\n",
       "      <td>86</td>\n",
       "      <td>79</td>\n",
       "      <td>84</td>\n",
       "      <td>76</td>\n",
       "      <td>83</td>\n",
       "      <td>72</td>\n",
       "      <td>44</td>\n",
       "      <td>51</td>\n",
       "      <td>725</td>\n",
       "    </tr>\n",
       "    <tr>\n",
       "      <th>p012</th>\n",
       "      <td>84</td>\n",
       "      <td>95</td>\n",
       "      <td>91</td>\n",
       "      <td>89</td>\n",
       "      <td>97</td>\n",
       "      <td>96</td>\n",
       "      <td>75</td>\n",
       "      <td>72</td>\n",
       "      <td>62</td>\n",
       "      <td>62</td>\n",
       "      <td>823</td>\n",
       "    </tr>\n",
       "    <tr>\n",
       "      <th>p014</th>\n",
       "      <td>100</td>\n",
       "      <td>103</td>\n",
       "      <td>100</td>\n",
       "      <td>100</td>\n",
       "      <td>103</td>\n",
       "      <td>102</td>\n",
       "      <td>101</td>\n",
       "      <td>77</td>\n",
       "      <td>38</td>\n",
       "      <td>52</td>\n",
       "      <td>876</td>\n",
       "    </tr>\n",
       "    <tr>\n",
       "      <th>p015</th>\n",
       "      <td>79</td>\n",
       "      <td>85</td>\n",
       "      <td>88</td>\n",
       "      <td>94</td>\n",
       "      <td>101</td>\n",
       "      <td>101</td>\n",
       "      <td>99</td>\n",
       "      <td>81</td>\n",
       "      <td>86</td>\n",
       "      <td>61</td>\n",
       "      <td>875</td>\n",
       "    </tr>\n",
       "    <tr>\n",
       "      <th>p016</th>\n",
       "      <td>111</td>\n",
       "      <td>102</td>\n",
       "      <td>101</td>\n",
       "      <td>128</td>\n",
       "      <td>104</td>\n",
       "      <td>104</td>\n",
       "      <td>108</td>\n",
       "      <td>101</td>\n",
       "      <td>99</td>\n",
       "      <td>120</td>\n",
       "      <td>1078</td>\n",
       "    </tr>\n",
       "    <tr>\n",
       "      <th>p021</th>\n",
       "      <td>135</td>\n",
       "      <td>131</td>\n",
       "      <td>127</td>\n",
       "      <td>128</td>\n",
       "      <td>132</td>\n",
       "      <td>130</td>\n",
       "      <td>126</td>\n",
       "      <td>98</td>\n",
       "      <td>99</td>\n",
       "      <td>131</td>\n",
       "      <td>1237</td>\n",
       "    </tr>\n",
       "    <tr>\n",
       "      <th>p022</th>\n",
       "      <td>129</td>\n",
       "      <td>129</td>\n",
       "      <td>128</td>\n",
       "      <td>129</td>\n",
       "      <td>130</td>\n",
       "      <td>130</td>\n",
       "      <td>131</td>\n",
       "      <td>98</td>\n",
       "      <td>98</td>\n",
       "      <td>131</td>\n",
       "      <td>1233</td>\n",
       "    </tr>\n",
       "    <tr>\n",
       "      <th>p024</th>\n",
       "      <td>130</td>\n",
       "      <td>129</td>\n",
       "      <td>128</td>\n",
       "      <td>130</td>\n",
       "      <td>129</td>\n",
       "      <td>131</td>\n",
       "      <td>129</td>\n",
       "      <td>101</td>\n",
       "      <td>99</td>\n",
       "      <td>120</td>\n",
       "      <td>1226</td>\n",
       "    </tr>\n",
       "    <tr>\n",
       "      <th>p026</th>\n",
       "      <td>130</td>\n",
       "      <td>129</td>\n",
       "      <td>130</td>\n",
       "      <td>131</td>\n",
       "      <td>126</td>\n",
       "      <td>130</td>\n",
       "      <td>128</td>\n",
       "      <td>97</td>\n",
       "      <td>97</td>\n",
       "      <td>98</td>\n",
       "      <td>1196</td>\n",
       "    </tr>\n",
       "    <tr>\n",
       "      <th>p035</th>\n",
       "      <td>94</td>\n",
       "      <td>81</td>\n",
       "      <td>88</td>\n",
       "      <td>89</td>\n",
       "      <td>89</td>\n",
       "      <td>89</td>\n",
       "      <td>94</td>\n",
       "      <td>87</td>\n",
       "      <td>56</td>\n",
       "      <td>81</td>\n",
       "      <td>848</td>\n",
       "    </tr>\n",
       "    <tr>\n",
       "      <th>p039</th>\n",
       "      <td>65</td>\n",
       "      <td>63</td>\n",
       "      <td>70</td>\n",
       "      <td>65</td>\n",
       "      <td>62</td>\n",
       "      <td>64</td>\n",
       "      <td>63</td>\n",
       "      <td>64</td>\n",
       "      <td>70</td>\n",
       "      <td>65</td>\n",
       "      <td>651</td>\n",
       "    </tr>\n",
       "    <tr>\n",
       "      <th>p041</th>\n",
       "      <td>60</td>\n",
       "      <td>64</td>\n",
       "      <td>60</td>\n",
       "      <td>60</td>\n",
       "      <td>60</td>\n",
       "      <td>61</td>\n",
       "      <td>61</td>\n",
       "      <td>61</td>\n",
       "      <td>59</td>\n",
       "      <td>59</td>\n",
       "      <td>605</td>\n",
       "    </tr>\n",
       "    <tr>\n",
       "      <th>p042</th>\n",
       "      <td>59</td>\n",
       "      <td>59</td>\n",
       "      <td>60</td>\n",
       "      <td>59</td>\n",
       "      <td>58</td>\n",
       "      <td>59</td>\n",
       "      <td>59</td>\n",
       "      <td>59</td>\n",
       "      <td>59</td>\n",
       "      <td>60</td>\n",
       "      <td>591</td>\n",
       "    </tr>\n",
       "    <tr>\n",
       "      <th>p045</th>\n",
       "      <td>75</td>\n",
       "      <td>75</td>\n",
       "      <td>76</td>\n",
       "      <td>75</td>\n",
       "      <td>75</td>\n",
       "      <td>76</td>\n",
       "      <td>71</td>\n",
       "      <td>67</td>\n",
       "      <td>66</td>\n",
       "      <td>68</td>\n",
       "      <td>724</td>\n",
       "    </tr>\n",
       "    <tr>\n",
       "      <th>p047</th>\n",
       "      <td>80</td>\n",
       "      <td>91</td>\n",
       "      <td>81</td>\n",
       "      <td>86</td>\n",
       "      <td>82</td>\n",
       "      <td>87</td>\n",
       "      <td>81</td>\n",
       "      <td>82</td>\n",
       "      <td>82</td>\n",
       "      <td>83</td>\n",
       "      <td>835</td>\n",
       "    </tr>\n",
       "    <tr>\n",
       "      <th>p049</th>\n",
       "      <td>84</td>\n",
       "      <td>85</td>\n",
       "      <td>119</td>\n",
       "      <td>110</td>\n",
       "      <td>109</td>\n",
       "      <td>116</td>\n",
       "      <td>119</td>\n",
       "      <td>74</td>\n",
       "      <td>79</td>\n",
       "      <td>116</td>\n",
       "      <td>1011</td>\n",
       "    </tr>\n",
       "    <tr>\n",
       "      <th>p050</th>\n",
       "      <td>123</td>\n",
       "      <td>45</td>\n",
       "      <td>52</td>\n",
       "      <td>98</td>\n",
       "      <td>83</td>\n",
       "      <td>91</td>\n",
       "      <td>82</td>\n",
       "      <td>81</td>\n",
       "      <td>65</td>\n",
       "      <td>70</td>\n",
       "      <td>790</td>\n",
       "    </tr>\n",
       "    <tr>\n",
       "      <th>p051</th>\n",
       "      <td>182</td>\n",
       "      <td>81</td>\n",
       "      <td>81</td>\n",
       "      <td>83</td>\n",
       "      <td>81</td>\n",
       "      <td>83</td>\n",
       "      <td>95</td>\n",
       "      <td>80</td>\n",
       "      <td>62</td>\n",
       "      <td>92</td>\n",
       "      <td>920</td>\n",
       "    </tr>\n",
       "    <tr>\n",
       "      <th>p052</th>\n",
       "      <td>72</td>\n",
       "      <td>71</td>\n",
       "      <td>84</td>\n",
       "      <td>75</td>\n",
       "      <td>72</td>\n",
       "      <td>72</td>\n",
       "      <td>77</td>\n",
       "      <td>71</td>\n",
       "      <td>71</td>\n",
       "      <td>75</td>\n",
       "      <td>740</td>\n",
       "    </tr>\n",
       "    <tr>\n",
       "      <th>p056</th>\n",
       "      <td>81</td>\n",
       "      <td>80</td>\n",
       "      <td>80</td>\n",
       "      <td>78</td>\n",
       "      <td>82</td>\n",
       "      <td>81</td>\n",
       "      <td>80</td>\n",
       "      <td>74</td>\n",
       "      <td>83</td>\n",
       "      <td>75</td>\n",
       "      <td>794</td>\n",
       "    </tr>\n",
       "    <tr>\n",
       "      <th>p061</th>\n",
       "      <td>84</td>\n",
       "      <td>81</td>\n",
       "      <td>81</td>\n",
       "      <td>83</td>\n",
       "      <td>79</td>\n",
       "      <td>81</td>\n",
       "      <td>80</td>\n",
       "      <td>79</td>\n",
       "      <td>81</td>\n",
       "      <td>80</td>\n",
       "      <td>809</td>\n",
       "    </tr>\n",
       "    <tr>\n",
       "      <th>p064</th>\n",
       "      <td>83</td>\n",
       "      <td>81</td>\n",
       "      <td>83</td>\n",
       "      <td>84</td>\n",
       "      <td>86</td>\n",
       "      <td>85</td>\n",
       "      <td>82</td>\n",
       "      <td>79</td>\n",
       "      <td>81</td>\n",
       "      <td>76</td>\n",
       "      <td>820</td>\n",
       "    </tr>\n",
       "    <tr>\n",
       "      <th>p066</th>\n",
       "      <td>129</td>\n",
       "      <td>100</td>\n",
       "      <td>106</td>\n",
       "      <td>101</td>\n",
       "      <td>102</td>\n",
       "      <td>101</td>\n",
       "      <td>105</td>\n",
       "      <td>86</td>\n",
       "      <td>114</td>\n",
       "      <td>90</td>\n",
       "      <td>1034</td>\n",
       "    </tr>\n",
       "    <tr>\n",
       "      <th>p072</th>\n",
       "      <td>63</td>\n",
       "      <td>62</td>\n",
       "      <td>36</td>\n",
       "      <td>31</td>\n",
       "      <td>34</td>\n",
       "      <td>6</td>\n",
       "      <td>35</td>\n",
       "      <td>2</td>\n",
       "      <td>21</td>\n",
       "      <td>56</td>\n",
       "      <td>346</td>\n",
       "    </tr>\n",
       "    <tr>\n",
       "      <th>p075</th>\n",
       "      <td>81</td>\n",
       "      <td>81</td>\n",
       "      <td>85</td>\n",
       "      <td>79</td>\n",
       "      <td>89</td>\n",
       "      <td>79</td>\n",
       "      <td>82</td>\n",
       "      <td>82</td>\n",
       "      <td>79</td>\n",
       "      <td>77</td>\n",
       "      <td>814</td>\n",
       "    </tr>\n",
       "    <tr>\n",
       "      <th>p081</th>\n",
       "      <td>100</td>\n",
       "      <td>90</td>\n",
       "      <td>96</td>\n",
       "      <td>82</td>\n",
       "      <td>77</td>\n",
       "      <td>81</td>\n",
       "      <td>79</td>\n",
       "      <td>77</td>\n",
       "      <td>61</td>\n",
       "      <td>80</td>\n",
       "      <td>823</td>\n",
       "    </tr>\n",
       "    <tr>\n",
       "      <th>All</th>\n",
       "      <td>2489</td>\n",
       "      <td>2267</td>\n",
       "      <td>2317</td>\n",
       "      <td>2346</td>\n",
       "      <td>2326</td>\n",
       "      <td>2312</td>\n",
       "      <td>2325</td>\n",
       "      <td>2002</td>\n",
       "      <td>1911</td>\n",
       "      <td>2129</td>\n",
       "      <td>22424</td>\n",
       "    </tr>\n",
       "  </tbody>\n",
       "</table>\n",
       "</div>"
      ],
      "text/plain": [
       "classname    c0    c1    c2    c3    c4    c5    c6    c7    c8    c9    All\n",
       "subject                                                                     \n",
       "p002         76    74    86    79    84    76    83    72    44    51    725\n",
       "p012         84    95    91    89    97    96    75    72    62    62    823\n",
       "p014        100   103   100   100   103   102   101    77    38    52    876\n",
       "p015         79    85    88    94   101   101    99    81    86    61    875\n",
       "p016        111   102   101   128   104   104   108   101    99   120   1078\n",
       "p021        135   131   127   128   132   130   126    98    99   131   1237\n",
       "p022        129   129   128   129   130   130   131    98    98   131   1233\n",
       "p024        130   129   128   130   129   131   129   101    99   120   1226\n",
       "p026        130   129   130   131   126   130   128    97    97    98   1196\n",
       "p035         94    81    88    89    89    89    94    87    56    81    848\n",
       "p039         65    63    70    65    62    64    63    64    70    65    651\n",
       "p041         60    64    60    60    60    61    61    61    59    59    605\n",
       "p042         59    59    60    59    58    59    59    59    59    60    591\n",
       "p045         75    75    76    75    75    76    71    67    66    68    724\n",
       "p047         80    91    81    86    82    87    81    82    82    83    835\n",
       "p049         84    85   119   110   109   116   119    74    79   116   1011\n",
       "p050        123    45    52    98    83    91    82    81    65    70    790\n",
       "p051        182    81    81    83    81    83    95    80    62    92    920\n",
       "p052         72    71    84    75    72    72    77    71    71    75    740\n",
       "p056         81    80    80    78    82    81    80    74    83    75    794\n",
       "p061         84    81    81    83    79    81    80    79    81    80    809\n",
       "p064         83    81    83    84    86    85    82    79    81    76    820\n",
       "p066        129   100   106   101   102   101   105    86   114    90   1034\n",
       "p072         63    62    36    31    34     6    35     2    21    56    346\n",
       "p075         81    81    85    79    89    79    82    82    79    77    814\n",
       "p081        100    90    96    82    77    81    79    77    61    80    823\n",
       "All        2489  2267  2317  2346  2326  2312  2325  2002  1911  2129  22424"
      ]
     },
     "execution_count": 12,
     "metadata": {},
     "output_type": "execute_result"
    }
   ],
   "source": [
    "## CrossTable: drivers and class distibution\n",
    "df_ct_class_driver = pd.crosstab(df_data[\"classname\"], df_data[\"subject\"],margins =True).T\n",
    "df_ct_class_driver"
   ]
  },
  {
   "cell_type": "code",
   "execution_count": 13,
   "metadata": {},
   "outputs": [
    {
     "data": {
      "text/plain": [
       "<matplotlib.axes._subplots.AxesSubplot at 0x24b8ccab6d8>"
      ]
     },
     "execution_count": 13,
     "metadata": {},
     "output_type": "execute_result"
    },
    {
     "data": {
      "image/png": "[encoded data removed]",
      "text/plain": [
       "<Figure size 432x288 with 1 Axes>"
      ]
     },
     "metadata": {
      "needs_background": "light"
     },
     "output_type": "display_data"
    }
   ],
   "source": [
    "# visualize how drivers are distirbuted witin a class\n",
    "classname = \"c0\"\n",
    "df_ct_class_driver[classname][:-1].plot(kind=\"bar\")"
   ]
  },
  {
   "cell_type": "code",
   "execution_count": 14,
   "metadata": {},
   "outputs": [
    {
     "data": {
      "text/plain": [
       "<matplotlib.axes._subplots.AxesSubplot at 0x24b8cd5f518>"
      ]
     },
     "execution_count": 14,
     "metadata": {},
     "output_type": "execute_result"
    },
    {
     "data": {
      "image/png": "[encoded data removed]",
      "text/plain": [
       "<Figure size 432x288 with 1 Axes>"
      ]
     },
     "metadata": {
      "needs_background": "light"
     },
     "output_type": "display_data"
    }
   ],
   "source": [
    "# visualize how particular driver is distirbuted across classes\n",
    "driverid = \"p051\"\n",
    "df_ct_class_driver.T[driverid][:-1].plot(kind=\"bar\")"
   ]
  },
  {
   "cell_type": "code",
   "execution_count": 15,
   "metadata": {},
   "outputs": [
    {
     "name": "stdout",
     "output_type": "stream",
     "text": [
      "Number of unique drivers in class c0: 26\n",
      "Number of unique drivers in class c1: 26\n",
      "Number of unique drivers in class c2: 26\n",
      "Number of unique drivers in class c3: 26\n",
      "Number of unique drivers in class c4: 26\n",
      "Number of unique drivers in class c5: 26\n",
      "Number of unique drivers in class c6: 26\n",
      "Number of unique drivers in class c7: 26\n",
      "Number of unique drivers in class c8: 26\n",
      "Number of unique drivers in class c9: 26\n"
     ]
    }
   ],
   "source": [
    "# get number of unique driver representing each classes\n",
    "for c in class_id_list:\n",
    "    cnt = df_data[df_data[\"classname\"] == c][\"subject\"].unique().shape[0] \n",
    "    print(\"Number of unique drivers in class {}: {}\".format(c, cnt))"
   ]
  },
  {
   "cell_type": "code",
   "execution_count": 16,
   "metadata": {},
   "outputs": [
    {
     "name": "stdout",
     "output_type": "stream",
     "text": [
      "MIN_NUM_IMGS_PER_DRIVER:  2\n",
      "MAX_NUM_IMGS_PER_DRIVER:  182\n"
     ]
    }
   ],
   "source": [
    "# get minimum and maxmimum of driver's samples in class across dataset\n",
    "CNT_PER_DRIVER_LIST = []\n",
    "for c in class_id_list:\n",
    "    for d in driver_list:\n",
    "        cnt = df_data[(df_data[\"classname\"] == c) & (df_data[\"subject\"] == d)].shape[0]     \n",
    "        CNT_PER_DRIVER_LIST.append(cnt)\n",
    "        \n",
    "MAX_NUM_IMGS_PER_DRIVER = np.max(CNT_PER_DRIVER_LIST)\n",
    "MIN_NUM_IMGS_PER_DRIVER = np.min(CNT_PER_DRIVER_LIST)\n",
    "print(\"MIN_NUM_IMGS_PER_DRIVER: \", MIN_NUM_IMGS_PER_DRIVER)\n",
    "print(\"MAX_NUM_IMGS_PER_DRIVER: \", MAX_NUM_IMGS_PER_DRIVER)"
   ]
  },
  {
   "cell_type": "code",
   "execution_count": 17,
   "metadata": {},
   "outputs": [
    {
     "data": {
      "text/plain": [
       "classname\n",
       "c0      59\n",
       "c1      45\n",
       "c2      36\n",
       "c3      31\n",
       "c4      34\n",
       "c5       6\n",
       "c6      35\n",
       "c7       2\n",
       "c8      21\n",
       "c9      51\n",
       "All    346\n",
       "dtype: int64"
      ]
     },
     "execution_count": 17,
     "metadata": {},
     "output_type": "execute_result"
    }
   ],
   "source": [
    "# minimum representation of any driver in class\n",
    "np.min(df_ct_class_driver[:-1])"
   ]
  },
  {
   "cell_type": "code",
   "execution_count": 18,
   "metadata": {},
   "outputs": [
    {
     "data": {
      "text/plain": [
       "classname\n",
       "c0      182\n",
       "c1      131\n",
       "c2      130\n",
       "c3      131\n",
       "c4      132\n",
       "c5      131\n",
       "c6      131\n",
       "c7      101\n",
       "c8      114\n",
       "c9      131\n",
       "All    1237\n",
       "dtype: int64"
      ]
     },
     "execution_count": 18,
     "metadata": {},
     "output_type": "execute_result"
    }
   ],
   "source": [
    "# maximum representation of any driver in class\n",
    "np.max(df_ct_class_driver[:-1])"
   ]
  },
  {
   "cell_type": "code",
   "execution_count": 19,
   "metadata": {},
   "outputs": [
    {
     "data": {
      "text/plain": [
       "0    11621\n",
       "1    10803\n",
       "Name: duplicate, dtype: int64"
      ]
     },
     "execution_count": 19,
     "metadata": {},
     "output_type": "execute_result"
    }
   ],
   "source": [
    "df_data[\"duplicate\"].value_counts()"
   ]
  },
  {
   "cell_type": "code",
   "execution_count": 20,
   "metadata": {},
   "outputs": [
    {
     "data": {
      "text/html": [
       "<div>\n",
       "<style scoped>\n",
       "    .dataframe tbody tr th:only-of-type {\n",
       "        vertical-align: middle;\n",
       "    }\n",
       "\n",
       "    .dataframe tbody tr th {\n",
       "        vertical-align: top;\n",
       "    }\n",
       "\n",
       "    .dataframe thead th {\n",
       "        text-align: right;\n",
       "    }\n",
       "</style>\n",
       "<table border=\"1\" class=\"dataframe\">\n",
       "  <thead>\n",
       "    <tr style=\"text-align: right;\">\n",
       "      <th>classname</th>\n",
       "      <th>c0</th>\n",
       "      <th>c1</th>\n",
       "      <th>c2</th>\n",
       "      <th>c3</th>\n",
       "      <th>c4</th>\n",
       "      <th>c5</th>\n",
       "      <th>c6</th>\n",
       "      <th>c7</th>\n",
       "      <th>c8</th>\n",
       "      <th>c9</th>\n",
       "      <th>All</th>\n",
       "    </tr>\n",
       "    <tr>\n",
       "      <th>duplicate</th>\n",
       "      <th></th>\n",
       "      <th></th>\n",
       "      <th></th>\n",
       "      <th></th>\n",
       "      <th></th>\n",
       "      <th></th>\n",
       "      <th></th>\n",
       "      <th></th>\n",
       "      <th></th>\n",
       "      <th></th>\n",
       "      <th></th>\n",
       "    </tr>\n",
       "  </thead>\n",
       "  <tbody>\n",
       "    <tr>\n",
       "      <th>0</th>\n",
       "      <td>1051</td>\n",
       "      <td>963</td>\n",
       "      <td>854</td>\n",
       "      <td>863</td>\n",
       "      <td>1147</td>\n",
       "      <td>1336</td>\n",
       "      <td>1251</td>\n",
       "      <td>1635</td>\n",
       "      <td>1471</td>\n",
       "      <td>1050</td>\n",
       "      <td>11621</td>\n",
       "    </tr>\n",
       "    <tr>\n",
       "      <th>1</th>\n",
       "      <td>1438</td>\n",
       "      <td>1304</td>\n",
       "      <td>1463</td>\n",
       "      <td>1483</td>\n",
       "      <td>1179</td>\n",
       "      <td>976</td>\n",
       "      <td>1074</td>\n",
       "      <td>367</td>\n",
       "      <td>440</td>\n",
       "      <td>1079</td>\n",
       "      <td>10803</td>\n",
       "    </tr>\n",
       "    <tr>\n",
       "      <th>All</th>\n",
       "      <td>2489</td>\n",
       "      <td>2267</td>\n",
       "      <td>2317</td>\n",
       "      <td>2346</td>\n",
       "      <td>2326</td>\n",
       "      <td>2312</td>\n",
       "      <td>2325</td>\n",
       "      <td>2002</td>\n",
       "      <td>1911</td>\n",
       "      <td>2129</td>\n",
       "      <td>22424</td>\n",
       "    </tr>\n",
       "  </tbody>\n",
       "</table>\n",
       "</div>"
      ],
      "text/plain": [
       "classname    c0    c1    c2    c3    c4    c5    c6    c7    c8    c9    All\n",
       "duplicate                                                                   \n",
       "0          1051   963   854   863  1147  1336  1251  1635  1471  1050  11621\n",
       "1          1438  1304  1463  1483  1179   976  1074   367   440  1079  10803\n",
       "All        2489  2267  2317  2346  2326  2312  2325  2002  1911  2129  22424"
      ]
     },
     "execution_count": 20,
     "metadata": {},
     "output_type": "execute_result"
    }
   ],
   "source": [
    "## CrossTable: drivers and class distibution\n",
    "df_ct_class_dup = pd.crosstab(df_data[\"classname\"], df_data[\"duplicate\"],margins =True).T\n",
    "df_ct_class_dup"
   ]
  },
  {
   "cell_type": "code",
   "execution_count": 21,
   "metadata": {},
   "outputs": [
    {
     "data": {
      "text/plain": [
       "<matplotlib.axes._subplots.AxesSubplot at 0x24b8cd5f6d8>"
      ]
     },
     "execution_count": 21,
     "metadata": {},
     "output_type": "execute_result"
    },
    {
     "data": {
      "image/png": "[encoded data removed]",
      "text/plain": [
       "<Figure size 432x288 with 1 Axes>"
      ]
     },
     "metadata": {
      "needs_background": "light"
     },
     "output_type": "display_data"
    }
   ],
   "source": [
    "#plotting how the duplicate images based on ssim score exsit among each classes\n",
    "df_ct_class_dup.T[:-1].plot(kind=\"bar\")"
   ]
  },
  {
   "cell_type": "code",
   "execution_count": 22,
   "metadata": {},
   "outputs": [
    {
     "data": {
      "text/plain": [
       "(22424, 7)"
      ]
     },
     "execution_count": 22,
     "metadata": {},
     "output_type": "execute_result"
    }
   ],
   "source": [
    "df_data.shape"
   ]
  },
  {
   "cell_type": "code",
   "execution_count": 23,
   "metadata": {},
   "outputs": [
    {
     "data": {
      "text/plain": [
       "(22424, 8)"
      ]
     },
     "execution_count": 23,
     "metadata": {},
     "output_type": "execute_result"
    }
   ],
   "source": [
    "df_data_final = df_data.copy()\n",
    "df_data_final['duplicate_final'] = df_data_final['duplicate']\n",
    "df_data_final.shape"
   ]
  },
  {
   "cell_type": "markdown",
   "metadata": {},
   "source": [
    "***balancing data***"
   ]
  },
  {
   "cell_type": "code",
   "execution_count": 24,
   "metadata": {},
   "outputs": [],
   "source": [
    "thresh1 = 0.82\n",
    "thresh2 = 0.815\n",
    "thresh3 = 0.81\n",
    "thresh4 = 0.805\n",
    "colnames1 = [\"c0\", \"c1\", \"c2\", \"c3\", \"c9\"]\n",
    "colnames2 = [\"c4\"]\n",
    "colnames3 = [\"c5\", \"c6\"]\n",
    "colnames4 = [\"c8\"]\n",
    "df_data_final.loc[df_data_final[\"classname\"].isin(colnames1) & (df_data_final['ssim_score'] <= thresh1), \"duplicate_final\"] = 0\n",
    "df_data_final.loc[df_data_final[\"classname\"].isin(colnames2) & (df_data_final['ssim_score'] <= thresh2), \"duplicate_final\"] = 0\n",
    "df_data_final.loc[df_data_final[\"classname\"].isin(colnames3) & (df_data_final['ssim_score'] <= thresh3), \"duplicate_final\"] = 0\n",
    "df_data_final.loc[df_data_final[\"classname\"].isin(colnames4) & (df_data_final['ssim_score'] <= thresh4), \"duplicate_final\"] = 0"
   ]
  },
  {
   "cell_type": "code",
   "execution_count": 25,
   "metadata": {},
   "outputs": [
    {
     "data": {
      "text/plain": [
       "0    11621\n",
       "1    10803\n",
       "Name: duplicate, dtype: int64"
      ]
     },
     "execution_count": 25,
     "metadata": {},
     "output_type": "execute_result"
    }
   ],
   "source": [
    "df_data_final['duplicate'].value_counts()"
   ]
  },
  {
   "cell_type": "code",
   "execution_count": 26,
   "metadata": {},
   "outputs": [
    {
     "data": {
      "text/plain": [
       "0    15855\n",
       "1     6569\n",
       "Name: duplicate_final, dtype: int64"
      ]
     },
     "execution_count": 26,
     "metadata": {},
     "output_type": "execute_result"
    }
   ],
   "source": [
    "df_data_final['duplicate_final'].value_counts()"
   ]
  },
  {
   "cell_type": "code",
   "execution_count": 27,
   "metadata": {},
   "outputs": [
    {
     "data": {
      "text/html": [
       "<div>\n",
       "<style scoped>\n",
       "    .dataframe tbody tr th:only-of-type {\n",
       "        vertical-align: middle;\n",
       "    }\n",
       "\n",
       "    .dataframe tbody tr th {\n",
       "        vertical-align: top;\n",
       "    }\n",
       "\n",
       "    .dataframe thead th {\n",
       "        text-align: right;\n",
       "    }\n",
       "</style>\n",
       "<table border=\"1\" class=\"dataframe\">\n",
       "  <thead>\n",
       "    <tr style=\"text-align: right;\">\n",
       "      <th>classname</th>\n",
       "      <th>c0</th>\n",
       "      <th>c1</th>\n",
       "      <th>c2</th>\n",
       "      <th>c3</th>\n",
       "      <th>c4</th>\n",
       "      <th>c5</th>\n",
       "      <th>c6</th>\n",
       "      <th>c7</th>\n",
       "      <th>c8</th>\n",
       "      <th>c9</th>\n",
       "      <th>All</th>\n",
       "    </tr>\n",
       "    <tr>\n",
       "      <th>duplicate_final</th>\n",
       "      <th></th>\n",
       "      <th></th>\n",
       "      <th></th>\n",
       "      <th></th>\n",
       "      <th></th>\n",
       "      <th></th>\n",
       "      <th></th>\n",
       "      <th></th>\n",
       "      <th></th>\n",
       "      <th></th>\n",
       "      <th></th>\n",
       "    </tr>\n",
       "  </thead>\n",
       "  <tbody>\n",
       "    <tr>\n",
       "      <th>0</th>\n",
       "      <td>1550</td>\n",
       "      <td>1567</td>\n",
       "      <td>1584</td>\n",
       "      <td>1585</td>\n",
       "      <td>1640</td>\n",
       "      <td>1643</td>\n",
       "      <td>1562</td>\n",
       "      <td>1635</td>\n",
       "      <td>1563</td>\n",
       "      <td>1526</td>\n",
       "      <td>15855</td>\n",
       "    </tr>\n",
       "    <tr>\n",
       "      <th>1</th>\n",
       "      <td>939</td>\n",
       "      <td>700</td>\n",
       "      <td>733</td>\n",
       "      <td>761</td>\n",
       "      <td>686</td>\n",
       "      <td>669</td>\n",
       "      <td>763</td>\n",
       "      <td>367</td>\n",
       "      <td>348</td>\n",
       "      <td>603</td>\n",
       "      <td>6569</td>\n",
       "    </tr>\n",
       "    <tr>\n",
       "      <th>All</th>\n",
       "      <td>2489</td>\n",
       "      <td>2267</td>\n",
       "      <td>2317</td>\n",
       "      <td>2346</td>\n",
       "      <td>2326</td>\n",
       "      <td>2312</td>\n",
       "      <td>2325</td>\n",
       "      <td>2002</td>\n",
       "      <td>1911</td>\n",
       "      <td>2129</td>\n",
       "      <td>22424</td>\n",
       "    </tr>\n",
       "  </tbody>\n",
       "</table>\n",
       "</div>"
      ],
      "text/plain": [
       "classname          c0    c1    c2    c3    c4    c5    c6    c7    c8    c9  \\\n",
       "duplicate_final                                                               \n",
       "0                1550  1567  1584  1585  1640  1643  1562  1635  1563  1526   \n",
       "1                 939   700   733   761   686   669   763   367   348   603   \n",
       "All              2489  2267  2317  2346  2326  2312  2325  2002  1911  2129   \n",
       "\n",
       "classname          All  \n",
       "duplicate_final         \n",
       "0                15855  \n",
       "1                 6569  \n",
       "All              22424  "
      ]
     },
     "execution_count": 27,
     "metadata": {},
     "output_type": "execute_result"
    }
   ],
   "source": [
    "## CrossTable: drivers and class distibution\n",
    "df_ct_class_dup_final = pd.crosstab(df_data_final[\"classname\"], df_data_final[\"duplicate_final\"],margins =True).T\n",
    "df_ct_class_dup_final"
   ]
  },
  {
   "cell_type": "code",
   "execution_count": 28,
   "metadata": {},
   "outputs": [
    {
     "data": {
      "text/plain": [
       "<matplotlib.axes._subplots.AxesSubplot at 0x24b8cffdc50>"
      ]
     },
     "execution_count": 28,
     "metadata": {},
     "output_type": "execute_result"
    },
    {
     "data": {
      "image/png": "[encoded data removed]",
      "text/plain": [
       "<Figure size 432x288 with 1 Axes>"
      ]
     },
     "metadata": {
      "needs_background": "light"
     },
     "output_type": "display_data"
    }
   ],
   "source": [
    "#plotting how the duplicate images based on ssim score exsit among each classes\n",
    "df_ct_class_dup_final.T[:-1].plot(kind=\"bar\")"
   ]
  },
  {
   "cell_type": "code",
   "execution_count": 30,
   "metadata": {},
   "outputs": [],
   "source": [
    "df_data_final.to_csv(\"dam_duplicate_list_ext.csv\")"
   ]
  }
 ],
 "metadata": {
  "colab": {
   "collapsed_sections": [],
   "name": "R8_External_Lab_Questions.ipynb",
   "provenance": [],
   "version": "0.3.2"
  },
  "kernelspec": {
   "display_name": "Python 3",
   "language": "python",
   "name": "python3"
  },
  "language_info": {
   "codemirror_mode": {
    "name": "ipython",
    "version": 3
   },
   "file_extension": ".py",
   "mimetype": "text/x-python",
   "name": "python",
   "nbconvert_exporter": "python",
   "pygments_lexer": "ipython3",
   "version": "3.7.1"
  }
 },
 "nbformat": 4,
 "nbformat_minor": 1
}
